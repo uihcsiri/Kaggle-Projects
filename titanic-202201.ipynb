{
 "cells": [
  {
   "cell_type": "code",
   "execution_count": 1,
   "id": "dae46bca",
   "metadata": {
    "_cell_guid": "b1076dfc-b9ad-4769-8c92-a6c4dae69d19",
    "_uuid": "8f2839f25d086af736a60e9eeb907d3b93b6e0e5",
    "execution": {
     "iopub.execute_input": "2022-03-28T08:53:23.228143Z",
     "iopub.status.busy": "2022-03-28T08:53:23.226291Z",
     "iopub.status.idle": "2022-03-28T08:53:23.242741Z",
     "shell.execute_reply": "2022-03-28T08:53:23.243716Z",
     "shell.execute_reply.started": "2022-03-28T08:52:18.333185Z"
    },
    "papermill": {
     "duration": 0.077464,
     "end_time": "2022-03-28T08:53:23.244149",
     "exception": false,
     "start_time": "2022-03-28T08:53:23.166685",
     "status": "completed"
    },
    "tags": []
   },
   "outputs": [
    {
     "name": "stdout",
     "output_type": "stream",
     "text": [
      "/kaggle/input/titanic/train.csv\n",
      "/kaggle/input/titanic/test.csv\n",
      "/kaggle/input/titanic/gender_submission.csv\n"
     ]
    }
   ],
   "source": [
    "# This Python 3 environment comes with many helpful analytics libraries installed\n",
    "# It is defined by the kaggle/python Docker image: https://github.com/kaggle/docker-python\n",
    "# For example, here's several helpful packages to load\n",
    "\n",
    "import numpy as np # linear algebra\n",
    "import pandas as pd # data processing, CSV file I/O (e.g. pd.read_csv)\n",
    "\n",
    "# Input data files are available in the read-only \"../input/\" directory\n",
    "# For example, running this (by clicking run or pressing Shift+Enter) will list all files under the input directory\n",
    "\n",
    "import os\n",
    "for dirname, _, filenames in os.walk('/kaggle/input'):\n",
    "    for filename in filenames:\n",
    "        print(os.path.join(dirname, filename))\n",
    "\n",
    "# You can write up to 20GB to the current directory (/kaggle/working/) that gets preserved as output when you create a version using \"Save & Run All\" \n",
    "# You can also write temporary files to /kaggle/temp/, but they won't be saved outside of the current session"
   ]
  },
  {
   "cell_type": "code",
   "execution_count": 2,
   "id": "b2241c49",
   "metadata": {
    "execution": {
     "iopub.execute_input": "2022-03-28T08:53:23.351683Z",
     "iopub.status.busy": "2022-03-28T08:53:23.350660Z",
     "iopub.status.idle": "2022-03-28T08:53:23.385666Z",
     "shell.execute_reply": "2022-03-28T08:53:23.386185Z",
     "shell.execute_reply.started": "2022-03-28T08:52:18.353889Z"
    },
    "papermill": {
     "duration": 0.08903,
     "end_time": "2022-03-28T08:53:23.386359",
     "exception": false,
     "start_time": "2022-03-28T08:53:23.297329",
     "status": "completed"
    },
    "tags": []
   },
   "outputs": [
    {
     "data": {
      "text/plain": [
       "((891, 12),\n",
       "    PassengerId  Survived  Pclass  \\\n",
       " 0            1         0       3   \n",
       " 1            2         1       1   \n",
       " 2            3         1       3   \n",
       " 3            4         1       1   \n",
       " 4            5         0       3   \n",
       " \n",
       "                                                 Name     Sex   Age  SibSp  \\\n",
       " 0                            Braund, Mr. Owen Harris    male  22.0      1   \n",
       " 1  Cumings, Mrs. John Bradley (Florence Briggs Th...  female  38.0      1   \n",
       " 2                             Heikkinen, Miss. Laina  female  26.0      0   \n",
       " 3       Futrelle, Mrs. Jacques Heath (Lily May Peel)  female  35.0      1   \n",
       " 4                           Allen, Mr. William Henry    male  35.0      0   \n",
       " \n",
       "    Parch            Ticket     Fare Cabin Embarked  \n",
       " 0      0         A/5 21171   7.2500   NaN        S  \n",
       " 1      0          PC 17599  71.2833   C85        C  \n",
       " 2      0  STON/O2. 3101282   7.9250   NaN        S  \n",
       " 3      0            113803  53.1000  C123        S  \n",
       " 4      0            373450   8.0500   NaN        S  )"
      ]
     },
     "execution_count": 2,
     "metadata": {},
     "output_type": "execute_result"
    }
   ],
   "source": [
    "train_data = pd.read_csv(\"/kaggle/input/titanic/train.csv\",skipinitialspace = True)\n",
    "train_data.shape, train_data.head()"
   ]
  },
  {
   "cell_type": "code",
   "execution_count": 3,
   "id": "1f7d28f5",
   "metadata": {
    "execution": {
     "iopub.execute_input": "2022-03-28T08:53:23.509494Z",
     "iopub.status.busy": "2022-03-28T08:53:23.508794Z",
     "iopub.status.idle": "2022-03-28T08:53:23.541709Z",
     "shell.execute_reply": "2022-03-28T08:53:23.542234Z",
     "shell.execute_reply.started": "2022-03-28T08:52:18.377092Z"
    },
    "papermill": {
     "duration": 0.102912,
     "end_time": "2022-03-28T08:53:23.542410",
     "exception": false,
     "start_time": "2022-03-28T08:53:23.439498",
     "status": "completed"
    },
    "tags": []
   },
   "outputs": [
    {
     "data": {
      "text/plain": [
       "(       PassengerId    Survived      Pclass         Age       SibSp  \\\n",
       " count   891.000000  891.000000  891.000000  714.000000  891.000000   \n",
       " mean    446.000000    0.383838    2.308642   29.699118    0.523008   \n",
       " std     257.353842    0.486592    0.836071   14.526497    1.102743   \n",
       " min       1.000000    0.000000    1.000000    0.420000    0.000000   \n",
       " 25%     223.500000    0.000000    2.000000   20.125000    0.000000   \n",
       " 50%     446.000000    0.000000    3.000000   28.000000    0.000000   \n",
       " 75%     668.500000    1.000000    3.000000   38.000000    1.000000   \n",
       " max     891.000000    1.000000    3.000000   80.000000    8.000000   \n",
       " \n",
       "             Parch        Fare  \n",
       " count  891.000000  891.000000  \n",
       " mean     0.381594   32.204208  \n",
       " std      0.806057   49.693429  \n",
       " min      0.000000    0.000000  \n",
       " 25%      0.000000    7.910400  \n",
       " 50%      0.000000   14.454200  \n",
       " 75%      0.000000   31.000000  \n",
       " max      6.000000  512.329200  ,\n",
       "                            Name   Sex  Ticket    Cabin Embarked\n",
       " count                       891   891     891      204      889\n",
       " unique                      891     2     681      147        3\n",
       " top     Braund, Mr. Owen Harris  male  347082  B96 B98        S\n",
       " freq                          1   577       7        4      644)"
      ]
     },
     "execution_count": 3,
     "metadata": {},
     "output_type": "execute_result"
    }
   ],
   "source": [
    "train_data.describe(), train_data.describe(include = ['O'])"
   ]
  },
  {
   "cell_type": "code",
   "execution_count": 4,
   "id": "8f0cf467",
   "metadata": {
    "execution": {
     "iopub.execute_input": "2022-03-28T08:53:23.649107Z",
     "iopub.status.busy": "2022-03-28T08:53:23.648398Z",
     "iopub.status.idle": "2022-03-28T08:53:23.670616Z",
     "shell.execute_reply": "2022-03-28T08:53:23.671362Z",
     "shell.execute_reply.started": "2022-03-28T08:52:18.420341Z"
    },
    "papermill": {
     "duration": 0.077444,
     "end_time": "2022-03-28T08:53:23.671604",
     "exception": false,
     "start_time": "2022-03-28T08:53:23.594160",
     "status": "completed"
    },
    "tags": []
   },
   "outputs": [
    {
     "name": "stdout",
     "output_type": "stream",
     "text": [
      "<class 'pandas.core.frame.DataFrame'>\n",
      "RangeIndex: 891 entries, 0 to 890\n",
      "Data columns (total 10 columns):\n",
      " #   Column       Non-Null Count  Dtype  \n",
      "---  ------       --------------  -----  \n",
      " 0   PassengerId  891 non-null    int64  \n",
      " 1   Survived     891 non-null    int64  \n",
      " 2   Pclass       891 non-null    int64  \n",
      " 3   Name         891 non-null    object \n",
      " 4   Sex          891 non-null    object \n",
      " 5   Age          714 non-null    float64\n",
      " 6   SibSp        891 non-null    int64  \n",
      " 7   Parch        891 non-null    int64  \n",
      " 8   Fare         891 non-null    float64\n",
      " 9   Embarked     889 non-null    object \n",
      "dtypes: float64(2), int64(5), object(3)\n",
      "memory usage: 69.7+ KB\n"
     ]
    },
    {
     "data": {
      "text/plain": [
       "(None,\n",
       "    PassengerId  Survived  Pclass  \\\n",
       " 0            1         0       3   \n",
       " 1            2         1       1   \n",
       " 2            3         1       3   \n",
       " 3            4         1       1   \n",
       " 4            5         0       3   \n",
       " \n",
       "                                                 Name     Sex   Age  SibSp  \\\n",
       " 0                            Braund, Mr. Owen Harris    male  22.0      1   \n",
       " 1  Cumings, Mrs. John Bradley (Florence Briggs Th...  female  38.0      1   \n",
       " 2                             Heikkinen, Miss. Laina  female  26.0      0   \n",
       " 3       Futrelle, Mrs. Jacques Heath (Lily May Peel)  female  35.0      1   \n",
       " 4                           Allen, Mr. William Henry    male  35.0      0   \n",
       " \n",
       "    Parch     Fare Embarked  \n",
       " 0      0   7.2500        S  \n",
       " 1      0  71.2833        C  \n",
       " 2      0   7.9250        S  \n",
       " 3      0  53.1000        S  \n",
       " 4      0   8.0500        S  )"
      ]
     },
     "execution_count": 4,
     "metadata": {},
     "output_type": "execute_result"
    }
   ],
   "source": [
    "train_data = train_data.drop(['Ticket', 'Cabin'], axis = 1)\n",
    "train_data.info(), train_data.head()"
   ]
  },
  {
   "cell_type": "code",
   "execution_count": 5,
   "id": "7135f8d9",
   "metadata": {
    "execution": {
     "iopub.execute_input": "2022-03-28T08:53:23.782112Z",
     "iopub.status.busy": "2022-03-28T08:53:23.781436Z",
     "iopub.status.idle": "2022-03-28T08:53:23.804649Z",
     "shell.execute_reply": "2022-03-28T08:53:23.805137Z",
     "shell.execute_reply.started": "2022-03-28T08:52:18.445246Z"
    },
    "papermill": {
     "duration": 0.078573,
     "end_time": "2022-03-28T08:53:23.805315",
     "exception": false,
     "start_time": "2022-03-28T08:53:23.726742",
     "status": "completed"
    },
    "tags": []
   },
   "outputs": [
    {
     "data": {
      "text/html": [
       "<div>\n",
       "<style scoped>\n",
       "    .dataframe tbody tr th:only-of-type {\n",
       "        vertical-align: middle;\n",
       "    }\n",
       "\n",
       "    .dataframe tbody tr th {\n",
       "        vertical-align: top;\n",
       "    }\n",
       "\n",
       "    .dataframe thead th {\n",
       "        text-align: right;\n",
       "    }\n",
       "</style>\n",
       "<table border=\"1\" class=\"dataframe\">\n",
       "  <thead>\n",
       "    <tr style=\"text-align: right;\">\n",
       "      <th></th>\n",
       "      <th>PassengerId</th>\n",
       "      <th>Pclass</th>\n",
       "      <th>Name</th>\n",
       "      <th>Sex</th>\n",
       "      <th>Age</th>\n",
       "      <th>SibSp</th>\n",
       "      <th>Parch</th>\n",
       "      <th>Fare</th>\n",
       "      <th>Embarked</th>\n",
       "    </tr>\n",
       "  </thead>\n",
       "  <tbody>\n",
       "    <tr>\n",
       "      <th>0</th>\n",
       "      <td>892</td>\n",
       "      <td>3</td>\n",
       "      <td>Kelly, Mr. James</td>\n",
       "      <td>male</td>\n",
       "      <td>34.5</td>\n",
       "      <td>0</td>\n",
       "      <td>0</td>\n",
       "      <td>7.8292</td>\n",
       "      <td>Q</td>\n",
       "    </tr>\n",
       "    <tr>\n",
       "      <th>1</th>\n",
       "      <td>893</td>\n",
       "      <td>3</td>\n",
       "      <td>Wilkes, Mrs. James (Ellen Needs)</td>\n",
       "      <td>female</td>\n",
       "      <td>47.0</td>\n",
       "      <td>1</td>\n",
       "      <td>0</td>\n",
       "      <td>7.0000</td>\n",
       "      <td>S</td>\n",
       "    </tr>\n",
       "    <tr>\n",
       "      <th>2</th>\n",
       "      <td>894</td>\n",
       "      <td>2</td>\n",
       "      <td>Myles, Mr. Thomas Francis</td>\n",
       "      <td>male</td>\n",
       "      <td>62.0</td>\n",
       "      <td>0</td>\n",
       "      <td>0</td>\n",
       "      <td>9.6875</td>\n",
       "      <td>Q</td>\n",
       "    </tr>\n",
       "    <tr>\n",
       "      <th>3</th>\n",
       "      <td>895</td>\n",
       "      <td>3</td>\n",
       "      <td>Wirz, Mr. Albert</td>\n",
       "      <td>male</td>\n",
       "      <td>27.0</td>\n",
       "      <td>0</td>\n",
       "      <td>0</td>\n",
       "      <td>8.6625</td>\n",
       "      <td>S</td>\n",
       "    </tr>\n",
       "    <tr>\n",
       "      <th>4</th>\n",
       "      <td>896</td>\n",
       "      <td>3</td>\n",
       "      <td>Hirvonen, Mrs. Alexander (Helga E Lindqvist)</td>\n",
       "      <td>female</td>\n",
       "      <td>22.0</td>\n",
       "      <td>1</td>\n",
       "      <td>1</td>\n",
       "      <td>12.2875</td>\n",
       "      <td>S</td>\n",
       "    </tr>\n",
       "  </tbody>\n",
       "</table>\n",
       "</div>"
      ],
      "text/plain": [
       "   PassengerId  Pclass                                          Name     Sex  \\\n",
       "0          892       3                              Kelly, Mr. James    male   \n",
       "1          893       3              Wilkes, Mrs. James (Ellen Needs)  female   \n",
       "2          894       2                     Myles, Mr. Thomas Francis    male   \n",
       "3          895       3                              Wirz, Mr. Albert    male   \n",
       "4          896       3  Hirvonen, Mrs. Alexander (Helga E Lindqvist)  female   \n",
       "\n",
       "    Age  SibSp  Parch     Fare Embarked  \n",
       "0  34.5      0      0   7.8292        Q  \n",
       "1  47.0      1      0   7.0000        S  \n",
       "2  62.0      0      0   9.6875        Q  \n",
       "3  27.0      0      0   8.6625        S  \n",
       "4  22.0      1      1  12.2875        S  "
      ]
     },
     "execution_count": 5,
     "metadata": {},
     "output_type": "execute_result"
    }
   ],
   "source": [
    "test_data = pd.read_csv(\"/kaggle/input/titanic/test.csv\", skipinitialspace = True)\n",
    "test_data = test_data.drop(['Ticket', 'Cabin'], axis = 1)\n",
    "test_data.head()"
   ]
  },
  {
   "cell_type": "code",
   "execution_count": 6,
   "id": "5e8016fc",
   "metadata": {
    "execution": {
     "iopub.execute_input": "2022-03-28T08:53:23.916320Z",
     "iopub.status.busy": "2022-03-28T08:53:23.915583Z",
     "iopub.status.idle": "2022-03-28T08:53:23.923288Z",
     "shell.execute_reply": "2022-03-28T08:53:23.923771Z",
     "shell.execute_reply.started": "2022-03-28T08:52:18.479765Z"
    },
    "papermill": {
     "duration": 0.064208,
     "end_time": "2022-03-28T08:53:23.923974",
     "exception": false,
     "start_time": "2022-03-28T08:53:23.859766",
     "status": "completed"
    },
    "tags": []
   },
   "outputs": [
    {
     "data": {
      "text/plain": [
       "PassengerId      0\n",
       "Survived         0\n",
       "Pclass           0\n",
       "Name             0\n",
       "Sex              0\n",
       "Age            177\n",
       "SibSp            0\n",
       "Parch            0\n",
       "Fare             0\n",
       "Embarked         2\n",
       "dtype: int64"
      ]
     },
     "execution_count": 6,
     "metadata": {},
     "output_type": "execute_result"
    }
   ],
   "source": [
    "train_data.isna().sum()"
   ]
  },
  {
   "cell_type": "markdown",
   "id": "a4f84a6a",
   "metadata": {
    "papermill": {
     "duration": 0.053268,
     "end_time": "2022-03-28T08:53:24.030784",
     "exception": false,
     "start_time": "2022-03-28T08:53:23.977516",
     "status": "completed"
    },
    "tags": []
   },
   "source": [
    "Only 'Age' and 'Embarked' columns have missing values."
   ]
  },
  {
   "cell_type": "code",
   "execution_count": 7,
   "id": "bcfa9f7d",
   "metadata": {
    "execution": {
     "iopub.execute_input": "2022-03-28T08:53:24.140207Z",
     "iopub.status.busy": "2022-03-28T08:53:24.139478Z",
     "iopub.status.idle": "2022-03-28T08:53:24.146406Z",
     "shell.execute_reply": "2022-03-28T08:53:24.146868Z",
     "shell.execute_reply.started": "2022-03-28T08:52:18.493807Z"
    },
    "papermill": {
     "duration": 0.063256,
     "end_time": "2022-03-28T08:53:24.147062",
     "exception": false,
     "start_time": "2022-03-28T08:53:24.083806",
     "status": "completed"
    },
    "tags": []
   },
   "outputs": [
    {
     "data": {
      "text/plain": [
       "PassengerId     0\n",
       "Pclass          0\n",
       "Name            0\n",
       "Sex             0\n",
       "Age            86\n",
       "SibSp           0\n",
       "Parch           0\n",
       "Fare            1\n",
       "Embarked        0\n",
       "dtype: int64"
      ]
     },
     "execution_count": 7,
     "metadata": {},
     "output_type": "execute_result"
    }
   ],
   "source": [
    "test_data.isna().sum()"
   ]
  },
  {
   "cell_type": "markdown",
   "id": "91f68aa4",
   "metadata": {
    "papermill": {
     "duration": 0.052816,
     "end_time": "2022-03-28T08:53:24.253822",
     "exception": false,
     "start_time": "2022-03-28T08:53:24.201006",
     "status": "completed"
    },
    "tags": []
   },
   "source": [
    "Same as training data. (Only 'Age' and 'Embarked' columns have missing values.)"
   ]
  },
  {
   "cell_type": "code",
   "execution_count": 8,
   "id": "03afe631",
   "metadata": {
    "execution": {
     "iopub.execute_input": "2022-03-28T08:53:24.363806Z",
     "iopub.status.busy": "2022-03-28T08:53:24.363169Z",
     "iopub.status.idle": "2022-03-28T08:53:24.367757Z",
     "shell.execute_reply": "2022-03-28T08:53:24.368228Z",
     "shell.execute_reply.started": "2022-03-28T08:52:18.510286Z"
    },
    "papermill": {
     "duration": 0.061312,
     "end_time": "2022-03-28T08:53:24.368404",
     "exception": false,
     "start_time": "2022-03-28T08:53:24.307092",
     "status": "completed"
    },
    "tags": []
   },
   "outputs": [
    {
     "data": {
      "text/plain": [
       "891"
      ]
     },
     "execution_count": 8,
     "metadata": {},
     "output_type": "execute_result"
    }
   ],
   "source": [
    "train_data['PassengerId'].nunique()"
   ]
  },
  {
   "cell_type": "code",
   "execution_count": 9,
   "id": "8a1f066e",
   "metadata": {
    "execution": {
     "iopub.execute_input": "2022-03-28T08:53:24.487787Z",
     "iopub.status.busy": "2022-03-28T08:53:24.487051Z",
     "iopub.status.idle": "2022-03-28T08:53:24.494013Z",
     "shell.execute_reply": "2022-03-28T08:53:24.494500Z",
     "shell.execute_reply.started": "2022-03-28T08:52:18.525001Z"
    },
    "papermill": {
     "duration": 0.072465,
     "end_time": "2022-03-28T08:53:24.494683",
     "exception": false,
     "start_time": "2022-03-28T08:53:24.422218",
     "status": "completed"
    },
    "tags": []
   },
   "outputs": [
    {
     "data": {
      "text/plain": [
       "(   Survived  Pclass                                               Name  \\\n",
       " 0         0       3                            Braund, Mr. Owen Harris   \n",
       " 1         1       1  Cumings, Mrs. John Bradley (Florence Briggs Th...   \n",
       " 2         1       3                             Heikkinen, Miss. Laina   \n",
       " 3         1       1       Futrelle, Mrs. Jacques Heath (Lily May Peel)   \n",
       " 4         0       3                           Allen, Mr. William Henry   \n",
       " \n",
       "       Sex   Age  SibSp  Parch     Fare Embarked  \n",
       " 0    male  22.0      1      0   7.2500        S  \n",
       " 1  female  38.0      1      0  71.2833        C  \n",
       " 2  female  26.0      0      0   7.9250        S  \n",
       " 3  female  35.0      1      0  53.1000        S  \n",
       " 4    male  35.0      0      0   8.0500        S  ,\n",
       "    PassengerId  Pclass                                          Name     Sex  \\\n",
       " 0          892       3                              Kelly, Mr. James    male   \n",
       " 1          893       3              Wilkes, Mrs. James (Ellen Needs)  female   \n",
       " 2          894       2                     Myles, Mr. Thomas Francis    male   \n",
       " 3          895       3                              Wirz, Mr. Albert    male   \n",
       " 4          896       3  Hirvonen, Mrs. Alexander (Helga E Lindqvist)  female   \n",
       " \n",
       "     Age  SibSp  Parch     Fare Embarked  \n",
       " 0  34.5      0      0   7.8292        Q  \n",
       " 1  47.0      1      0   7.0000        S  \n",
       " 2  62.0      0      0   9.6875        Q  \n",
       " 3  27.0      0      0   8.6625        S  \n",
       " 4  22.0      1      1  12.2875        S  )"
      ]
     },
     "execution_count": 9,
     "metadata": {},
     "output_type": "execute_result"
    }
   ],
   "source": [
    "train_data.drop('PassengerId', axis = 1, inplace = True)\n",
    "\n",
    "#Combine the training data and testing data to do data transformation\n",
    "combine = [train_data, test_data]\n",
    "\n",
    "train_data.head(5), test_data.head(5)"
   ]
  },
  {
   "cell_type": "markdown",
   "id": "69f6dda9",
   "metadata": {
    "papermill": {
     "duration": 0.053646,
     "end_time": "2022-03-28T08:53:24.603081",
     "exception": false,
     "start_time": "2022-03-28T08:53:24.549435",
     "status": "completed"
    },
    "tags": []
   },
   "source": [
    "# Feature Engineering - Categorical Features "
   ]
  },
  {
   "cell_type": "code",
   "execution_count": 10,
   "id": "bc16b1c9",
   "metadata": {
    "execution": {
     "iopub.execute_input": "2022-03-28T08:53:24.715146Z",
     "iopub.status.busy": "2022-03-28T08:53:24.714031Z",
     "iopub.status.idle": "2022-03-28T08:53:24.724618Z",
     "shell.execute_reply": "2022-03-28T08:53:24.724018Z",
     "shell.execute_reply.started": "2022-03-28T08:52:18.552767Z"
    },
    "papermill": {
     "duration": 0.067856,
     "end_time": "2022-03-28T08:53:24.724758",
     "exception": false,
     "start_time": "2022-03-28T08:53:24.656902",
     "status": "completed"
    },
    "tags": []
   },
   "outputs": [
    {
     "name": "stdout",
     "output_type": "stream",
     "text": [
      "3    491\n",
      "1    216\n",
      "2    184\n",
      "Name: Pclass, dtype: int64\n",
      "male      577\n",
      "female    314\n",
      "Name: Sex, dtype: int64\n",
      "S    644\n",
      "C    168\n",
      "Q     77\n",
      "Name: Embarked, dtype: int64\n"
     ]
    }
   ],
   "source": [
    "print(train_data['Pclass'].value_counts())\n",
    "print(train_data['Sex'].value_counts())\n",
    "print(train_data['Embarked'].value_counts())"
   ]
  },
  {
   "cell_type": "code",
   "execution_count": 11,
   "id": "977e5e30",
   "metadata": {
    "execution": {
     "iopub.execute_input": "2022-03-28T08:53:24.840864Z",
     "iopub.status.busy": "2022-03-28T08:53:24.840132Z",
     "iopub.status.idle": "2022-03-28T08:53:24.853716Z",
     "shell.execute_reply": "2022-03-28T08:53:24.854367Z",
     "shell.execute_reply.started": "2022-03-28T08:52:18.566401Z"
    },
    "papermill": {
     "duration": 0.07507,
     "end_time": "2022-03-28T08:53:24.854541",
     "exception": false,
     "start_time": "2022-03-28T08:53:24.779471",
     "status": "completed"
    },
    "tags": []
   },
   "outputs": [
    {
     "data": {
      "text/html": [
       "<div>\n",
       "<style scoped>\n",
       "    .dataframe tbody tr th:only-of-type {\n",
       "        vertical-align: middle;\n",
       "    }\n",
       "\n",
       "    .dataframe tbody tr th {\n",
       "        vertical-align: top;\n",
       "    }\n",
       "\n",
       "    .dataframe thead th {\n",
       "        text-align: right;\n",
       "    }\n",
       "</style>\n",
       "<table border=\"1\" class=\"dataframe\">\n",
       "  <thead>\n",
       "    <tr style=\"text-align: right;\">\n",
       "      <th></th>\n",
       "      <th>Survived</th>\n",
       "      <th>Pclass</th>\n",
       "      <th>Name</th>\n",
       "      <th>Sex</th>\n",
       "      <th>Age</th>\n",
       "      <th>SibSp</th>\n",
       "      <th>Parch</th>\n",
       "      <th>Fare</th>\n",
       "      <th>Embarked</th>\n",
       "    </tr>\n",
       "  </thead>\n",
       "  <tbody>\n",
       "    <tr>\n",
       "      <th>0</th>\n",
       "      <td>0</td>\n",
       "      <td>3</td>\n",
       "      <td>Braund, Mr. Owen Harris</td>\n",
       "      <td>0</td>\n",
       "      <td>22.0</td>\n",
       "      <td>1</td>\n",
       "      <td>0</td>\n",
       "      <td>7.2500</td>\n",
       "      <td>S</td>\n",
       "    </tr>\n",
       "    <tr>\n",
       "      <th>1</th>\n",
       "      <td>1</td>\n",
       "      <td>1</td>\n",
       "      <td>Cumings, Mrs. John Bradley (Florence Briggs Th...</td>\n",
       "      <td>1</td>\n",
       "      <td>38.0</td>\n",
       "      <td>1</td>\n",
       "      <td>0</td>\n",
       "      <td>71.2833</td>\n",
       "      <td>C</td>\n",
       "    </tr>\n",
       "    <tr>\n",
       "      <th>2</th>\n",
       "      <td>1</td>\n",
       "      <td>3</td>\n",
       "      <td>Heikkinen, Miss. Laina</td>\n",
       "      <td>1</td>\n",
       "      <td>26.0</td>\n",
       "      <td>0</td>\n",
       "      <td>0</td>\n",
       "      <td>7.9250</td>\n",
       "      <td>S</td>\n",
       "    </tr>\n",
       "    <tr>\n",
       "      <th>3</th>\n",
       "      <td>1</td>\n",
       "      <td>1</td>\n",
       "      <td>Futrelle, Mrs. Jacques Heath (Lily May Peel)</td>\n",
       "      <td>1</td>\n",
       "      <td>35.0</td>\n",
       "      <td>1</td>\n",
       "      <td>0</td>\n",
       "      <td>53.1000</td>\n",
       "      <td>S</td>\n",
       "    </tr>\n",
       "    <tr>\n",
       "      <th>4</th>\n",
       "      <td>0</td>\n",
       "      <td>3</td>\n",
       "      <td>Allen, Mr. William Henry</td>\n",
       "      <td>0</td>\n",
       "      <td>35.0</td>\n",
       "      <td>0</td>\n",
       "      <td>0</td>\n",
       "      <td>8.0500</td>\n",
       "      <td>S</td>\n",
       "    </tr>\n",
       "  </tbody>\n",
       "</table>\n",
       "</div>"
      ],
      "text/plain": [
       "   Survived  Pclass                                               Name  Sex  \\\n",
       "0         0       3                            Braund, Mr. Owen Harris    0   \n",
       "1         1       1  Cumings, Mrs. John Bradley (Florence Briggs Th...    1   \n",
       "2         1       3                             Heikkinen, Miss. Laina    1   \n",
       "3         1       1       Futrelle, Mrs. Jacques Heath (Lily May Peel)    1   \n",
       "4         0       3                           Allen, Mr. William Henry    0   \n",
       "\n",
       "    Age  SibSp  Parch     Fare Embarked  \n",
       "0  22.0      1      0   7.2500        S  \n",
       "1  38.0      1      0  71.2833        C  \n",
       "2  26.0      0      0   7.9250        S  \n",
       "3  35.0      1      0  53.1000        S  \n",
       "4  35.0      0      0   8.0500        S  "
      ]
     },
     "execution_count": 11,
     "metadata": {},
     "output_type": "execute_result"
    }
   ],
   "source": [
    "#Convert 'Sex' column to numeric values\n",
    "for dataset in combine:\n",
    "    dataset['Sex'] = dataset['Sex'].map( {'female': 1, 'male': 0} ).astype(int)\n",
    "\n",
    "train_data.head()"
   ]
  },
  {
   "cell_type": "code",
   "execution_count": 12,
   "id": "a346754d",
   "metadata": {
    "execution": {
     "iopub.execute_input": "2022-03-28T08:53:24.969274Z",
     "iopub.status.busy": "2022-03-28T08:53:24.968541Z",
     "iopub.status.idle": "2022-03-28T08:53:24.981387Z",
     "shell.execute_reply": "2022-03-28T08:53:24.982013Z",
     "shell.execute_reply.started": "2022-03-28T08:52:18.593646Z"
    },
    "papermill": {
     "duration": 0.072098,
     "end_time": "2022-03-28T08:53:24.982197",
     "exception": false,
     "start_time": "2022-03-28T08:53:24.910099",
     "status": "completed"
    },
    "tags": []
   },
   "outputs": [
    {
     "data": {
      "text/html": [
       "<div>\n",
       "<style scoped>\n",
       "    .dataframe tbody tr th:only-of-type {\n",
       "        vertical-align: middle;\n",
       "    }\n",
       "\n",
       "    .dataframe tbody tr th {\n",
       "        vertical-align: top;\n",
       "    }\n",
       "\n",
       "    .dataframe thead th {\n",
       "        text-align: right;\n",
       "    }\n",
       "</style>\n",
       "<table border=\"1\" class=\"dataframe\">\n",
       "  <thead>\n",
       "    <tr style=\"text-align: right;\">\n",
       "      <th></th>\n",
       "      <th>Survived</th>\n",
       "      <th>Pclass</th>\n",
       "      <th>Name</th>\n",
       "      <th>Sex</th>\n",
       "      <th>Age</th>\n",
       "      <th>SibSp</th>\n",
       "      <th>Parch</th>\n",
       "      <th>Fare</th>\n",
       "      <th>Embarked</th>\n",
       "    </tr>\n",
       "  </thead>\n",
       "  <tbody>\n",
       "    <tr>\n",
       "      <th>61</th>\n",
       "      <td>1</td>\n",
       "      <td>1</td>\n",
       "      <td>Icard, Miss. Amelie</td>\n",
       "      <td>1</td>\n",
       "      <td>38.0</td>\n",
       "      <td>0</td>\n",
       "      <td>0</td>\n",
       "      <td>80.0</td>\n",
       "      <td>NaN</td>\n",
       "    </tr>\n",
       "    <tr>\n",
       "      <th>829</th>\n",
       "      <td>1</td>\n",
       "      <td>1</td>\n",
       "      <td>Stone, Mrs. George Nelson (Martha Evelyn)</td>\n",
       "      <td>1</td>\n",
       "      <td>62.0</td>\n",
       "      <td>0</td>\n",
       "      <td>0</td>\n",
       "      <td>80.0</td>\n",
       "      <td>NaN</td>\n",
       "    </tr>\n",
       "  </tbody>\n",
       "</table>\n",
       "</div>"
      ],
      "text/plain": [
       "     Survived  Pclass                                       Name  Sex   Age  \\\n",
       "61          1       1                        Icard, Miss. Amelie    1  38.0   \n",
       "829         1       1  Stone, Mrs. George Nelson (Martha Evelyn)    1  62.0   \n",
       "\n",
       "     SibSp  Parch  Fare Embarked  \n",
       "61       0      0  80.0      NaN  \n",
       "829      0      0  80.0      NaN  "
      ]
     },
     "execution_count": 12,
     "metadata": {},
     "output_type": "execute_result"
    }
   ],
   "source": [
    "train_data.loc[train_data['Embarked'].isna()]"
   ]
  },
  {
   "cell_type": "markdown",
   "id": "d60f5885",
   "metadata": {
    "papermill": {
     "duration": 0.054999,
     "end_time": "2022-03-28T08:53:25.093822",
     "exception": false,
     "start_time": "2022-03-28T08:53:25.038823",
     "status": "completed"
    },
    "tags": []
   },
   "source": [
    "Found that the 2 records with missing value in 'Embarked'column are both belong to 'Pclass' == 1. I decide to fill the null value with the most frequent value in 'Pclass' == 1. (Because 'Embarked' is most related to 'Pclass')"
   ]
  },
  {
   "cell_type": "code",
   "execution_count": 13,
   "id": "53321243",
   "metadata": {
    "execution": {
     "iopub.execute_input": "2022-03-28T08:53:25.207697Z",
     "iopub.status.busy": "2022-03-28T08:53:25.207024Z",
     "iopub.status.idle": "2022-03-28T08:53:25.214566Z",
     "shell.execute_reply": "2022-03-28T08:53:25.215237Z",
     "shell.execute_reply.started": "2022-03-28T08:52:18.618573Z"
    },
    "papermill": {
     "duration": 0.066371,
     "end_time": "2022-03-28T08:53:25.215419",
     "exception": false,
     "start_time": "2022-03-28T08:53:25.149048",
     "status": "completed"
    },
    "tags": []
   },
   "outputs": [
    {
     "data": {
      "text/plain": [
       "S    127\n",
       "C     85\n",
       "Q      2\n",
       "Name: Embarked, dtype: int64"
      ]
     },
     "execution_count": 13,
     "metadata": {},
     "output_type": "execute_result"
    }
   ],
   "source": [
    "train_data.loc[train_data['Pclass'] == 1, 'Embarked'].value_counts()"
   ]
  },
  {
   "cell_type": "code",
   "execution_count": 14,
   "id": "76ad1086",
   "metadata": {
    "execution": {
     "iopub.execute_input": "2022-03-28T08:53:25.331819Z",
     "iopub.status.busy": "2022-03-28T08:53:25.331139Z",
     "iopub.status.idle": "2022-03-28T08:53:25.349489Z",
     "shell.execute_reply": "2022-03-28T08:53:25.348884Z",
     "shell.execute_reply.started": "2022-03-28T08:52:18.636812Z"
    },
    "papermill": {
     "duration": 0.077272,
     "end_time": "2022-03-28T08:53:25.349646",
     "exception": false,
     "start_time": "2022-03-28T08:53:25.272374",
     "status": "completed"
    },
    "tags": []
   },
   "outputs": [
    {
     "data": {
      "text/plain": [
       "(   Survived  Pclass                                               Name  Sex  \\\n",
       " 0         0       3                            Braund, Mr. Owen Harris    0   \n",
       " 1         1       1  Cumings, Mrs. John Bradley (Florence Briggs Th...    1   \n",
       " 2         1       3                             Heikkinen, Miss. Laina    1   \n",
       " 3         1       1       Futrelle, Mrs. Jacques Heath (Lily May Peel)    1   \n",
       " 4         0       3                           Allen, Mr. William Henry    0   \n",
       " \n",
       "     Age  SibSp  Parch     Fare  Embarked  \n",
       " 0  22.0      1      0   7.2500         0  \n",
       " 1  38.0      1      0  71.2833         1  \n",
       " 2  26.0      0      0   7.9250         0  \n",
       " 3  35.0      1      0  53.1000         0  \n",
       " 4  35.0      0      0   8.0500         0  ,\n",
       "    PassengerId  Pclass                                          Name  Sex  \\\n",
       " 0          892       3                              Kelly, Mr. James    0   \n",
       " 1          893       3              Wilkes, Mrs. James (Ellen Needs)    1   \n",
       " 2          894       2                     Myles, Mr. Thomas Francis    0   \n",
       " 3          895       3                              Wirz, Mr. Albert    0   \n",
       " 4          896       3  Hirvonen, Mrs. Alexander (Helga E Lindqvist)    1   \n",
       " \n",
       "     Age  SibSp  Parch     Fare  Embarked  \n",
       " 0  34.5      0      0   7.8292         2  \n",
       " 1  47.0      1      0   7.0000         0  \n",
       " 2  62.0      0      0   9.6875         2  \n",
       " 3  27.0      0      0   8.6625         0  \n",
       " 4  22.0      1      1  12.2875         0  )"
      ]
     },
     "execution_count": 14,
     "metadata": {},
     "output_type": "execute_result"
    }
   ],
   "source": [
    "#Fill the null value with the most frequent value in 'Pclass' == 1\n",
    "#Note: test_data doesn't have null value in 'Embarked' columns \n",
    "train_data['Embarked'] = train_data['Embarked'].fillna('S')\n",
    "\n",
    "#Convert 'Embarked' columns to numeric values \n",
    "for dataset in combine:\n",
    "    dataset['Embarked'] = dataset['Embarked'].map({'S':0, 'C':1, 'Q':2}).astype(int)\n",
    "train_data.head(), test_data.head()"
   ]
  },
  {
   "cell_type": "code",
   "execution_count": 15,
   "id": "31f6a32b",
   "metadata": {
    "execution": {
     "iopub.execute_input": "2022-03-28T08:53:25.477194Z",
     "iopub.status.busy": "2022-03-28T08:53:25.476511Z",
     "iopub.status.idle": "2022-03-28T08:53:25.502059Z",
     "shell.execute_reply": "2022-03-28T08:53:25.501416Z",
     "shell.execute_reply.started": "2022-03-28T08:52:18.664142Z"
    },
    "papermill": {
     "duration": 0.096408,
     "end_time": "2022-03-28T08:53:25.502215",
     "exception": false,
     "start_time": "2022-03-28T08:53:25.405807",
     "status": "completed"
    },
    "tags": []
   },
   "outputs": [
    {
     "data": {
      "text/html": [
       "<div>\n",
       "<style scoped>\n",
       "    .dataframe tbody tr th:only-of-type {\n",
       "        vertical-align: middle;\n",
       "    }\n",
       "\n",
       "    .dataframe tbody tr th {\n",
       "        vertical-align: top;\n",
       "    }\n",
       "\n",
       "    .dataframe thead th {\n",
       "        text-align: right;\n",
       "    }\n",
       "</style>\n",
       "<table border=\"1\" class=\"dataframe\">\n",
       "  <thead>\n",
       "    <tr style=\"text-align: right;\">\n",
       "      <th>Sex</th>\n",
       "      <th>0</th>\n",
       "      <th>1</th>\n",
       "    </tr>\n",
       "    <tr>\n",
       "      <th>Title</th>\n",
       "      <th></th>\n",
       "      <th></th>\n",
       "    </tr>\n",
       "  </thead>\n",
       "  <tbody>\n",
       "    <tr>\n",
       "      <th>Capt</th>\n",
       "      <td>1</td>\n",
       "      <td>0</td>\n",
       "    </tr>\n",
       "    <tr>\n",
       "      <th>Col</th>\n",
       "      <td>2</td>\n",
       "      <td>0</td>\n",
       "    </tr>\n",
       "    <tr>\n",
       "      <th>Countess</th>\n",
       "      <td>0</td>\n",
       "      <td>1</td>\n",
       "    </tr>\n",
       "    <tr>\n",
       "      <th>Don</th>\n",
       "      <td>1</td>\n",
       "      <td>0</td>\n",
       "    </tr>\n",
       "    <tr>\n",
       "      <th>Dr</th>\n",
       "      <td>6</td>\n",
       "      <td>1</td>\n",
       "    </tr>\n",
       "    <tr>\n",
       "      <th>Jonkheer</th>\n",
       "      <td>1</td>\n",
       "      <td>0</td>\n",
       "    </tr>\n",
       "    <tr>\n",
       "      <th>Lady</th>\n",
       "      <td>0</td>\n",
       "      <td>1</td>\n",
       "    </tr>\n",
       "    <tr>\n",
       "      <th>Major</th>\n",
       "      <td>2</td>\n",
       "      <td>0</td>\n",
       "    </tr>\n",
       "    <tr>\n",
       "      <th>Master</th>\n",
       "      <td>40</td>\n",
       "      <td>0</td>\n",
       "    </tr>\n",
       "    <tr>\n",
       "      <th>Miss</th>\n",
       "      <td>0</td>\n",
       "      <td>182</td>\n",
       "    </tr>\n",
       "    <tr>\n",
       "      <th>Mlle</th>\n",
       "      <td>0</td>\n",
       "      <td>2</td>\n",
       "    </tr>\n",
       "    <tr>\n",
       "      <th>Mme</th>\n",
       "      <td>0</td>\n",
       "      <td>1</td>\n",
       "    </tr>\n",
       "    <tr>\n",
       "      <th>Mr</th>\n",
       "      <td>517</td>\n",
       "      <td>0</td>\n",
       "    </tr>\n",
       "    <tr>\n",
       "      <th>Mrs</th>\n",
       "      <td>0</td>\n",
       "      <td>125</td>\n",
       "    </tr>\n",
       "    <tr>\n",
       "      <th>Ms</th>\n",
       "      <td>0</td>\n",
       "      <td>1</td>\n",
       "    </tr>\n",
       "    <tr>\n",
       "      <th>Rev</th>\n",
       "      <td>6</td>\n",
       "      <td>0</td>\n",
       "    </tr>\n",
       "    <tr>\n",
       "      <th>Sir</th>\n",
       "      <td>1</td>\n",
       "      <td>0</td>\n",
       "    </tr>\n",
       "  </tbody>\n",
       "</table>\n",
       "</div>"
      ],
      "text/plain": [
       "Sex         0    1\n",
       "Title             \n",
       "Capt        1    0\n",
       "Col         2    0\n",
       "Countess    0    1\n",
       "Don         1    0\n",
       "Dr          6    1\n",
       "Jonkheer    1    0\n",
       "Lady        0    1\n",
       "Major       2    0\n",
       "Master     40    0\n",
       "Miss        0  182\n",
       "Mlle        0    2\n",
       "Mme         0    1\n",
       "Mr        517    0\n",
       "Mrs         0  125\n",
       "Ms          0    1\n",
       "Rev         6    0\n",
       "Sir         1    0"
      ]
     },
     "execution_count": 15,
     "metadata": {},
     "output_type": "execute_result"
    }
   ],
   "source": [
    "combine = [train_data, test_data]\n",
    "\n",
    "for dataset in combine:\n",
    "    dataset['Title'] = dataset.Name.str.extract('([A-Za-z]+)\\.', expand = False)\n",
    "pd.crosstab(train_data['Title'], train_data['Sex'])"
   ]
  },
  {
   "cell_type": "code",
   "execution_count": 16,
   "id": "7f438c1a",
   "metadata": {
    "execution": {
     "iopub.execute_input": "2022-03-28T08:53:25.618595Z",
     "iopub.status.busy": "2022-03-28T08:53:25.617968Z",
     "iopub.status.idle": "2022-03-28T08:53:25.639858Z",
     "shell.execute_reply": "2022-03-28T08:53:25.639298Z",
     "shell.execute_reply.started": "2022-03-28T08:52:18.701424Z"
    },
    "papermill": {
     "duration": 0.081331,
     "end_time": "2022-03-28T08:53:25.640046",
     "exception": false,
     "start_time": "2022-03-28T08:53:25.558715",
     "status": "completed"
    },
    "tags": []
   },
   "outputs": [
    {
     "name": "stdout",
     "output_type": "stream",
     "text": [
      "    Title  Survived\n",
      "0  Master  0.575000\n",
      "1    Miss  0.704301\n",
      "2      Mr  0.156673\n",
      "3     Mrs  0.792000\n",
      "4    Rare  0.347826\n"
     ]
    }
   ],
   "source": [
    "for dataset in combine:\n",
    "    dataset['Title'] = dataset['Title'].replace(['Lady','Countess','Capt','Col','Don','Dr','Major','Rev','Sir','Jonkheer','Dona'], 'Rare')\n",
    "    dataset['Title'] = dataset['Title'].replace('Mlle', 'Miss')\n",
    "    dataset['Title'] = dataset['Title'].replace('Ms', 'Miss')\n",
    "    dataset['Title'] = dataset['Title'].replace('Mme', 'Miss')\n",
    "print(train_data[['Title', 'Survived']].groupby(['Title'], as_index = False).mean())"
   ]
  },
  {
   "cell_type": "code",
   "execution_count": 17,
   "id": "fc1d7cc6",
   "metadata": {
    "execution": {
     "iopub.execute_input": "2022-03-28T08:53:25.766657Z",
     "iopub.status.busy": "2022-03-28T08:53:25.765828Z",
     "iopub.status.idle": "2022-03-28T08:53:25.773138Z",
     "shell.execute_reply": "2022-03-28T08:53:25.773607Z",
     "shell.execute_reply.started": "2022-03-28T08:52:18.726636Z"
    },
    "papermill": {
     "duration": 0.075727,
     "end_time": "2022-03-28T08:53:25.773785",
     "exception": false,
     "start_time": "2022-03-28T08:53:25.698058",
     "status": "completed"
    },
    "tags": []
   },
   "outputs": [
    {
     "name": "stdout",
     "output_type": "stream",
     "text": [
      "1    517\n",
      "2    186\n",
      "3    125\n",
      "4     40\n",
      "5     23\n",
      "Name: Title, dtype: int64\n"
     ]
    }
   ],
   "source": [
    "title_mapping = {'Mr': 1, 'Miss': 2, 'Mrs': 3, 'Master': 4, 'Rare':5}\n",
    "for dataset in combine:\n",
    "    dataset['Title'] = dataset['Title'].map(title_mapping)\n",
    "    dataset['Title'] = dataset['Title'].fillna(0)\n",
    "    \n",
    "print(train_data['Title'].value_counts())"
   ]
  },
  {
   "cell_type": "code",
   "execution_count": 18,
   "id": "6d69a362",
   "metadata": {
    "execution": {
     "iopub.execute_input": "2022-03-28T08:53:25.904349Z",
     "iopub.status.busy": "2022-03-28T08:53:25.893952Z",
     "iopub.status.idle": "2022-03-28T08:53:25.908576Z",
     "shell.execute_reply": "2022-03-28T08:53:25.908033Z",
     "shell.execute_reply.started": "2022-03-28T08:52:18.742234Z"
    },
    "papermill": {
     "duration": 0.07714,
     "end_time": "2022-03-28T08:53:25.908723",
     "exception": false,
     "start_time": "2022-03-28T08:53:25.831583",
     "status": "completed"
    },
    "tags": []
   },
   "outputs": [
    {
     "data": {
      "text/plain": [
       "(   Survived  Pclass  Sex   Age  SibSp  Parch     Fare  Embarked  Title\n",
       " 0         0       3    0  22.0      1      0   7.2500         0      1\n",
       " 1         1       1    1  38.0      1      0  71.2833         1      3\n",
       " 2         1       3    1  26.0      0      0   7.9250         0      2\n",
       " 3         1       1    1  35.0      1      0  53.1000         0      3\n",
       " 4         0       3    0  35.0      0      0   8.0500         0      1,\n",
       "    PassengerId  Pclass  Sex   Age  SibSp  Parch     Fare  Embarked  Title\n",
       " 0          892       3    0  34.5      0      0   7.8292         2      1\n",
       " 1          893       3    1  47.0      1      0   7.0000         0      3\n",
       " 2          894       2    0  62.0      0      0   9.6875         2      1\n",
       " 3          895       3    0  27.0      0      0   8.6625         0      1\n",
       " 4          896       3    1  22.0      1      1  12.2875         0      3)"
      ]
     },
     "execution_count": 18,
     "metadata": {},
     "output_type": "execute_result"
    }
   ],
   "source": [
    "#train_data = train_data.drop(['Title'], axis = 1)\n",
    "#test_data = test_data.drop(['Title'], axis = 1)\n",
    "#combine = [train_data, test_data]\n",
    "\n",
    "for dataset in combine:\n",
    "    dataset.drop(['Name'], axis = 1, inplace = True)\n",
    "\n",
    "train_data.head(5), test_data.head(5)"
   ]
  },
  {
   "cell_type": "markdown",
   "id": "cd8fcd90",
   "metadata": {
    "papermill": {
     "duration": 0.057768,
     "end_time": "2022-03-28T08:53:26.024201",
     "exception": false,
     "start_time": "2022-03-28T08:53:25.966433",
     "status": "completed"
    },
    "tags": []
   },
   "source": [
    "# See the Interactive Relationship within Features"
   ]
  },
  {
   "cell_type": "code",
   "execution_count": 19,
   "id": "34562bed",
   "metadata": {
    "execution": {
     "iopub.execute_input": "2022-03-28T08:53:26.148188Z",
     "iopub.status.busy": "2022-03-28T08:53:26.147336Z",
     "iopub.status.idle": "2022-03-28T08:53:27.112968Z",
     "shell.execute_reply": "2022-03-28T08:53:27.112357Z",
     "shell.execute_reply.started": "2022-03-28T08:52:18.766970Z"
    },
    "papermill": {
     "duration": 1.030052,
     "end_time": "2022-03-28T08:53:27.113124",
     "exception": false,
     "start_time": "2022-03-28T08:53:26.083072",
     "status": "completed"
    },
    "tags": []
   },
   "outputs": [],
   "source": [
    "import seaborn as sns\n",
    "from matplotlib import pyplot as plt\n",
    "import matplotlib.pyplot as plt\n",
    "\n",
    "%matplotlib inline\n",
    "sns.set_style(\"whitegrid\")"
   ]
  },
  {
   "cell_type": "code",
   "execution_count": 20,
   "id": "65265d45",
   "metadata": {
    "execution": {
     "iopub.execute_input": "2022-03-28T08:53:27.237826Z",
     "iopub.status.busy": "2022-03-28T08:53:27.236842Z",
     "iopub.status.idle": "2022-03-28T08:53:27.988496Z",
     "shell.execute_reply": "2022-03-28T08:53:27.987905Z",
     "shell.execute_reply.started": "2022-03-28T08:52:18.777769Z"
    },
    "papermill": {
     "duration": 0.818656,
     "end_time": "2022-03-28T08:53:27.988626",
     "exception": false,
     "start_time": "2022-03-28T08:53:27.169970",
     "status": "completed"
    },
    "tags": []
   },
   "outputs": [
    {
     "data": {
      "text/plain": [
       "<AxesSubplot:>"
      ]
     },
     "execution_count": 20,
     "metadata": {},
     "output_type": "execute_result"
    },
    {
     "data": {
      "image/png": "[encoded data removed]",
      "text/plain": [
       "<Figure size 720x504 with 2 Axes>"
      ]
     },
     "metadata": {},
     "output_type": "display_data"
    }
   ],
   "source": [
    "crr = train_data.corr(method = 'pearson')\n",
    "plt.figure(figsize = (10, 7))\n",
    "sns.heatmap(crr, annot = True)"
   ]
  },
  {
   "cell_type": "code",
   "execution_count": 21,
   "id": "d831e65e",
   "metadata": {
    "execution": {
     "iopub.execute_input": "2022-03-28T08:53:28.114135Z",
     "iopub.status.busy": "2022-03-28T08:53:28.113408Z",
     "iopub.status.idle": "2022-03-28T08:53:41.952265Z",
     "shell.execute_reply": "2022-03-28T08:53:41.952775Z",
     "shell.execute_reply.started": "2022-03-28T08:52:20.672136Z"
    },
    "papermill": {
     "duration": 13.904691,
     "end_time": "2022-03-28T08:53:41.952960",
     "exception": false,
     "start_time": "2022-03-28T08:53:28.048269",
     "status": "completed"
    },
    "tags": []
   },
   "outputs": [
    {
     "data": {
      "image/png": "[encoded data removed]",
      "text/plain": [
       "<Figure size 972x972 with 90 Axes>"
      ]
     },
     "metadata": {},
     "output_type": "display_data"
    }
   ],
   "source": [
    "sns.pairplot(train_data, height=1.5)\n",
    "plt.show()"
   ]
  },
  {
   "cell_type": "code",
   "execution_count": 22,
   "id": "2df16125",
   "metadata": {
    "execution": {
     "iopub.execute_input": "2022-03-28T08:53:42.085577Z",
     "iopub.status.busy": "2022-03-28T08:53:42.084905Z",
     "iopub.status.idle": "2022-03-28T08:53:42.097563Z",
     "shell.execute_reply": "2022-03-28T08:53:42.098048Z",
     "shell.execute_reply.started": "2022-03-28T08:52:37.620013Z"
    },
    "papermill": {
     "duration": 0.080692,
     "end_time": "2022-03-28T08:53:42.098217",
     "exception": false,
     "start_time": "2022-03-28T08:53:42.017525",
     "status": "completed"
    },
    "tags": []
   },
   "outputs": [
    {
     "data": {
      "text/html": [
       "<div>\n",
       "<style scoped>\n",
       "    .dataframe tbody tr th:only-of-type {\n",
       "        vertical-align: middle;\n",
       "    }\n",
       "\n",
       "    .dataframe tbody tr th {\n",
       "        vertical-align: top;\n",
       "    }\n",
       "\n",
       "    .dataframe thead th {\n",
       "        text-align: right;\n",
       "    }\n",
       "</style>\n",
       "<table border=\"1\" class=\"dataframe\">\n",
       "  <thead>\n",
       "    <tr style=\"text-align: right;\">\n",
       "      <th></th>\n",
       "      <th>Pclass</th>\n",
       "      <th>Survived</th>\n",
       "    </tr>\n",
       "  </thead>\n",
       "  <tbody>\n",
       "    <tr>\n",
       "      <th>0</th>\n",
       "      <td>1</td>\n",
       "      <td>0.629630</td>\n",
       "    </tr>\n",
       "    <tr>\n",
       "      <th>1</th>\n",
       "      <td>2</td>\n",
       "      <td>0.472826</td>\n",
       "    </tr>\n",
       "    <tr>\n",
       "      <th>2</th>\n",
       "      <td>3</td>\n",
       "      <td>0.242363</td>\n",
       "    </tr>\n",
       "  </tbody>\n",
       "</table>\n",
       "</div>"
      ],
      "text/plain": [
       "   Pclass  Survived\n",
       "0       1  0.629630\n",
       "1       2  0.472826\n",
       "2       3  0.242363"
      ]
     },
     "execution_count": 22,
     "metadata": {},
     "output_type": "execute_result"
    }
   ],
   "source": [
    "train_data[['Pclass','Survived']].groupby(['Pclass'], as_index = False).mean().sort_values(by = 'Survived', ascending = False)"
   ]
  },
  {
   "cell_type": "code",
   "execution_count": 23,
   "id": "5ac261c7",
   "metadata": {
    "execution": {
     "iopub.execute_input": "2022-03-28T08:53:42.240581Z",
     "iopub.status.busy": "2022-03-28T08:53:42.239930Z",
     "iopub.status.idle": "2022-03-28T08:53:42.243607Z",
     "shell.execute_reply": "2022-03-28T08:53:42.243107Z",
     "shell.execute_reply.started": "2022-03-28T08:52:37.642740Z"
    },
    "papermill": {
     "duration": 0.081887,
     "end_time": "2022-03-28T08:53:42.243749",
     "exception": false,
     "start_time": "2022-03-28T08:53:42.161862",
     "status": "completed"
    },
    "tags": []
   },
   "outputs": [
    {
     "data": {
      "text/html": [
       "<div>\n",
       "<style scoped>\n",
       "    .dataframe tbody tr th:only-of-type {\n",
       "        vertical-align: middle;\n",
       "    }\n",
       "\n",
       "    .dataframe tbody tr th {\n",
       "        vertical-align: top;\n",
       "    }\n",
       "\n",
       "    .dataframe thead th {\n",
       "        text-align: right;\n",
       "    }\n",
       "</style>\n",
       "<table border=\"1\" class=\"dataframe\">\n",
       "  <thead>\n",
       "    <tr style=\"text-align: right;\">\n",
       "      <th></th>\n",
       "      <th>Sex</th>\n",
       "      <th>Survived</th>\n",
       "    </tr>\n",
       "  </thead>\n",
       "  <tbody>\n",
       "    <tr>\n",
       "      <th>1</th>\n",
       "      <td>1</td>\n",
       "      <td>0.742038</td>\n",
       "    </tr>\n",
       "    <tr>\n",
       "      <th>0</th>\n",
       "      <td>0</td>\n",
       "      <td>0.188908</td>\n",
       "    </tr>\n",
       "  </tbody>\n",
       "</table>\n",
       "</div>"
      ],
      "text/plain": [
       "   Sex  Survived\n",
       "1    1  0.742038\n",
       "0    0  0.188908"
      ]
     },
     "execution_count": 23,
     "metadata": {},
     "output_type": "execute_result"
    }
   ],
   "source": [
    "train_data[['Sex','Survived']].groupby(['Sex'], as_index = False).mean().sort_values(by = 'Survived', ascending = False)"
   ]
  },
  {
   "cell_type": "code",
   "execution_count": 24,
   "id": "1b40408a",
   "metadata": {
    "execution": {
     "iopub.execute_input": "2022-03-28T08:53:42.386390Z",
     "iopub.status.busy": "2022-03-28T08:53:42.385476Z",
     "iopub.status.idle": "2022-03-28T08:53:42.388462Z",
     "shell.execute_reply": "2022-03-28T08:53:42.388948Z",
     "shell.execute_reply.started": "2022-03-28T08:52:37.667879Z"
    },
    "papermill": {
     "duration": 0.08101,
     "end_time": "2022-03-28T08:53:42.389153",
     "exception": false,
     "start_time": "2022-03-28T08:53:42.308143",
     "status": "completed"
    },
    "tags": []
   },
   "outputs": [
    {
     "data": {
      "text/html": [
       "<div>\n",
       "<style scoped>\n",
       "    .dataframe tbody tr th:only-of-type {\n",
       "        vertical-align: middle;\n",
       "    }\n",
       "\n",
       "    .dataframe tbody tr th {\n",
       "        vertical-align: top;\n",
       "    }\n",
       "\n",
       "    .dataframe thead th {\n",
       "        text-align: right;\n",
       "    }\n",
       "</style>\n",
       "<table border=\"1\" class=\"dataframe\">\n",
       "  <thead>\n",
       "    <tr style=\"text-align: right;\">\n",
       "      <th></th>\n",
       "      <th>SibSp</th>\n",
       "      <th>Survived</th>\n",
       "    </tr>\n",
       "  </thead>\n",
       "  <tbody>\n",
       "    <tr>\n",
       "      <th>1</th>\n",
       "      <td>1</td>\n",
       "      <td>0.535885</td>\n",
       "    </tr>\n",
       "    <tr>\n",
       "      <th>2</th>\n",
       "      <td>2</td>\n",
       "      <td>0.464286</td>\n",
       "    </tr>\n",
       "    <tr>\n",
       "      <th>0</th>\n",
       "      <td>0</td>\n",
       "      <td>0.345395</td>\n",
       "    </tr>\n",
       "    <tr>\n",
       "      <th>3</th>\n",
       "      <td>3</td>\n",
       "      <td>0.250000</td>\n",
       "    </tr>\n",
       "    <tr>\n",
       "      <th>4</th>\n",
       "      <td>4</td>\n",
       "      <td>0.166667</td>\n",
       "    </tr>\n",
       "    <tr>\n",
       "      <th>5</th>\n",
       "      <td>5</td>\n",
       "      <td>0.000000</td>\n",
       "    </tr>\n",
       "    <tr>\n",
       "      <th>6</th>\n",
       "      <td>8</td>\n",
       "      <td>0.000000</td>\n",
       "    </tr>\n",
       "  </tbody>\n",
       "</table>\n",
       "</div>"
      ],
      "text/plain": [
       "   SibSp  Survived\n",
       "1      1  0.535885\n",
       "2      2  0.464286\n",
       "0      0  0.345395\n",
       "3      3  0.250000\n",
       "4      4  0.166667\n",
       "5      5  0.000000\n",
       "6      8  0.000000"
      ]
     },
     "execution_count": 24,
     "metadata": {},
     "output_type": "execute_result"
    }
   ],
   "source": [
    "train_data[['SibSp','Survived']].groupby(['SibSp'], as_index = False).mean().sort_values(by = 'Survived', ascending = False)"
   ]
  },
  {
   "cell_type": "code",
   "execution_count": 25,
   "id": "379e531e",
   "metadata": {
    "execution": {
     "iopub.execute_input": "2022-03-28T08:53:42.528762Z",
     "iopub.status.busy": "2022-03-28T08:53:42.527791Z",
     "iopub.status.idle": "2022-03-28T08:53:42.537973Z",
     "shell.execute_reply": "2022-03-28T08:53:42.537343Z",
     "shell.execute_reply.started": "2022-03-28T08:52:37.695904Z"
    },
    "papermill": {
     "duration": 0.082767,
     "end_time": "2022-03-28T08:53:42.538140",
     "exception": false,
     "start_time": "2022-03-28T08:53:42.455373",
     "status": "completed"
    },
    "tags": []
   },
   "outputs": [
    {
     "data": {
      "text/html": [
       "<div>\n",
       "<style scoped>\n",
       "    .dataframe tbody tr th:only-of-type {\n",
       "        vertical-align: middle;\n",
       "    }\n",
       "\n",
       "    .dataframe tbody tr th {\n",
       "        vertical-align: top;\n",
       "    }\n",
       "\n",
       "    .dataframe thead th {\n",
       "        text-align: right;\n",
       "    }\n",
       "</style>\n",
       "<table border=\"1\" class=\"dataframe\">\n",
       "  <thead>\n",
       "    <tr style=\"text-align: right;\">\n",
       "      <th></th>\n",
       "      <th>Parch</th>\n",
       "      <th>Survived</th>\n",
       "    </tr>\n",
       "  </thead>\n",
       "  <tbody>\n",
       "    <tr>\n",
       "      <th>3</th>\n",
       "      <td>3</td>\n",
       "      <td>0.600000</td>\n",
       "    </tr>\n",
       "    <tr>\n",
       "      <th>1</th>\n",
       "      <td>1</td>\n",
       "      <td>0.550847</td>\n",
       "    </tr>\n",
       "    <tr>\n",
       "      <th>2</th>\n",
       "      <td>2</td>\n",
       "      <td>0.500000</td>\n",
       "    </tr>\n",
       "    <tr>\n",
       "      <th>0</th>\n",
       "      <td>0</td>\n",
       "      <td>0.343658</td>\n",
       "    </tr>\n",
       "    <tr>\n",
       "      <th>5</th>\n",
       "      <td>5</td>\n",
       "      <td>0.200000</td>\n",
       "    </tr>\n",
       "    <tr>\n",
       "      <th>4</th>\n",
       "      <td>4</td>\n",
       "      <td>0.000000</td>\n",
       "    </tr>\n",
       "    <tr>\n",
       "      <th>6</th>\n",
       "      <td>6</td>\n",
       "      <td>0.000000</td>\n",
       "    </tr>\n",
       "  </tbody>\n",
       "</table>\n",
       "</div>"
      ],
      "text/plain": [
       "   Parch  Survived\n",
       "3      3  0.600000\n",
       "1      1  0.550847\n",
       "2      2  0.500000\n",
       "0      0  0.343658\n",
       "5      5  0.200000\n",
       "4      4  0.000000\n",
       "6      6  0.000000"
      ]
     },
     "execution_count": 25,
     "metadata": {},
     "output_type": "execute_result"
    }
   ],
   "source": [
    "train_data[['Parch','Survived']].groupby(['Parch'], as_index = False).mean().sort_values(by = 'Survived', ascending = False)"
   ]
  },
  {
   "cell_type": "code",
   "execution_count": 26,
   "id": "18b6b45c",
   "metadata": {
    "execution": {
     "iopub.execute_input": "2022-03-28T08:53:42.682469Z",
     "iopub.status.busy": "2022-03-28T08:53:42.681696Z",
     "iopub.status.idle": "2022-03-28T08:53:42.684734Z",
     "shell.execute_reply": "2022-03-28T08:53:42.685223Z",
     "shell.execute_reply.started": "2022-03-28T08:52:37.723321Z"
    },
    "papermill": {
     "duration": 0.081639,
     "end_time": "2022-03-28T08:53:42.685380",
     "exception": false,
     "start_time": "2022-03-28T08:53:42.603741",
     "status": "completed"
    },
    "tags": []
   },
   "outputs": [
    {
     "data": {
      "text/html": [
       "<div>\n",
       "<style scoped>\n",
       "    .dataframe tbody tr th:only-of-type {\n",
       "        vertical-align: middle;\n",
       "    }\n",
       "\n",
       "    .dataframe tbody tr th {\n",
       "        vertical-align: top;\n",
       "    }\n",
       "\n",
       "    .dataframe thead th {\n",
       "        text-align: right;\n",
       "    }\n",
       "</style>\n",
       "<table border=\"1\" class=\"dataframe\">\n",
       "  <thead>\n",
       "    <tr style=\"text-align: right;\">\n",
       "      <th></th>\n",
       "      <th>Embarked</th>\n",
       "      <th>Survived</th>\n",
       "    </tr>\n",
       "  </thead>\n",
       "  <tbody>\n",
       "    <tr>\n",
       "      <th>1</th>\n",
       "      <td>1</td>\n",
       "      <td>0.553571</td>\n",
       "    </tr>\n",
       "    <tr>\n",
       "      <th>2</th>\n",
       "      <td>2</td>\n",
       "      <td>0.389610</td>\n",
       "    </tr>\n",
       "    <tr>\n",
       "      <th>0</th>\n",
       "      <td>0</td>\n",
       "      <td>0.339009</td>\n",
       "    </tr>\n",
       "  </tbody>\n",
       "</table>\n",
       "</div>"
      ],
      "text/plain": [
       "   Embarked  Survived\n",
       "1         1  0.553571\n",
       "2         2  0.389610\n",
       "0         0  0.339009"
      ]
     },
     "execution_count": 26,
     "metadata": {},
     "output_type": "execute_result"
    }
   ],
   "source": [
    "train_data[['Embarked','Survived']].groupby(['Embarked'], as_index = False).mean().sort_values(by = 'Survived', ascending = False)"
   ]
  },
  {
   "cell_type": "code",
   "execution_count": 27,
   "id": "81ae57e4",
   "metadata": {
    "execution": {
     "iopub.execute_input": "2022-03-28T08:53:42.821880Z",
     "iopub.status.busy": "2022-03-28T08:53:42.820931Z",
     "iopub.status.idle": "2022-03-28T08:53:42.834044Z",
     "shell.execute_reply": "2022-03-28T08:53:42.834571Z",
     "shell.execute_reply.started": "2022-03-28T08:52:37.749187Z"
    },
    "papermill": {
     "duration": 0.08274,
     "end_time": "2022-03-28T08:53:42.834732",
     "exception": false,
     "start_time": "2022-03-28T08:53:42.751992",
     "status": "completed"
    },
    "tags": []
   },
   "outputs": [
    {
     "data": {
      "text/html": [
       "<div>\n",
       "<style scoped>\n",
       "    .dataframe tbody tr th:only-of-type {\n",
       "        vertical-align: middle;\n",
       "    }\n",
       "\n",
       "    .dataframe tbody tr th {\n",
       "        vertical-align: top;\n",
       "    }\n",
       "\n",
       "    .dataframe thead th {\n",
       "        text-align: right;\n",
       "    }\n",
       "</style>\n",
       "<table border=\"1\" class=\"dataframe\">\n",
       "  <thead>\n",
       "    <tr style=\"text-align: right;\">\n",
       "      <th></th>\n",
       "      <th>Title</th>\n",
       "      <th>Survived</th>\n",
       "    </tr>\n",
       "  </thead>\n",
       "  <tbody>\n",
       "    <tr>\n",
       "      <th>2</th>\n",
       "      <td>3</td>\n",
       "      <td>0.792000</td>\n",
       "    </tr>\n",
       "    <tr>\n",
       "      <th>1</th>\n",
       "      <td>2</td>\n",
       "      <td>0.704301</td>\n",
       "    </tr>\n",
       "    <tr>\n",
       "      <th>3</th>\n",
       "      <td>4</td>\n",
       "      <td>0.575000</td>\n",
       "    </tr>\n",
       "    <tr>\n",
       "      <th>4</th>\n",
       "      <td>5</td>\n",
       "      <td>0.347826</td>\n",
       "    </tr>\n",
       "    <tr>\n",
       "      <th>0</th>\n",
       "      <td>1</td>\n",
       "      <td>0.156673</td>\n",
       "    </tr>\n",
       "  </tbody>\n",
       "</table>\n",
       "</div>"
      ],
      "text/plain": [
       "   Title  Survived\n",
       "2      3  0.792000\n",
       "1      2  0.704301\n",
       "3      4  0.575000\n",
       "4      5  0.347826\n",
       "0      1  0.156673"
      ]
     },
     "execution_count": 27,
     "metadata": {},
     "output_type": "execute_result"
    }
   ],
   "source": [
    "train_data[['Title','Survived']].groupby(['Title'], as_index = False).mean().sort_values(by = 'Survived', ascending = False)"
   ]
  },
  {
   "cell_type": "code",
   "execution_count": 28,
   "id": "5465032c",
   "metadata": {
    "execution": {
     "iopub.execute_input": "2022-03-28T08:53:42.971903Z",
     "iopub.status.busy": "2022-03-28T08:53:42.970893Z",
     "iopub.status.idle": "2022-03-28T08:53:43.706797Z",
     "shell.execute_reply": "2022-03-28T08:53:43.707434Z",
     "shell.execute_reply.started": "2022-03-28T08:52:37.776908Z"
    },
    "papermill": {
     "duration": 0.806086,
     "end_time": "2022-03-28T08:53:43.707612",
     "exception": false,
     "start_time": "2022-03-28T08:53:42.901526",
     "status": "completed"
    },
    "tags": []
   },
   "outputs": [
    {
     "data": {
      "text/plain": [
       "<seaborn.axisgrid.FacetGrid at 0x7fc7a0505a90>"
      ]
     },
     "execution_count": 28,
     "metadata": {},
     "output_type": "execute_result"
    },
    {
     "data": {
      "image/png": "[encoded data removed]",
      "text/plain": [
       "<Figure size 432x216 with 2 Axes>"
      ]
     },
     "metadata": {},
     "output_type": "display_data"
    }
   ],
   "source": [
    "g = sns.FacetGrid(train_data, col = 'Survived')\n",
    "g.map(plt.hist, 'Age', bins = 20)"
   ]
  },
  {
   "cell_type": "code",
   "execution_count": 29,
   "id": "71ee6730",
   "metadata": {
    "execution": {
     "iopub.execute_input": "2022-03-28T08:53:43.855898Z",
     "iopub.status.busy": "2022-03-28T08:53:43.854947Z",
     "iopub.status.idle": "2022-03-28T08:53:45.693587Z",
     "shell.execute_reply": "2022-03-28T08:53:45.694086Z",
     "shell.execute_reply.started": "2022-03-28T08:52:38.567114Z"
    },
    "papermill": {
     "duration": 1.918203,
     "end_time": "2022-03-28T08:53:45.694252",
     "exception": false,
     "start_time": "2022-03-28T08:53:43.776049",
     "status": "completed"
    },
    "tags": []
   },
   "outputs": [
    {
     "data": {
      "text/plain": [
       "<seaborn.axisgrid.FacetGrid at 0x7fc79e8bb250>"
      ]
     },
     "execution_count": 29,
     "metadata": {},
     "output_type": "execute_result"
    },
    {
     "data": {
      "image/png": "[encoded data removed]",
      "text/plain": [
       "<Figure size 514.88x475.2 with 6 Axes>"
      ]
     },
     "metadata": {},
     "output_type": "display_data"
    }
   ],
   "source": [
    "grid = sns.FacetGrid(train_data, col = 'Survived', row = 'Pclass', height = 2.2, aspect = 1.6)\n",
    "grid.map(plt.hist, 'Age', alpha = 0.5, bins = 20)\n",
    "grid.add_legend()"
   ]
  },
  {
   "cell_type": "code",
   "execution_count": 30,
   "id": "0b71248d",
   "metadata": {
    "execution": {
     "iopub.execute_input": "2022-03-28T08:53:45.835490Z",
     "iopub.status.busy": "2022-03-28T08:53:45.834545Z",
     "iopub.status.idle": "2022-03-28T08:53:46.561722Z",
     "shell.execute_reply": "2022-03-28T08:53:46.561136Z",
     "shell.execute_reply.started": "2022-03-28T08:52:40.661156Z"
    },
    "papermill": {
     "duration": 0.7995,
     "end_time": "2022-03-28T08:53:46.561870",
     "exception": false,
     "start_time": "2022-03-28T08:53:45.762370",
     "status": "completed"
    },
    "tags": []
   },
   "outputs": [
    {
     "data": {
      "text/plain": [
       "<seaborn.axisgrid.FacetGrid at 0x7fc79e8b0c50>"
      ]
     },
     "execution_count": 30,
     "metadata": {},
     "output_type": "execute_result"
    },
    {
     "data": {
      "image/png": "[encoded data removed]",
      "text/plain": [
       "<Figure size 432x216 with 2 Axes>"
      ]
     },
     "metadata": {},
     "output_type": "display_data"
    }
   ],
   "source": [
    "g = sns.FacetGrid(train_data, col = 'Survived')\n",
    "g.map(plt.hist, 'SibSp', bins = 20)"
   ]
  },
  {
   "cell_type": "code",
   "execution_count": 31,
   "id": "ee9270b9",
   "metadata": {
    "execution": {
     "iopub.execute_input": "2022-03-28T08:53:46.705122Z",
     "iopub.status.busy": "2022-03-28T08:53:46.704536Z",
     "iopub.status.idle": "2022-03-28T08:53:47.334601Z",
     "shell.execute_reply": "2022-03-28T08:53:47.335100Z",
     "shell.execute_reply.started": "2022-03-28T08:52:41.419236Z"
    },
    "papermill": {
     "duration": 0.703013,
     "end_time": "2022-03-28T08:53:47.335296",
     "exception": false,
     "start_time": "2022-03-28T08:53:46.632283",
     "status": "completed"
    },
    "tags": []
   },
   "outputs": [
    {
     "data": {
      "text/plain": [
       "<seaborn.axisgrid.FacetGrid at 0x7fc7a0505350>"
      ]
     },
     "execution_count": 31,
     "metadata": {},
     "output_type": "execute_result"
    },
    {
     "data": {
      "image/png": "[encoded data removed]",
      "text/plain": [
       "<Figure size 432x216 with 2 Axes>"
      ]
     },
     "metadata": {},
     "output_type": "display_data"
    }
   ],
   "source": [
    "g = sns.FacetGrid(train_data, col = 'Survived')\n",
    "g.map(plt.hist, 'Parch', bins = 20)"
   ]
  },
  {
   "cell_type": "markdown",
   "id": "63728062",
   "metadata": {
    "papermill": {
     "duration": 0.070125,
     "end_time": "2022-03-28T08:53:47.475947",
     "exception": false,
     "start_time": "2022-03-28T08:53:47.405822",
     "status": "completed"
    },
    "tags": []
   },
   "source": [
    "# Feature Engineering - Numeric Features"
   ]
  },
  {
   "cell_type": "code",
   "execution_count": 32,
   "id": "6ca64e6b",
   "metadata": {
    "execution": {
     "iopub.execute_input": "2022-03-28T08:53:47.619985Z",
     "iopub.status.busy": "2022-03-28T08:53:47.619304Z",
     "iopub.status.idle": "2022-03-28T08:53:47.669789Z",
     "shell.execute_reply": "2022-03-28T08:53:47.669175Z",
     "shell.execute_reply.started": "2022-03-28T08:52:42.160420Z"
    },
    "papermill": {
     "duration": 0.124081,
     "end_time": "2022-03-28T08:53:47.669936",
     "exception": false,
     "start_time": "2022-03-28T08:53:47.545855",
     "status": "completed"
    },
    "tags": []
   },
   "outputs": [
    {
     "data": {
      "text/html": [
       "<div>\n",
       "<style scoped>\n",
       "    .dataframe tbody tr th:only-of-type {\n",
       "        vertical-align: middle;\n",
       "    }\n",
       "\n",
       "    .dataframe tbody tr th {\n",
       "        vertical-align: top;\n",
       "    }\n",
       "\n",
       "    .dataframe thead th {\n",
       "        text-align: right;\n",
       "    }\n",
       "</style>\n",
       "<table border=\"1\" class=\"dataframe\">\n",
       "  <thead>\n",
       "    <tr style=\"text-align: right;\">\n",
       "      <th></th>\n",
       "      <th>Age Band</th>\n",
       "      <th>Survived</th>\n",
       "    </tr>\n",
       "  </thead>\n",
       "  <tbody>\n",
       "    <tr>\n",
       "      <th>0</th>\n",
       "      <td>(0.34, 16.336]</td>\n",
       "      <td>0.550000</td>\n",
       "    </tr>\n",
       "    <tr>\n",
       "      <th>1</th>\n",
       "      <td>(16.336, 32.252]</td>\n",
       "      <td>0.336714</td>\n",
       "    </tr>\n",
       "    <tr>\n",
       "      <th>2</th>\n",
       "      <td>(32.252, 48.168]</td>\n",
       "      <td>0.412844</td>\n",
       "    </tr>\n",
       "    <tr>\n",
       "      <th>3</th>\n",
       "      <td>(48.168, 64.084]</td>\n",
       "      <td>0.434783</td>\n",
       "    </tr>\n",
       "    <tr>\n",
       "      <th>4</th>\n",
       "      <td>(64.084, 80.0]</td>\n",
       "      <td>0.090909</td>\n",
       "    </tr>\n",
       "  </tbody>\n",
       "</table>\n",
       "</div>"
      ],
      "text/plain": [
       "           Age Band  Survived\n",
       "0    (0.34, 16.336]  0.550000\n",
       "1  (16.336, 32.252]  0.336714\n",
       "2  (32.252, 48.168]  0.412844\n",
       "3  (48.168, 64.084]  0.434783\n",
       "4    (64.084, 80.0]  0.090909"
      ]
     },
     "execution_count": 32,
     "metadata": {},
     "output_type": "execute_result"
    }
   ],
   "source": [
    "#'Age' column binning \n",
    "guess_ages = np.zeros((2,3))\n",
    "for dataset in combine:\n",
    "    for i in range(0,2):\n",
    "        for j in range(0,3):\n",
    "            guess_df = dataset[(dataset['Sex'] == i) & (dataset['Pclass'] == j+1)]['Age'].dropna()\n",
    "            age_guess = guess_df.median()\n",
    "            guess_ages[i,j] = int(age_guess/ 0.5 +0.5)*0.5\n",
    "\n",
    "for dataset in combine:\n",
    "    for i in range (0,2):\n",
    "        for j in range(0,3):\n",
    "            dataset.loc[(dataset.Age.isnull()) & (dataset.Sex == i) & (dataset.Pclass == j + 1), 'Age']= guess_ages[i,j].astype(int)\n",
    "    \n",
    "train_data['Age Band'] = pd. cut(train_data['Age'], 5)\n",
    "train_data[['Age Band', 'Survived']].groupby(['Age Band'], as_index = False).mean().sort_values(by = 'Age Band', ascending = True)"
   ]
  },
  {
   "cell_type": "code",
   "execution_count": 33,
   "id": "9803696e",
   "metadata": {
    "execution": {
     "iopub.execute_input": "2022-03-28T08:53:47.815882Z",
     "iopub.status.busy": "2022-03-28T08:53:47.815236Z",
     "iopub.status.idle": "2022-03-28T08:53:47.837786Z",
     "shell.execute_reply": "2022-03-28T08:53:47.838351Z",
     "shell.execute_reply.started": "2022-03-28T08:52:42.218574Z"
    },
    "papermill": {
     "duration": 0.097309,
     "end_time": "2022-03-28T08:53:47.838515",
     "exception": false,
     "start_time": "2022-03-28T08:53:47.741206",
     "status": "completed"
    },
    "tags": []
   },
   "outputs": [
    {
     "data": {
      "text/html": [
       "<div>\n",
       "<style scoped>\n",
       "    .dataframe tbody tr th:only-of-type {\n",
       "        vertical-align: middle;\n",
       "    }\n",
       "\n",
       "    .dataframe tbody tr th {\n",
       "        vertical-align: top;\n",
       "    }\n",
       "\n",
       "    .dataframe thead th {\n",
       "        text-align: right;\n",
       "    }\n",
       "</style>\n",
       "<table border=\"1\" class=\"dataframe\">\n",
       "  <thead>\n",
       "    <tr style=\"text-align: right;\">\n",
       "      <th></th>\n",
       "      <th>Survived</th>\n",
       "      <th>Pclass</th>\n",
       "      <th>Sex</th>\n",
       "      <th>Age</th>\n",
       "      <th>SibSp</th>\n",
       "      <th>Parch</th>\n",
       "      <th>Fare</th>\n",
       "      <th>Embarked</th>\n",
       "      <th>Title</th>\n",
       "      <th>Age Band</th>\n",
       "    </tr>\n",
       "  </thead>\n",
       "  <tbody>\n",
       "    <tr>\n",
       "      <th>0</th>\n",
       "      <td>0</td>\n",
       "      <td>3</td>\n",
       "      <td>0</td>\n",
       "      <td>1.0</td>\n",
       "      <td>1</td>\n",
       "      <td>0</td>\n",
       "      <td>7.2500</td>\n",
       "      <td>0</td>\n",
       "      <td>1</td>\n",
       "      <td>(16.336, 32.252]</td>\n",
       "    </tr>\n",
       "    <tr>\n",
       "      <th>1</th>\n",
       "      <td>1</td>\n",
       "      <td>1</td>\n",
       "      <td>1</td>\n",
       "      <td>2.0</td>\n",
       "      <td>1</td>\n",
       "      <td>0</td>\n",
       "      <td>71.2833</td>\n",
       "      <td>1</td>\n",
       "      <td>3</td>\n",
       "      <td>(32.252, 48.168]</td>\n",
       "    </tr>\n",
       "    <tr>\n",
       "      <th>2</th>\n",
       "      <td>1</td>\n",
       "      <td>3</td>\n",
       "      <td>1</td>\n",
       "      <td>1.0</td>\n",
       "      <td>0</td>\n",
       "      <td>0</td>\n",
       "      <td>7.9250</td>\n",
       "      <td>0</td>\n",
       "      <td>2</td>\n",
       "      <td>(16.336, 32.252]</td>\n",
       "    </tr>\n",
       "    <tr>\n",
       "      <th>3</th>\n",
       "      <td>1</td>\n",
       "      <td>1</td>\n",
       "      <td>1</td>\n",
       "      <td>2.0</td>\n",
       "      <td>1</td>\n",
       "      <td>0</td>\n",
       "      <td>53.1000</td>\n",
       "      <td>0</td>\n",
       "      <td>3</td>\n",
       "      <td>(32.252, 48.168]</td>\n",
       "    </tr>\n",
       "    <tr>\n",
       "      <th>4</th>\n",
       "      <td>0</td>\n",
       "      <td>3</td>\n",
       "      <td>0</td>\n",
       "      <td>2.0</td>\n",
       "      <td>0</td>\n",
       "      <td>0</td>\n",
       "      <td>8.0500</td>\n",
       "      <td>0</td>\n",
       "      <td>1</td>\n",
       "      <td>(32.252, 48.168]</td>\n",
       "    </tr>\n",
       "  </tbody>\n",
       "</table>\n",
       "</div>"
      ],
      "text/plain": [
       "   Survived  Pclass  Sex  Age  SibSp  Parch     Fare  Embarked  Title  \\\n",
       "0         0       3    0  1.0      1      0   7.2500         0      1   \n",
       "1         1       1    1  2.0      1      0  71.2833         1      3   \n",
       "2         1       3    1  1.0      0      0   7.9250         0      2   \n",
       "3         1       1    1  2.0      1      0  53.1000         0      3   \n",
       "4         0       3    0  2.0      0      0   8.0500         0      1   \n",
       "\n",
       "           Age Band  \n",
       "0  (16.336, 32.252]  \n",
       "1  (32.252, 48.168]  \n",
       "2  (16.336, 32.252]  \n",
       "3  (32.252, 48.168]  \n",
       "4  (32.252, 48.168]  "
      ]
     },
     "execution_count": 33,
     "metadata": {},
     "output_type": "execute_result"
    }
   ],
   "source": [
    "for dataset in combine:\n",
    "    dataset.loc[dataset['Age'] <= 16, 'Age'] = 0\n",
    "    dataset.loc[(dataset['Age'] > 16) & (dataset['Age'] <= 32), 'Age'] = 1\n",
    "    dataset.loc[(dataset['Age'] > 32) & (dataset['Age'] <= 48), 'Age'] = 2\n",
    "    dataset.loc[(dataset['Age'] > 48) & (dataset['Age'] <= 64), 'Age'] = 3\n",
    "    dataset.loc[dataset['Age'] > 64, 'Age'] = 4\n",
    "\n",
    "train_data.head()"
   ]
  },
  {
   "cell_type": "code",
   "execution_count": 34,
   "id": "3d4b740b",
   "metadata": {
    "execution": {
     "iopub.execute_input": "2022-03-28T08:53:47.986009Z",
     "iopub.status.busy": "2022-03-28T08:53:47.985369Z",
     "iopub.status.idle": "2022-03-28T08:53:47.999279Z",
     "shell.execute_reply": "2022-03-28T08:53:47.999839Z",
     "shell.execute_reply.started": "2022-03-28T08:52:42.249882Z"
    },
    "papermill": {
     "duration": 0.08959,
     "end_time": "2022-03-28T08:53:48.000009",
     "exception": false,
     "start_time": "2022-03-28T08:53:47.910419",
     "status": "completed"
    },
    "tags": []
   },
   "outputs": [
    {
     "data": {
      "text/plain": [
       "(   Survived  Pclass  Sex  Age  SibSp  Parch     Fare  Embarked  Title\n",
       " 0         0       3    0    1      1      0   7.2500         0      1\n",
       " 1         1       1    1    2      1      0  71.2833         1      3\n",
       " 2         1       3    1    1      0      0   7.9250         0      2\n",
       " 3         1       1    1    2      1      0  53.1000         0      3\n",
       " 4         0       3    0    2      0      0   8.0500         0      1,\n",
       "    PassengerId  Pclass  Sex  Age  SibSp  Parch     Fare  Embarked  Title\n",
       " 0          892       3    0    2      0      0   7.8292         2      1\n",
       " 1          893       3    1    2      1      0   7.0000         0      3\n",
       " 2          894       2    0    3      0      0   9.6875         2      1\n",
       " 3          895       3    0    1      0      0   8.6625         0      1\n",
       " 4          896       3    1    1      1      1  12.2875         0      3\n",
       " 5          897       3    0    0      0      0   9.2250         0      1\n",
       " 6          898       3    1    1      0      0   7.6292         2      2\n",
       " 7          899       2    0    1      1      1  29.0000         0      1\n",
       " 8          900       3    1    1      0      0   7.2292         1      3\n",
       " 9          901       3    0    1      2      0  24.1500         0      1)"
      ]
     },
     "execution_count": 34,
     "metadata": {},
     "output_type": "execute_result"
    }
   ],
   "source": [
    "train_data['Age'] = train_data['Age'].astype(int)\n",
    "test_data['Age'] = test_data['Age'].astype(int)\n",
    "train_data = train_data.drop(['Age Band'],axis =1)\n",
    "\n",
    "train_data.head(5), test_data.head(10)"
   ]
  },
  {
   "cell_type": "code",
   "execution_count": 35,
   "id": "27954b89",
   "metadata": {
    "_kg_hide-output": true,
    "execution": {
     "iopub.execute_input": "2022-03-28T08:53:48.147633Z",
     "iopub.status.busy": "2022-03-28T08:53:48.146965Z",
     "iopub.status.idle": "2022-03-28T08:53:48.154384Z",
     "shell.execute_reply": "2022-03-28T08:53:48.154901Z",
     "shell.execute_reply.started": "2022-03-28T08:52:42.274038Z"
    },
    "papermill": {
     "duration": 0.082626,
     "end_time": "2022-03-28T08:53:48.155176",
     "exception": false,
     "start_time": "2022-03-28T08:53:48.072550",
     "status": "completed"
    },
    "tags": []
   },
   "outputs": [
    {
     "data": {
      "text/plain": [
       "0.0"
      ]
     },
     "execution_count": 35,
     "metadata": {},
     "output_type": "execute_result"
    }
   ],
   "source": [
    "#Fill null value in 'Fare' column in testing dataset\n",
    "test_data['Fare'].fillna(test_data['Fare'].dropna().median(), inplace = True)\n",
    "test_data.isna().sum().mean()"
   ]
  },
  {
   "cell_type": "code",
   "execution_count": 36,
   "id": "6f9e2f09",
   "metadata": {
    "execution": {
     "iopub.execute_input": "2022-03-28T08:53:48.303737Z",
     "iopub.status.busy": "2022-03-28T08:53:48.303105Z",
     "iopub.status.idle": "2022-03-28T08:53:48.313056Z",
     "shell.execute_reply": "2022-03-28T08:53:48.313584Z",
     "shell.execute_reply.started": "2022-03-28T08:52:42.286456Z"
    },
    "papermill": {
     "duration": 0.085597,
     "end_time": "2022-03-28T08:53:48.313742",
     "exception": false,
     "start_time": "2022-03-28T08:53:48.228145",
     "status": "completed"
    },
    "tags": []
   },
   "outputs": [
    {
     "data": {
      "text/html": [
       "<div>\n",
       "<style scoped>\n",
       "    .dataframe tbody tr th:only-of-type {\n",
       "        vertical-align: middle;\n",
       "    }\n",
       "\n",
       "    .dataframe tbody tr th {\n",
       "        vertical-align: top;\n",
       "    }\n",
       "\n",
       "    .dataframe thead th {\n",
       "        text-align: right;\n",
       "    }\n",
       "</style>\n",
       "<table border=\"1\" class=\"dataframe\">\n",
       "  <thead>\n",
       "    <tr style=\"text-align: right;\">\n",
       "      <th></th>\n",
       "      <th>Fare</th>\n",
       "    </tr>\n",
       "    <tr>\n",
       "      <th>Pclass</th>\n",
       "      <th></th>\n",
       "    </tr>\n",
       "  </thead>\n",
       "  <tbody>\n",
       "    <tr>\n",
       "      <th>1</th>\n",
       "      <td>53</td>\n",
       "    </tr>\n",
       "  </tbody>\n",
       "</table>\n",
       "</div>"
      ],
      "text/plain": [
       "        Fare\n",
       "Pclass      \n",
       "1         53"
      ]
     },
     "execution_count": 36,
     "metadata": {},
     "output_type": "execute_result"
    }
   ],
   "source": [
    "train_data.loc[train_data['Fare'] > 100][['Fare', 'Pclass']].groupby('Pclass').count()"
   ]
  },
  {
   "cell_type": "code",
   "execution_count": 37,
   "id": "536be452",
   "metadata": {
    "execution": {
     "iopub.execute_input": "2022-03-28T08:53:48.462110Z",
     "iopub.status.busy": "2022-03-28T08:53:48.461432Z",
     "iopub.status.idle": "2022-03-28T08:53:48.481015Z",
     "shell.execute_reply": "2022-03-28T08:53:48.481583Z",
     "shell.execute_reply.started": "2022-03-28T08:52:42.311121Z"
    },
    "papermill": {
     "duration": 0.095258,
     "end_time": "2022-03-28T08:53:48.481763",
     "exception": false,
     "start_time": "2022-03-28T08:53:48.386505",
     "status": "completed"
    },
    "tags": []
   },
   "outputs": [
    {
     "data": {
      "text/html": [
       "<div>\n",
       "<style scoped>\n",
       "    .dataframe tbody tr th:only-of-type {\n",
       "        vertical-align: middle;\n",
       "    }\n",
       "\n",
       "    .dataframe tbody tr th {\n",
       "        vertical-align: top;\n",
       "    }\n",
       "\n",
       "    .dataframe thead th {\n",
       "        text-align: right;\n",
       "    }\n",
       "</style>\n",
       "<table border=\"1\" class=\"dataframe\">\n",
       "  <thead>\n",
       "    <tr style=\"text-align: right;\">\n",
       "      <th></th>\n",
       "      <th>Fare</th>\n",
       "      <th>Fare</th>\n",
       "      <th>Fare</th>\n",
       "    </tr>\n",
       "  </thead>\n",
       "  <tbody>\n",
       "    <tr>\n",
       "      <th>count</th>\n",
       "      <td>216.000000</td>\n",
       "      <td>184.000000</td>\n",
       "      <td>491.000000</td>\n",
       "    </tr>\n",
       "    <tr>\n",
       "      <th>mean</th>\n",
       "      <td>84.154687</td>\n",
       "      <td>20.662183</td>\n",
       "      <td>13.675550</td>\n",
       "    </tr>\n",
       "    <tr>\n",
       "      <th>std</th>\n",
       "      <td>78.380373</td>\n",
       "      <td>13.417399</td>\n",
       "      <td>11.778142</td>\n",
       "    </tr>\n",
       "    <tr>\n",
       "      <th>min</th>\n",
       "      <td>0.000000</td>\n",
       "      <td>0.000000</td>\n",
       "      <td>0.000000</td>\n",
       "    </tr>\n",
       "    <tr>\n",
       "      <th>25%</th>\n",
       "      <td>30.923950</td>\n",
       "      <td>13.000000</td>\n",
       "      <td>7.750000</td>\n",
       "    </tr>\n",
       "    <tr>\n",
       "      <th>50%</th>\n",
       "      <td>60.287500</td>\n",
       "      <td>14.250000</td>\n",
       "      <td>8.050000</td>\n",
       "    </tr>\n",
       "    <tr>\n",
       "      <th>75%</th>\n",
       "      <td>93.500000</td>\n",
       "      <td>26.000000</td>\n",
       "      <td>15.500000</td>\n",
       "    </tr>\n",
       "    <tr>\n",
       "      <th>max</th>\n",
       "      <td>512.329200</td>\n",
       "      <td>73.500000</td>\n",
       "      <td>69.550000</td>\n",
       "    </tr>\n",
       "  </tbody>\n",
       "</table>\n",
       "</div>"
      ],
      "text/plain": [
       "             Fare        Fare        Fare\n",
       "count  216.000000  184.000000  491.000000\n",
       "mean    84.154687   20.662183   13.675550\n",
       "std     78.380373   13.417399   11.778142\n",
       "min      0.000000    0.000000    0.000000\n",
       "25%     30.923950   13.000000    7.750000\n",
       "50%     60.287500   14.250000    8.050000\n",
       "75%     93.500000   26.000000   15.500000\n",
       "max    512.329200   73.500000   69.550000"
      ]
     },
     "execution_count": 37,
     "metadata": {},
     "output_type": "execute_result"
    }
   ],
   "source": [
    "p1 = train_data.loc[train_data['Pclass'] == 1, 'Fare'].describe() \n",
    "p2 = train_data.loc[train_data['Pclass'] == 2, 'Fare'].describe() \n",
    "p3 = train_data.loc[train_data['Pclass'] == 3, 'Fare'].describe() \n",
    "\n",
    "p = pd.concat([p1, p2,p3], axis = 1)\n",
    "p"
   ]
  },
  {
   "cell_type": "code",
   "execution_count": 38,
   "id": "5e3ced68",
   "metadata": {
    "execution": {
     "iopub.execute_input": "2022-03-28T08:53:48.631540Z",
     "iopub.status.busy": "2022-03-28T08:53:48.630969Z",
     "iopub.status.idle": "2022-03-28T08:53:48.647384Z",
     "shell.execute_reply": "2022-03-28T08:53:48.647936Z",
     "shell.execute_reply.started": "2022-03-28T08:52:42.341144Z"
    },
    "papermill": {
     "duration": 0.092751,
     "end_time": "2022-03-28T08:53:48.648125",
     "exception": false,
     "start_time": "2022-03-28T08:53:48.555374",
     "status": "completed"
    },
    "tags": []
   },
   "outputs": [
    {
     "data": {
      "text/html": [
       "<div>\n",
       "<style scoped>\n",
       "    .dataframe tbody tr th:only-of-type {\n",
       "        vertical-align: middle;\n",
       "    }\n",
       "\n",
       "    .dataframe tbody tr th {\n",
       "        vertical-align: top;\n",
       "    }\n",
       "\n",
       "    .dataframe thead th {\n",
       "        text-align: right;\n",
       "    }\n",
       "</style>\n",
       "<table border=\"1\" class=\"dataframe\">\n",
       "  <thead>\n",
       "    <tr style=\"text-align: right;\">\n",
       "      <th></th>\n",
       "      <th>FareBand</th>\n",
       "      <th>Survived</th>\n",
       "    </tr>\n",
       "  </thead>\n",
       "  <tbody>\n",
       "    <tr>\n",
       "      <th>0</th>\n",
       "      <td>(-0.001, 7.55]</td>\n",
       "      <td>0.141304</td>\n",
       "    </tr>\n",
       "    <tr>\n",
       "      <th>1</th>\n",
       "      <td>(7.55, 7.854]</td>\n",
       "      <td>0.298851</td>\n",
       "    </tr>\n",
       "    <tr>\n",
       "      <th>2</th>\n",
       "      <td>(7.854, 8.05]</td>\n",
       "      <td>0.179245</td>\n",
       "    </tr>\n",
       "    <tr>\n",
       "      <th>3</th>\n",
       "      <td>(8.05, 10.5]</td>\n",
       "      <td>0.230769</td>\n",
       "    </tr>\n",
       "    <tr>\n",
       "      <th>4</th>\n",
       "      <td>(10.5, 14.454]</td>\n",
       "      <td>0.428571</td>\n",
       "    </tr>\n",
       "    <tr>\n",
       "      <th>5</th>\n",
       "      <td>(14.454, 21.679]</td>\n",
       "      <td>0.420455</td>\n",
       "    </tr>\n",
       "    <tr>\n",
       "      <th>6</th>\n",
       "      <td>(21.679, 27.0]</td>\n",
       "      <td>0.516854</td>\n",
       "    </tr>\n",
       "    <tr>\n",
       "      <th>7</th>\n",
       "      <td>(27.0, 39.688]</td>\n",
       "      <td>0.373626</td>\n",
       "    </tr>\n",
       "    <tr>\n",
       "      <th>8</th>\n",
       "      <td>(39.688, 77.958]</td>\n",
       "      <td>0.528090</td>\n",
       "    </tr>\n",
       "    <tr>\n",
       "      <th>9</th>\n",
       "      <td>(77.958, 512.329]</td>\n",
       "      <td>0.758621</td>\n",
       "    </tr>\n",
       "  </tbody>\n",
       "</table>\n",
       "</div>"
      ],
      "text/plain": [
       "            FareBand  Survived\n",
       "0     (-0.001, 7.55]  0.141304\n",
       "1      (7.55, 7.854]  0.298851\n",
       "2      (7.854, 8.05]  0.179245\n",
       "3       (8.05, 10.5]  0.230769\n",
       "4     (10.5, 14.454]  0.428571\n",
       "5   (14.454, 21.679]  0.420455\n",
       "6     (21.679, 27.0]  0.516854\n",
       "7     (27.0, 39.688]  0.373626\n",
       "8   (39.688, 77.958]  0.528090\n",
       "9  (77.958, 512.329]  0.758621"
      ]
     },
     "execution_count": 38,
     "metadata": {},
     "output_type": "execute_result"
    }
   ],
   "source": [
    "#'Fare' column binning \n",
    "train_data['FareBand'] = pd.qcut(train_data['Fare'], 10)\n",
    "train_data[['FareBand', 'Survived']].groupby(['FareBand'], as_index = False).mean().sort_values(by = 'FareBand', ascending = True)"
   ]
  },
  {
   "cell_type": "code",
   "execution_count": 39,
   "id": "8276ebda",
   "metadata": {
    "execution": {
     "iopub.execute_input": "2022-03-28T08:53:48.799100Z",
     "iopub.status.busy": "2022-03-28T08:53:48.798341Z",
     "iopub.status.idle": "2022-03-28T08:53:48.806274Z",
     "shell.execute_reply": "2022-03-28T08:53:48.806770Z",
     "shell.execute_reply.started": "2022-03-28T08:52:42.370214Z"
    },
    "papermill": {
     "duration": 0.085183,
     "end_time": "2022-03-28T08:53:48.806954",
     "exception": false,
     "start_time": "2022-03-28T08:53:48.721771",
     "status": "completed"
    },
    "tags": []
   },
   "outputs": [
    {
     "data": {
      "text/plain": [
       "263    0.0\n",
       "633    0.0\n",
       "806    0.0\n",
       "815    0.0\n",
       "822    0.0\n",
       "872    5.0\n",
       "Name: Fare, dtype: float64"
      ]
     },
     "execution_count": 39,
     "metadata": {},
     "output_type": "execute_result"
    }
   ],
   "source": [
    "#See abnormal values\n",
    "train_data.loc[(train_data['Pclass'] == 1) & (train_data['Fare'] <= 25.0), 'Fare']"
   ]
  },
  {
   "cell_type": "code",
   "execution_count": 40,
   "id": "80243a70",
   "metadata": {
    "execution": {
     "iopub.execute_input": "2022-03-28T08:53:48.968361Z",
     "iopub.status.busy": "2022-03-28T08:53:48.967537Z",
     "iopub.status.idle": "2022-03-28T08:53:48.971469Z",
     "shell.execute_reply": "2022-03-28T08:53:48.970874Z",
     "shell.execute_reply.started": "2022-03-28T08:52:42.382490Z"
    },
    "papermill": {
     "duration": 0.088068,
     "end_time": "2022-03-28T08:53:48.971611",
     "exception": false,
     "start_time": "2022-03-28T08:53:48.883543",
     "status": "completed"
    },
    "tags": []
   },
   "outputs": [
    {
     "data": {
      "text/plain": [
       "277    0.0\n",
       "413    0.0\n",
       "466    0.0\n",
       "481    0.0\n",
       "674    0.0\n",
       "732    0.0\n",
       "Name: Fare, dtype: float64"
      ]
     },
     "execution_count": 40,
     "metadata": {},
     "output_type": "execute_result"
    }
   ],
   "source": [
    "train_data.loc[(train_data['Pclass'] == 2) & (train_data['Fare'] <= 10.0), 'Fare']"
   ]
  },
  {
   "cell_type": "code",
   "execution_count": 41,
   "id": "960307c8",
   "metadata": {
    "execution": {
     "iopub.execute_input": "2022-03-28T08:53:49.132480Z",
     "iopub.status.busy": "2022-03-28T08:53:49.131706Z",
     "iopub.status.idle": "2022-03-28T08:53:49.134742Z",
     "shell.execute_reply": "2022-03-28T08:53:49.135238Z",
     "shell.execute_reply.started": "2022-03-28T08:52:42.407448Z"
    },
    "papermill": {
     "duration": 0.088311,
     "end_time": "2022-03-28T08:53:49.135395",
     "exception": false,
     "start_time": "2022-03-28T08:53:49.047084",
     "status": "completed"
    },
    "tags": []
   },
   "outputs": [
    {
     "data": {
      "text/plain": [
       "179    0.0\n",
       "271    0.0\n",
       "302    0.0\n",
       "597    0.0\n",
       "Name: Fare, dtype: float64"
      ]
     },
     "execution_count": 41,
     "metadata": {},
     "output_type": "execute_result"
    }
   ],
   "source": [
    "train_data.loc[(train_data['Pclass'] == 3) & (train_data['Fare'] <= 4.0), 'Fare']"
   ]
  },
  {
   "cell_type": "code",
   "execution_count": 42,
   "id": "6f7fd951",
   "metadata": {
    "execution": {
     "iopub.execute_input": "2022-03-28T08:53:49.290876Z",
     "iopub.status.busy": "2022-03-28T08:53:49.289966Z",
     "iopub.status.idle": "2022-03-28T08:53:49.303730Z",
     "shell.execute_reply": "2022-03-28T08:53:49.304317Z",
     "shell.execute_reply.started": "2022-03-28T08:52:42.424343Z"
    },
    "papermill": {
     "duration": 0.092402,
     "end_time": "2022-03-28T08:53:49.304478",
     "exception": false,
     "start_time": "2022-03-28T08:53:49.212076",
     "status": "completed"
    },
    "tags": []
   },
   "outputs": [
    {
     "data": {
      "text/plain": [
       "(86.53529761904754, 21.358661235955054, 13.787874948665301)"
      ]
     },
     "execution_count": 42,
     "metadata": {},
     "output_type": "execute_result"
    }
   ],
   "source": [
    "p1m = train_data.loc[(train_data['Pclass'] == 1) & (train_data['Fare'] >= 25.0)][['Fare']].mean()[0]\n",
    "p2m = train_data.loc[(train_data['Pclass'] == 2) & (train_data['Fare'] >= 10.0)][['Fare']].mean()[0]\n",
    "p3m = train_data.loc[(train_data['Pclass'] == 3) & (train_data['Fare'] >= 4.0)][['Fare']].mean()[0]\n",
    "p1m, p2m, p3m"
   ]
  },
  {
   "cell_type": "code",
   "execution_count": 43,
   "id": "7cd47c40",
   "metadata": {
    "execution": {
     "iopub.execute_input": "2022-03-28T08:53:49.457318Z",
     "iopub.status.busy": "2022-03-28T08:53:49.456414Z",
     "iopub.status.idle": "2022-03-28T08:53:49.494240Z",
     "shell.execute_reply": "2022-03-28T08:53:49.494769Z",
     "shell.execute_reply.started": "2022-03-28T08:52:42.448933Z"
    },
    "papermill": {
     "duration": 0.115764,
     "end_time": "2022-03-28T08:53:49.494944",
     "exception": false,
     "start_time": "2022-03-28T08:53:49.379180",
     "status": "completed"
    },
    "tags": []
   },
   "outputs": [
    {
     "data": {
      "text/html": [
       "<div>\n",
       "<style scoped>\n",
       "    .dataframe tbody tr th:only-of-type {\n",
       "        vertical-align: middle;\n",
       "    }\n",
       "\n",
       "    .dataframe tbody tr th {\n",
       "        vertical-align: top;\n",
       "    }\n",
       "\n",
       "    .dataframe thead th {\n",
       "        text-align: right;\n",
       "    }\n",
       "</style>\n",
       "<table border=\"1\" class=\"dataframe\">\n",
       "  <thead>\n",
       "    <tr style=\"text-align: right;\">\n",
       "      <th></th>\n",
       "      <th>Survived</th>\n",
       "      <th>Pclass</th>\n",
       "      <th>Sex</th>\n",
       "      <th>Age</th>\n",
       "      <th>SibSp</th>\n",
       "      <th>Parch</th>\n",
       "      <th>Fare</th>\n",
       "      <th>Embarked</th>\n",
       "      <th>Title</th>\n",
       "    </tr>\n",
       "  </thead>\n",
       "  <tbody>\n",
       "    <tr>\n",
       "      <th>count</th>\n",
       "      <td>891.000000</td>\n",
       "      <td>891.000000</td>\n",
       "      <td>891.000000</td>\n",
       "      <td>891.000000</td>\n",
       "      <td>891.000000</td>\n",
       "      <td>891.000000</td>\n",
       "      <td>891.000000</td>\n",
       "      <td>891.000000</td>\n",
       "      <td>891.000000</td>\n",
       "    </tr>\n",
       "    <tr>\n",
       "      <th>mean</th>\n",
       "      <td>0.383838</td>\n",
       "      <td>2.308642</td>\n",
       "      <td>0.352413</td>\n",
       "      <td>1.324355</td>\n",
       "      <td>0.523008</td>\n",
       "      <td>0.381594</td>\n",
       "      <td>32.987053</td>\n",
       "      <td>0.361392</td>\n",
       "      <td>1.727273</td>\n",
       "    </tr>\n",
       "    <tr>\n",
       "      <th>std</th>\n",
       "      <td>0.486592</td>\n",
       "      <td>0.836071</td>\n",
       "      <td>0.477990</td>\n",
       "      <td>0.820565</td>\n",
       "      <td>1.102743</td>\n",
       "      <td>0.806057</td>\n",
       "      <td>49.726551</td>\n",
       "      <td>0.635673</td>\n",
       "      <td>1.029196</td>\n",
       "    </tr>\n",
       "    <tr>\n",
       "      <th>min</th>\n",
       "      <td>0.000000</td>\n",
       "      <td>1.000000</td>\n",
       "      <td>0.000000</td>\n",
       "      <td>0.000000</td>\n",
       "      <td>0.000000</td>\n",
       "      <td>0.000000</td>\n",
       "      <td>4.012500</td>\n",
       "      <td>0.000000</td>\n",
       "      <td>1.000000</td>\n",
       "    </tr>\n",
       "    <tr>\n",
       "      <th>25%</th>\n",
       "      <td>0.000000</td>\n",
       "      <td>2.000000</td>\n",
       "      <td>0.000000</td>\n",
       "      <td>1.000000</td>\n",
       "      <td>0.000000</td>\n",
       "      <td>0.000000</td>\n",
       "      <td>7.925000</td>\n",
       "      <td>0.000000</td>\n",
       "      <td>1.000000</td>\n",
       "    </tr>\n",
       "    <tr>\n",
       "      <th>50%</th>\n",
       "      <td>0.000000</td>\n",
       "      <td>3.000000</td>\n",
       "      <td>0.000000</td>\n",
       "      <td>1.000000</td>\n",
       "      <td>0.000000</td>\n",
       "      <td>0.000000</td>\n",
       "      <td>15.000000</td>\n",
       "      <td>0.000000</td>\n",
       "      <td>1.000000</td>\n",
       "    </tr>\n",
       "    <tr>\n",
       "      <th>75%</th>\n",
       "      <td>1.000000</td>\n",
       "      <td>3.000000</td>\n",
       "      <td>1.000000</td>\n",
       "      <td>2.000000</td>\n",
       "      <td>1.000000</td>\n",
       "      <td>0.000000</td>\n",
       "      <td>31.275000</td>\n",
       "      <td>1.000000</td>\n",
       "      <td>2.000000</td>\n",
       "    </tr>\n",
       "    <tr>\n",
       "      <th>max</th>\n",
       "      <td>1.000000</td>\n",
       "      <td>3.000000</td>\n",
       "      <td>1.000000</td>\n",
       "      <td>4.000000</td>\n",
       "      <td>8.000000</td>\n",
       "      <td>6.000000</td>\n",
       "      <td>512.329200</td>\n",
       "      <td>2.000000</td>\n",
       "      <td>5.000000</td>\n",
       "    </tr>\n",
       "  </tbody>\n",
       "</table>\n",
       "</div>"
      ],
      "text/plain": [
       "         Survived      Pclass         Sex         Age       SibSp       Parch  \\\n",
       "count  891.000000  891.000000  891.000000  891.000000  891.000000  891.000000   \n",
       "mean     0.383838    2.308642    0.352413    1.324355    0.523008    0.381594   \n",
       "std      0.486592    0.836071    0.477990    0.820565    1.102743    0.806057   \n",
       "min      0.000000    1.000000    0.000000    0.000000    0.000000    0.000000   \n",
       "25%      0.000000    2.000000    0.000000    1.000000    0.000000    0.000000   \n",
       "50%      0.000000    3.000000    0.000000    1.000000    0.000000    0.000000   \n",
       "75%      1.000000    3.000000    1.000000    2.000000    1.000000    0.000000   \n",
       "max      1.000000    3.000000    1.000000    4.000000    8.000000    6.000000   \n",
       "\n",
       "             Fare    Embarked       Title  \n",
       "count  891.000000  891.000000  891.000000  \n",
       "mean    32.987053    0.361392    1.727273  \n",
       "std     49.726551    0.635673    1.029196  \n",
       "min      4.012500    0.000000    1.000000  \n",
       "25%      7.925000    0.000000    1.000000  \n",
       "50%     15.000000    0.000000    1.000000  \n",
       "75%     31.275000    1.000000    2.000000  \n",
       "max    512.329200    2.000000    5.000000  "
      ]
     },
     "execution_count": 43,
     "metadata": {},
     "output_type": "execute_result"
    }
   ],
   "source": [
    "#Replacing abnormal values with average values\n",
    "train_data.loc[(train_data['Pclass'] == 3) & (train_data['Fare'] <= 4.0) , 'Fare'] = p3m\n",
    "train_data.loc[(train_data['Pclass'] == 2) & (train_data['Fare'] <= 10.0) , 'Fare'] = p2m\n",
    "train_data.loc[(train_data['Pclass'] == 1) & (train_data['Fare'] <= 25.0) , 'Fare'] = p1m\n",
    "\n",
    "train_data.describe()"
   ]
  },
  {
   "cell_type": "code",
   "execution_count": 44,
   "id": "c359ad03",
   "metadata": {
    "execution": {
     "iopub.execute_input": "2022-03-28T08:53:49.648617Z",
     "iopub.status.busy": "2022-03-28T08:53:49.647633Z",
     "iopub.status.idle": "2022-03-28T08:53:49.681433Z",
     "shell.execute_reply": "2022-03-28T08:53:49.681953Z",
     "shell.execute_reply.started": "2022-03-28T08:52:42.499279Z"
    },
    "papermill": {
     "duration": 0.111849,
     "end_time": "2022-03-28T08:53:49.682128",
     "exception": false,
     "start_time": "2022-03-28T08:53:49.570279",
     "status": "completed"
    },
    "tags": []
   },
   "outputs": [
    {
     "data": {
      "text/plain": [
       "(   Survived  Pclass  Sex  Age  SibSp  Parch  Fare  Embarked  Title  \\\n",
       " 0         0       3    0    1      1      0     0         0      1   \n",
       " 1         1       1    1    2      1      0     8         1      3   \n",
       " 2         1       3    1    1      0      0     2         0      2   \n",
       " 3         1       1    1    2      1      0     8         0      3   \n",
       " 4         0       3    0    2      0      0     2         0      1   \n",
       " \n",
       "            FareBand  \n",
       " 0    (-0.001, 7.55]  \n",
       " 1  (39.688, 77.958]  \n",
       " 2     (7.854, 8.05]  \n",
       " 3  (39.688, 77.958]  \n",
       " 4     (7.854, 8.05]  ,\n",
       "    PassengerId  Pclass  Sex  Age  SibSp  Parch  Fare  Embarked  Title\n",
       " 0          892       3    0    2      0      0     0         2      1\n",
       " 1          893       3    1    2      1      0     7         0      3\n",
       " 2          894       2    0    3      0      0     0         2      1\n",
       " 3          895       3    0    1      0      0     3         0      1\n",
       " 4          896       3    1    1      1      1     0         0      3)"
      ]
     },
     "execution_count": 44,
     "metadata": {},
     "output_type": "execute_result"
    }
   ],
   "source": [
    "combine = [train_data, test_data]\n",
    "\n",
    "for dataset in combine:\n",
    "    dataset.loc[train_data['Fare'] <= 7.55, 'Fare'] = 0\n",
    "    dataset.loc[(dataset['Fare'] > 7.55) & (dataset['Fare'] <= 7.854), 'Fare'] = 1\n",
    "    dataset.loc[(dataset['Fare'] > 7.854) & (dataset['Fare'] <= 8.05), 'Fare'] = 2\n",
    "    dataset.loc[(dataset['Fare'] > 8.05) & (dataset['Fare'] <= 10.5), 'Fare'] = 3\n",
    "    dataset.loc[(dataset['Fare'] > 10.5) & (dataset['Fare'] <= 14.454), 'Fare'] = 4\n",
    "    dataset.loc[(dataset['Fare'] > 14.454) & (dataset['Fare'] <= 21.679), 'Fare'] = 5\n",
    "    dataset.loc[(dataset['Fare'] > 21.679) & (dataset['Fare'] <= 27.0), 'Fare'] = 6\n",
    "    dataset.loc[(dataset['Fare'] > 27.0) & (dataset['Fare'] <= 39.688), 'Fare'] = 7\n",
    "    dataset.loc[(dataset['Fare'] > 39.688) & (dataset['Fare'] <= 77.958), 'Fare'] = 8\n",
    "    dataset.loc[dataset['Fare'] >= 77.958, 'Fare'] = 9\n",
    "    dataset['Fare'] = dataset['Fare'].astype(int)\n",
    "    \n",
    "train_data.head(), test_data.head()"
   ]
  },
  {
   "cell_type": "code",
   "execution_count": 45,
   "id": "2b1f7c29",
   "metadata": {
    "execution": {
     "iopub.execute_input": "2022-03-28T08:53:49.839629Z",
     "iopub.status.busy": "2022-03-28T08:53:49.838649Z",
     "iopub.status.idle": "2022-03-28T08:53:49.852726Z",
     "shell.execute_reply": "2022-03-28T08:53:49.853374Z",
     "shell.execute_reply.started": "2022-03-28T08:52:42.545299Z"
    },
    "papermill": {
     "duration": 0.096006,
     "end_time": "2022-03-28T08:53:49.853544",
     "exception": false,
     "start_time": "2022-03-28T08:53:49.757538",
     "status": "completed"
    },
    "tags": []
   },
   "outputs": [
    {
     "data": {
      "text/plain": [
       "(   Survived  Pclass  Sex  Age  SibSp  Parch  Fare  Embarked\n",
       " 0         0       3    0    1      1      0     0         0\n",
       " 1         1       1    1    2      1      0     8         1\n",
       " 2         1       3    1    1      0      0     2         0\n",
       " 3         1       1    1    2      1      0     8         0\n",
       " 4         0       3    0    2      0      0     2         0,\n",
       "    PassengerId  Pclass  Sex  Age  SibSp  Parch  Fare  Embarked\n",
       " 0          892       3    0    2      0      0     0         2\n",
       " 1          893       3    1    2      1      0     7         0\n",
       " 2          894       2    0    3      0      0     0         2\n",
       " 3          895       3    0    1      0      0     3         0\n",
       " 4          896       3    1    1      1      1     0         0)"
      ]
     },
     "execution_count": 45,
     "metadata": {},
     "output_type": "execute_result"
    }
   ],
   "source": [
    "train_data = train_data.drop(['FareBand'], axis = 1)\n",
    "\n",
    "combine = [train_data, test_data]\n",
    "\n",
    "#Dropping 'Title' column because it's highly correlated with 'Sex' col.\n",
    "for dataset in combine:\n",
    "    dataset.drop('Title', axis = 1, inplace = True)\n",
    "\n",
    "train_data.head(5), test_data.head(5)"
   ]
  },
  {
   "cell_type": "markdown",
   "id": "e3258d64",
   "metadata": {
    "papermill": {
     "duration": 0.078047,
     "end_time": "2022-03-28T08:53:50.009175",
     "exception": false,
     "start_time": "2022-03-28T08:53:49.931128",
     "status": "completed"
    },
    "tags": []
   },
   "source": [
    "# Model Training "
   ]
  },
  {
   "cell_type": "code",
   "execution_count": 46,
   "id": "287b7307",
   "metadata": {
    "execution": {
     "iopub.execute_input": "2022-03-28T08:53:50.168889Z",
     "iopub.status.busy": "2022-03-28T08:53:50.168231Z",
     "iopub.status.idle": "2022-03-28T08:53:50.486352Z",
     "shell.execute_reply": "2022-03-28T08:53:50.485691Z",
     "shell.execute_reply.started": "2022-03-28T08:52:42.566770Z"
    },
    "papermill": {
     "duration": 0.400425,
     "end_time": "2022-03-28T08:53:50.486495",
     "exception": false,
     "start_time": "2022-03-28T08:53:50.086070",
     "status": "completed"
    },
    "tags": []
   },
   "outputs": [],
   "source": [
    "from sklearn.linear_model import LogisticRegression\n",
    "from sklearn.linear_model import LogisticRegressionCV\n",
    "from sklearn.linear_model import SGDClassifier \n",
    "from sklearn.svm import SVC\n",
    "from sklearn.neighbors import KNeighborsClassifier\n",
    "from sklearn.naive_bayes import GaussianNB\n",
    "from sklearn.tree import DecisionTreeClassifier \n",
    "from sklearn.ensemble import RandomForestClassifier \n",
    "\n",
    "from sklearn.metrics import f1_score\n",
    "from sklearn.model_selection import cross_val_score"
   ]
  },
  {
   "cell_type": "code",
   "execution_count": 47,
   "id": "60c9799c",
   "metadata": {
    "execution": {
     "iopub.execute_input": "2022-03-28T08:53:50.647001Z",
     "iopub.status.busy": "2022-03-28T08:53:50.646367Z",
     "iopub.status.idle": "2022-03-28T08:53:50.652972Z",
     "shell.execute_reply": "2022-03-28T08:53:50.653559Z",
     "shell.execute_reply.started": "2022-03-28T08:52:42.574293Z"
    },
    "papermill": {
     "duration": 0.089644,
     "end_time": "2022-03-28T08:53:50.653718",
     "exception": false,
     "start_time": "2022-03-28T08:53:50.564074",
     "status": "completed"
    },
    "tags": []
   },
   "outputs": [
    {
     "data": {
      "text/plain": [
       "array([0, 1, 1, 1, 0, 0, 0, 0, 1, 1, 1, 1, 0, 0, 0, 1, 0, 1, 0, 1, 0, 1,\n",
       "       1, 1, 0, 1, 0, 0, 1, 0, 0, 1, 1, 0, 0, 0, 1, 0, 0, 1, 0, 0, 0, 1,\n",
       "       1, 0, 0, 1, 0, 0, 0, 0, 1, 1, 0, 1, 1, 0, 1, 0, 0, 1, 0, 0, 0, 1,\n",
       "       1, 0, 1, 0, 0, 0, 0, 0, 1, 0, 0, 0, 1, 1, 0, 1, 1, 0, 1, 1, 0, 0,\n",
       "       1, 0, 0, 0, 0, 0, 0, 0, 0, 1, 1, 0, 0, 0, 0, 0, 0, 0, 1, 1, 0, 1,\n",
       "       0, 0, 0, 0, 0, 0, 0, 0, 0, 0, 0, 0, 0, 1, 0, 1, 0, 1, 1, 0, 0, 0,\n",
       "       0, 1, 0, 0, 1, 0, 0, 0, 0, 1, 1, 0, 0, 0, 1, 0, 0, 0, 0, 1, 0, 0,\n",
       "       0, 0, 1, 0, 0, 0, 0, 1, 0, 0, 0, 1, 1, 0, 0, 0, 0, 0, 1, 0, 0, 0,\n",
       "       0, 0, 0, 0, 0, 0, 0, 1, 1, 0, 1, 1, 0, 0, 1, 0, 1, 1, 1, 1, 0, 0,\n",
       "       1, 0, 0, 0, 0, 0, 1, 0, 0, 1, 1, 1, 0, 1, 0, 0, 0, 1, 1, 0, 1, 0,\n",
       "       1, 0, 0, 0, 1, 0, 1, 0, 0, 0, 1, 0, 0, 1, 0, 0, 0, 1, 0, 0, 0, 1,\n",
       "       0, 0, 0, 0, 0, 1, 1, 0, 0, 0, 0, 0, 0, 1, 1, 1, 1, 1, 0, 1, 0, 0,\n",
       "       0, 0, 0, 1, 1, 1, 0, 1, 1, 0, 1, 1, 0, 0, 0, 1, 0, 0, 0, 1, 0, 0,\n",
       "       1, 0, 1, 1, 1, 1, 0, 0, 0, 0, 0, 0, 1, 1, 1, 1, 0, 1, 0, 1, 1, 1,\n",
       "       0, 1, 1, 1, 0, 0, 0, 1, 1, 0, 1, 1, 0, 0, 1, 1, 0, 1, 0, 1, 1, 1,\n",
       "       1, 0, 0, 0, 1, 0, 0, 1, 1, 0, 1, 1, 0, 0, 0, 1, 1, 1, 1, 0, 0, 0,\n",
       "       0, 0, 0, 0, 1, 0, 1, 1, 0, 0, 0, 0, 0, 0, 1, 1, 1, 1, 1, 0, 0, 0,\n",
       "       0, 1, 1, 0, 0, 0, 1, 1, 0, 1, 0, 0, 0, 1, 0, 1, 1, 1, 0, 1, 1, 0,\n",
       "       0, 0, 0, 1, 1, 0, 0, 0, 0, 0, 0, 1, 0, 0, 0, 0, 1, 0, 1, 0, 1, 1,\n",
       "       0, 0, 0, 0, 0, 0, 0, 0, 1, 1, 0, 1, 1, 1, 1, 0, 0, 1, 0, 1, 0, 0,\n",
       "       1, 0, 0, 1, 1, 1, 1, 1, 1, 1, 0, 0, 0, 1, 0, 1, 0, 1, 1, 0, 1, 0,\n",
       "       0, 0, 0, 0, 0, 0, 0, 1, 0, 0, 1, 1, 0, 0, 0, 0, 0, 1, 0, 0, 0, 1,\n",
       "       1, 0, 1, 0, 0, 1, 0, 0, 0, 0, 0, 0, 1, 0, 0, 0, 0, 0, 0, 0, 1, 0,\n",
       "       1, 1, 0, 1, 1, 0, 1, 1, 0, 0, 1, 0, 1, 0, 1, 0, 0, 1, 0, 0, 1, 0,\n",
       "       0, 0, 1, 0, 0, 1, 0, 1, 0, 1, 0, 1, 1, 0, 0, 1, 0, 0, 1, 1, 0, 1,\n",
       "       1, 0, 0, 1, 1, 0, 1, 0, 1, 1, 0, 0, 0, 0, 0, 0, 0, 0, 0, 1, 1, 1,\n",
       "       1, 1, 0, 0, 1, 1, 0, 1, 1, 1, 0, 0, 0, 1, 0, 1, 0, 0, 0, 1, 0, 0,\n",
       "       0, 0, 1, 0, 0, 1, 1, 0, 0, 0, 1, 0, 0, 1, 1, 1, 0, 0, 1, 0, 0, 1,\n",
       "       0, 0, 1, 0, 0, 1, 1, 0, 0, 0, 0, 1, 0, 0, 1, 0, 1, 0, 0, 1, 0, 0,\n",
       "       0, 0, 0, 1, 0, 1, 1, 1, 0, 1, 0, 1, 0, 1, 0, 1, 0, 0, 0, 0, 0, 0,\n",
       "       1, 0, 0, 0, 1, 0, 0, 0, 0, 1, 1, 0, 0, 1, 0, 0, 0, 1, 0, 1, 0, 1,\n",
       "       0, 0, 0, 0, 0, 0, 0, 1, 1, 1, 1, 0, 0, 0, 0, 1, 0, 0, 1, 1, 0, 0,\n",
       "       0, 0, 1, 1, 1, 1, 1, 0, 1, 0, 0, 0, 1, 1, 0, 0, 1, 0, 0, 0, 1, 0,\n",
       "       1, 1, 0, 0, 1, 0, 0, 0, 0, 0, 0, 1, 0, 0, 1, 0, 1, 0, 1, 0, 0, 1,\n",
       "       0, 0, 1, 1, 0, 0, 1, 1, 0, 0, 0, 1, 0, 0, 1, 1, 0, 1, 0, 0, 0, 0,\n",
       "       0, 0, 0, 0, 1, 0, 0, 1, 0, 1, 1, 1, 0, 0, 0, 0, 1, 0, 1, 0, 0, 0,\n",
       "       0, 0, 0, 0, 1, 1, 0, 0, 0, 1, 1, 1, 1, 0, 0, 0, 0, 1, 0, 0, 0, 0,\n",
       "       0, 0, 0, 0, 0, 0, 1, 1, 0, 1, 0, 0, 0, 1, 1, 1, 1, 1, 0, 0, 0, 1,\n",
       "       0, 0, 1, 1, 0, 0, 1, 0, 0, 0, 0, 0, 0, 1, 0, 0, 0, 1, 0, 1, 1, 1,\n",
       "       1, 0, 0, 0, 1, 0, 0, 1, 1, 0, 0, 1, 0, 1, 0, 0, 1, 1, 0, 0, 0, 1,\n",
       "       1, 0, 0, 0, 0, 0, 0, 1, 0, 1, 0])"
      ]
     },
     "execution_count": 47,
     "metadata": {},
     "output_type": "execute_result"
    }
   ],
   "source": [
    "X_train = train_data.drop(['Survived'], axis = 1)\n",
    "y_train = train_data['Survived'].values.reshape(-1,)\n",
    "y_train"
   ]
  },
  {
   "cell_type": "code",
   "execution_count": 48,
   "id": "fdb46b03",
   "metadata": {
    "execution": {
     "iopub.execute_input": "2022-03-28T08:53:50.811826Z",
     "iopub.status.busy": "2022-03-28T08:53:50.811254Z",
     "iopub.status.idle": "2022-03-28T08:53:50.832887Z",
     "shell.execute_reply": "2022-03-28T08:53:50.832246Z",
     "shell.execute_reply.started": "2022-03-28T08:52:42.595859Z"
    },
    "papermill": {
     "duration": 0.101477,
     "end_time": "2022-03-28T08:53:50.833044",
     "exception": false,
     "start_time": "2022-03-28T08:53:50.731567",
     "status": "completed"
    },
    "tags": []
   },
   "outputs": [
    {
     "name": "stdout",
     "output_type": "stream",
     "text": [
      "mean_accuracy_log: 0.8035914702581369\n",
      "f1_log: 0.7336377473363775\n"
     ]
    }
   ],
   "source": [
    "model_log = LogisticRegression()\n",
    "model_log.fit(X_train, y_train)\n",
    "y_pred_log = model_log.predict(X_train)\n",
    "mean_accuracy_log = model_log.score(X_train, y_train)\n",
    "f1_log = f1_score(y_train, y_pred_log)\n",
    "print(\"mean_accuracy_log:\", mean_accuracy_log)\n",
    "print(\"f1_log:\", f1_log)"
   ]
  },
  {
   "cell_type": "code",
   "execution_count": 49,
   "id": "4ed14db7",
   "metadata": {
    "execution": {
     "iopub.execute_input": "2022-03-28T08:53:50.994359Z",
     "iopub.status.busy": "2022-03-28T08:53:50.993695Z",
     "iopub.status.idle": "2022-03-28T08:53:51.004575Z",
     "shell.execute_reply": "2022-03-28T08:53:51.005129Z",
     "shell.execute_reply.started": "2022-03-28T08:52:42.626282Z"
    },
    "papermill": {
     "duration": 0.093185,
     "end_time": "2022-03-28T08:53:51.005305",
     "exception": false,
     "start_time": "2022-03-28T08:53:50.912120",
     "status": "completed"
    },
    "tags": []
   },
   "outputs": [
    {
     "data": {
      "text/html": [
       "<div>\n",
       "<style scoped>\n",
       "    .dataframe tbody tr th:only-of-type {\n",
       "        vertical-align: middle;\n",
       "    }\n",
       "\n",
       "    .dataframe tbody tr th {\n",
       "        vertical-align: top;\n",
       "    }\n",
       "\n",
       "    .dataframe thead th {\n",
       "        text-align: right;\n",
       "    }\n",
       "</style>\n",
       "<table border=\"1\" class=\"dataframe\">\n",
       "  <thead>\n",
       "    <tr style=\"text-align: right;\">\n",
       "      <th></th>\n",
       "      <th>Features</th>\n",
       "      <th>Correlation</th>\n",
       "    </tr>\n",
       "  </thead>\n",
       "  <tbody>\n",
       "    <tr>\n",
       "      <th>0</th>\n",
       "      <td>Pclass</td>\n",
       "      <td>-1.126855</td>\n",
       "    </tr>\n",
       "    <tr>\n",
       "      <th>1</th>\n",
       "      <td>Sex</td>\n",
       "      <td>2.599004</td>\n",
       "    </tr>\n",
       "    <tr>\n",
       "      <th>2</th>\n",
       "      <td>Age</td>\n",
       "      <td>-0.654501</td>\n",
       "    </tr>\n",
       "    <tr>\n",
       "      <th>3</th>\n",
       "      <td>SibSp</td>\n",
       "      <td>-0.341589</td>\n",
       "    </tr>\n",
       "    <tr>\n",
       "      <th>4</th>\n",
       "      <td>Parch</td>\n",
       "      <td>-0.069551</td>\n",
       "    </tr>\n",
       "    <tr>\n",
       "      <th>5</th>\n",
       "      <td>Fare</td>\n",
       "      <td>0.041764</td>\n",
       "    </tr>\n",
       "    <tr>\n",
       "      <th>6</th>\n",
       "      <td>Embarked</td>\n",
       "      <td>0.233086</td>\n",
       "    </tr>\n",
       "  </tbody>\n",
       "</table>\n",
       "</div>"
      ],
      "text/plain": [
       "   Features  Correlation\n",
       "0    Pclass    -1.126855\n",
       "1       Sex     2.599004\n",
       "2       Age    -0.654501\n",
       "3     SibSp    -0.341589\n",
       "4     Parch    -0.069551\n",
       "5      Fare     0.041764\n",
       "6  Embarked     0.233086"
      ]
     },
     "execution_count": 49,
     "metadata": {},
     "output_type": "execute_result"
    }
   ],
   "source": [
    "#See the coefficients \n",
    "coeff_df = pd.DataFrame(X_train.columns)\n",
    "coeff_df.columns = ['Features']\n",
    "coeff_df['Correlation'] = pd.Series(model_log.coef_[0])\n",
    "coeff_df.sort_values(by = 'Correlation', ascending = False)\n",
    "coeff_df"
   ]
  },
  {
   "cell_type": "code",
   "execution_count": 50,
   "id": "a0c51d7e",
   "metadata": {
    "execution": {
     "iopub.execute_input": "2022-03-28T08:53:51.170335Z",
     "iopub.status.busy": "2022-03-28T08:53:51.164785Z",
     "iopub.status.idle": "2022-03-28T08:53:52.804859Z",
     "shell.execute_reply": "2022-03-28T08:53:52.805448Z",
     "shell.execute_reply.started": "2022-03-28T08:52:42.642176Z"
    },
    "papermill": {
     "duration": 1.720861,
     "end_time": "2022-03-28T08:53:52.805659",
     "exception": false,
     "start_time": "2022-03-28T08:53:51.084798",
     "status": "completed"
    },
    "tags": []
   },
   "outputs": [
    {
     "name": "stdout",
     "output_type": "stream",
     "text": [
      "mean_accuracy_logcv: 0.8035914702581369\n",
      "f1_logcv: 0.7336377473363775\n",
      "mean_cross_val_score_logcv: 0.7968614650681063\n"
     ]
    }
   ],
   "source": [
    "model_logcv = LogisticRegressionCV(cv = 5, random_state = 0)\n",
    "model_logcv.fit(X_train, y_train)\n",
    "y_pred_logcv = model_logcv.predict(X_train)\n",
    "mean_accuracy_logcv = model_logcv.score(X_train, y_train)\n",
    "f1_logcv = f1_score(y_train, y_pred_log)\n",
    "s_logcv = cross_val_score(model_logcv, X_train, y_train, cv = 5).mean()\n",
    "print(\"mean_accuracy_logcv:\", mean_accuracy_log)\n",
    "print(\"f1_logcv:\", f1_log)\n",
    "print(\"mean_cross_val_score_logcv:\", s_logcv)"
   ]
  },
  {
   "cell_type": "code",
   "execution_count": 51,
   "id": "f4b8b731",
   "metadata": {
    "execution": {
     "iopub.execute_input": "2022-03-28T08:53:52.970491Z",
     "iopub.status.busy": "2022-03-28T08:53:52.969827Z",
     "iopub.status.idle": "2022-03-28T08:53:52.984513Z",
     "shell.execute_reply": "2022-03-28T08:53:52.984946Z",
     "shell.execute_reply.started": "2022-03-28T08:52:44.537258Z"
    },
    "papermill": {
     "duration": 0.100651,
     "end_time": "2022-03-28T08:53:52.985146",
     "exception": false,
     "start_time": "2022-03-28T08:53:52.884495",
     "status": "completed"
    },
    "tags": []
   },
   "outputs": [
    {
     "name": "stdout",
     "output_type": "stream",
     "text": [
      "mean_accuracy_sgd: 0.6936026936026936\n",
      "f1_sgd: 0.3546099290780142\n"
     ]
    }
   ],
   "source": [
    "model_sgd = SGDClassifier()\n",
    "model_sgd.fit(X_train, y_train)\n",
    "y_pred_sgd = model_sgd.predict(X_train)\n",
    "mean_accuracy_sgd = model_sgd.score(X_train, y_train)\n",
    "f1_sgd = f1_score(y_train, y_pred_sgd)\n",
    "print(\"mean_accuracy_sgd:\", mean_accuracy_sgd)\n",
    "print(\"f1_sgd:\", f1_sgd)"
   ]
  },
  {
   "cell_type": "code",
   "execution_count": 52,
   "id": "7eb058a9",
   "metadata": {
    "execution": {
     "iopub.execute_input": "2022-03-28T08:53:53.149888Z",
     "iopub.status.busy": "2022-03-28T08:53:53.149273Z",
     "iopub.status.idle": "2022-03-28T08:53:53.282529Z",
     "shell.execute_reply": "2022-03-28T08:53:53.281952Z",
     "shell.execute_reply.started": "2022-03-28T08:52:44.563801Z"
    },
    "papermill": {
     "duration": 0.218974,
     "end_time": "2022-03-28T08:53:53.282670",
     "exception": false,
     "start_time": "2022-03-28T08:53:53.063696",
     "status": "completed"
    },
    "tags": []
   },
   "outputs": [
    {
     "name": "stdout",
     "output_type": "stream",
     "text": [
      "mean_accuracy_svc: 0.8047138047138047\n",
      "f1_svc: 0.7255520504731862\n",
      "mean_cross_val_score_svc: 0.8024543343167411\n"
     ]
    }
   ],
   "source": [
    "model_svc = SVC()\n",
    "model_svc.fit(X_train, y_train)\n",
    "y_pred_svc = model_svc.predict(X_train)\n",
    "mean_accuracy_svc = model_svc.score(X_train, y_train)\n",
    "f1_svc = f1_score(y_train, y_pred_svc)\n",
    "s_svc = cross_val_score(model_svc, X_train, y_train, cv = 5).mean()\n",
    "print(\"mean_accuracy_svc:\", mean_accuracy_svc)\n",
    "print(\"f1_svc:\", f1_svc)\n",
    "print(\"mean_cross_val_score_svc:\", s_svc)"
   ]
  },
  {
   "cell_type": "code",
   "execution_count": 53,
   "id": "02812813",
   "metadata": {
    "execution": {
     "iopub.execute_input": "2022-03-28T08:53:53.446232Z",
     "iopub.status.busy": "2022-03-28T08:53:53.445565Z",
     "iopub.status.idle": "2022-03-28T08:53:53.582847Z",
     "shell.execute_reply": "2022-03-28T08:53:53.583451Z",
     "shell.execute_reply.started": "2022-03-28T08:52:44.717579Z"
    },
    "papermill": {
     "duration": 0.222981,
     "end_time": "2022-03-28T08:53:53.583623",
     "exception": false,
     "start_time": "2022-03-28T08:53:53.360642",
     "status": "completed"
    },
    "tags": []
   },
   "outputs": [
    {
     "name": "stdout",
     "output_type": "stream",
     "text": [
      "mean_accuracy_knn: 0.8518518518518519\n",
      "f1_knn: 0.8075801749271136\n",
      "mean_cross_val_score_knn: 0.7800075324838366\n"
     ]
    }
   ],
   "source": [
    "model_knn = KNeighborsClassifier(n_neighbors = 3)\n",
    "model_knn.fit(X_train, y_train)\n",
    "y_pred_knn = model_knn.predict(X_train)\n",
    "mean_accuracy_knn = model_knn.score(X_train, y_train)\n",
    "f1_knn = f1_score(y_train, y_pred_knn)\n",
    "s_knn = cross_val_score(model_knn, X_train, y_train, cv = 5).mean()\n",
    "print(\"mean_accuracy_knn:\", mean_accuracy_knn)\n",
    "print(\"f1_knn:\", f1_knn)\n",
    "print(\"mean_cross_val_score_knn:\", s_knn)"
   ]
  },
  {
   "cell_type": "code",
   "execution_count": 54,
   "id": "043df981",
   "metadata": {
    "execution": {
     "iopub.execute_input": "2022-03-28T08:53:53.744979Z",
     "iopub.status.busy": "2022-03-28T08:53:53.744025Z",
     "iopub.status.idle": "2022-03-28T08:53:53.778162Z",
     "shell.execute_reply": "2022-03-28T08:53:53.777503Z",
     "shell.execute_reply.started": "2022-03-28T08:52:44.878703Z"
    },
    "papermill": {
     "duration": 0.115907,
     "end_time": "2022-03-28T08:53:53.778304",
     "exception": false,
     "start_time": "2022-03-28T08:53:53.662397",
     "status": "completed"
    },
    "tags": []
   },
   "outputs": [
    {
     "name": "stdout",
     "output_type": "stream",
     "text": [
      "mean_accuracy_gnb: 0.7643097643097643\n",
      "f1_gnb: 0.7222222222222222\n",
      "mean_cross_val_score_gnb: 0.765457284539577\n"
     ]
    }
   ],
   "source": [
    "model_gnb = GaussianNB()\n",
    "model_gnb.fit(X_train, y_train)\n",
    "y_pred_gnb = model_gnb.predict(X_train)\n",
    "mean_accuracy_gnb = model_gnb.score(X_train, y_train)\n",
    "f1_gnb = f1_score(y_train, y_pred_gnb)\n",
    "s_gnb = cross_val_score(model_gnb, X_train, y_train, cv = 5).mean()\n",
    "print(\"mean_accuracy_gnb:\", mean_accuracy_gnb)\n",
    "print(\"f1_gnb:\", f1_gnb)\n",
    "print(\"mean_cross_val_score_gnb:\", s_gnb)"
   ]
  },
  {
   "cell_type": "code",
   "execution_count": 55,
   "id": "76b0c631",
   "metadata": {
    "execution": {
     "iopub.execute_input": "2022-03-28T08:53:53.946412Z",
     "iopub.status.busy": "2022-03-28T08:53:53.945490Z",
     "iopub.status.idle": "2022-03-28T08:53:53.985408Z",
     "shell.execute_reply": "2022-03-28T08:53:53.984624Z",
     "shell.execute_reply.started": "2022-03-28T08:52:44.924807Z"
    },
    "papermill": {
     "duration": 0.125875,
     "end_time": "2022-03-28T08:53:53.985601",
     "exception": false,
     "start_time": "2022-03-28T08:53:53.859726",
     "status": "completed"
    },
    "tags": []
   },
   "outputs": [
    {
     "name": "stdout",
     "output_type": "stream",
     "text": [
      "mean_accuracy_dt: 0.8956228956228957\n",
      "f1_dt: 0.8530805687203792\n",
      "mean_cross_val_score_dt: 0.7889962965287804\n"
     ]
    }
   ],
   "source": [
    "model_dt = DecisionTreeClassifier()\n",
    "model_dt.fit(X_train, y_train)\n",
    "y_pred_dt = model_dt.predict(X_train)\n",
    "mean_accuracy_dt = model_dt.score(X_train, y_train)\n",
    "f1_dt = f1_score(y_train, y_pred_dt)\n",
    "s_dt = cross_val_score(model_dt, X_train, y_train, cv = 5).mean()\n",
    "print(\"mean_accuracy_dt:\", mean_accuracy_dt)\n",
    "print(\"f1_dt:\", f1_dt)\n",
    "print(\"mean_cross_val_score_dt:\", s_dt)"
   ]
  },
  {
   "cell_type": "code",
   "execution_count": 56,
   "id": "bd5509bf",
   "metadata": {
    "execution": {
     "iopub.execute_input": "2022-03-28T08:53:54.151770Z",
     "iopub.status.busy": "2022-03-28T08:53:54.150840Z",
     "iopub.status.idle": "2022-03-28T08:53:55.548724Z",
     "shell.execute_reply": "2022-03-28T08:53:55.549243Z",
     "shell.execute_reply.started": "2022-03-28T08:52:44.972031Z"
    },
    "papermill": {
     "duration": 1.481591,
     "end_time": "2022-03-28T08:53:55.549418",
     "exception": false,
     "start_time": "2022-03-28T08:53:54.067827",
     "status": "completed"
    },
    "tags": []
   },
   "outputs": [
    {
     "name": "stdout",
     "output_type": "stream",
     "text": [
      "mean_accuracy_rf: 0.8956228956228957\n",
      "f1_rf: 0.8575803981623276\n",
      "mean_cross_val_score_rf: 0.8013181846713955\n"
     ]
    }
   ],
   "source": [
    "model_rf = RandomForestClassifier(n_estimators = 100, random_state = 1)\n",
    "model_rf.fit(X_train, y_train)\n",
    "y_pred_rf = model_rf.predict(X_train)\n",
    "mean_accuracy_rf = model_rf.score(X_train, y_train)\n",
    "f1_rf = f1_score(y_train, y_pred_rf)\n",
    "s_rf = cross_val_score(model_rf, X_train, y_train, cv = 5).mean()\n",
    "print(\"mean_accuracy_rf:\", mean_accuracy_rf)\n",
    "print(\"f1_rf:\", f1_rf)\n",
    "print(\"mean_cross_val_score_rf:\", s_rf)"
   ]
  },
  {
   "cell_type": "code",
   "execution_count": 57,
   "id": "4d95b89b",
   "metadata": {
    "execution": {
     "iopub.execute_input": "2022-03-28T08:53:55.713377Z",
     "iopub.status.busy": "2022-03-28T08:53:55.712428Z",
     "iopub.status.idle": "2022-03-28T08:53:57.149944Z",
     "shell.execute_reply": "2022-03-28T08:53:57.150654Z",
     "shell.execute_reply.started": "2022-03-28T08:52:46.443443Z"
    },
    "papermill": {
     "duration": 1.521743,
     "end_time": "2022-03-28T08:53:57.150899",
     "exception": false,
     "start_time": "2022-03-28T08:53:55.629156",
     "status": "completed"
    },
    "tags": []
   },
   "outputs": [
    {
     "name": "stdout",
     "output_type": "stream",
     "text": [
      "mean_accuracy_rf1: 0.8956228956228957\n",
      "f1_rf1: 0.8575803981623276\n",
      "mean_cross_val_score_rf1: 0.797966229364133\n"
     ]
    }
   ],
   "source": [
    "model_rf1 = RandomForestClassifier(n_estimators = 100, max_features = 5, random_state = 1)\n",
    "model_rf1.fit(X_train, y_train)\n",
    "y_pred_rf1 = model_rf1.predict(X_train)\n",
    "mean_accuracy_rf1 = model_rf1.score(X_train, y_train)\n",
    "f1_rf1 = f1_score(y_train, y_pred_rf1)\n",
    "s_rf1 = cross_val_score(model_rf1, X_train, y_train, cv = 5).mean()\n",
    "print(\"mean_accuracy_rf1:\", mean_accuracy_rf1)\n",
    "print(\"f1_rf1:\", f1_rf1)\n",
    "print(\"mean_cross_val_score_rf1:\", s_rf1)"
   ]
  },
  {
   "cell_type": "code",
   "execution_count": 58,
   "id": "b510f2aa",
   "metadata": {
    "execution": {
     "iopub.execute_input": "2022-03-28T08:53:57.318026Z",
     "iopub.status.busy": "2022-03-28T08:53:57.317380Z",
     "iopub.status.idle": "2022-03-28T08:53:57.795513Z",
     "shell.execute_reply": "2022-03-28T08:53:57.796020Z",
     "shell.execute_reply.started": "2022-03-28T08:52:48.055077Z"
    },
    "papermill": {
     "duration": 0.561767,
     "end_time": "2022-03-28T08:53:57.796199",
     "exception": false,
     "start_time": "2022-03-28T08:53:57.234432",
     "status": "completed"
    },
    "tags": []
   },
   "outputs": [
    {
     "name": "stdout",
     "output_type": "stream",
     "text": [
      "{'n_neighbors': 9}\n",
      "0.7890151277383718\n"
     ]
    }
   ],
   "source": [
    "from sklearn.model_selection import GridSearchCV\n",
    "knn2 = KNeighborsClassifier()\n",
    "para_grid = {'n_neighbors': np.arange(2, 10)}\n",
    "knn_gscv = GridSearchCV(knn2, para_grid)\n",
    "knn_gscv.fit(X_train, y_train)\n",
    "print(knn_gscv.best_params_)\n",
    "print(knn_gscv.best_score_)"
   ]
  },
  {
   "cell_type": "code",
   "execution_count": 59,
   "id": "26ae00ec",
   "metadata": {
    "execution": {
     "iopub.execute_input": "2022-03-28T08:53:57.969614Z",
     "iopub.status.busy": "2022-03-28T08:53:57.968610Z",
     "iopub.status.idle": "2022-03-28T08:53:58.113018Z",
     "shell.execute_reply": "2022-03-28T08:53:58.113477Z",
     "shell.execute_reply.started": "2022-03-28T08:52:48.635688Z"
    },
    "papermill": {
     "duration": 0.233649,
     "end_time": "2022-03-28T08:53:58.113657",
     "exception": false,
     "start_time": "2022-03-28T08:53:57.880008",
     "status": "completed"
    },
    "tags": []
   },
   "outputs": [
    {
     "name": "stdout",
     "output_type": "stream",
     "text": [
      "mean_accuracy_knn2: 0.8361391694725028\n",
      "f1_knn2: 0.7711598746081504\n",
      "mean_cross_val_score_knn2: 0.7890151277383718\n"
     ]
    }
   ],
   "source": [
    "model_knn2 = KNeighborsClassifier(n_neighbors  = knn_gscv.best_params_['n_neighbors'])\n",
    "model_knn2.fit(X_train, y_train)\n",
    "y_pred_knn2 = model_knn2.predict(X_train)\n",
    "mean_accuracy_knn2 = model_knn2.score(X_train, y_train)\n",
    "f1_knn2 = f1_score(y_train, y_pred_knn2)\n",
    "s_knn2 = cross_val_score(model_knn2, X_train, y_train, cv = 5).mean()\n",
    "print(\"mean_accuracy_knn2:\", mean_accuracy_knn2)\n",
    "print(\"f1_knn2:\", f1_knn2)\n",
    "print(\"mean_cross_val_score_knn2:\", s_knn2)"
   ]
  },
  {
   "cell_type": "code",
   "execution_count": 60,
   "id": "d83f705c",
   "metadata": {
    "execution": {
     "iopub.execute_input": "2022-03-28T08:53:58.278145Z",
     "iopub.status.busy": "2022-03-28T08:53:58.277216Z",
     "iopub.status.idle": "2022-03-28T08:53:58.304283Z",
     "shell.execute_reply": "2022-03-28T08:53:58.304739Z",
     "shell.execute_reply.started": "2022-03-28T08:52:48.808999Z"
    },
    "papermill": {
     "duration": 0.110943,
     "end_time": "2022-03-28T08:53:58.304935",
     "exception": false,
     "start_time": "2022-03-28T08:53:58.193992",
     "status": "completed"
    },
    "tags": []
   },
   "outputs": [],
   "source": [
    "X_test = pd.get_dummies(test_data.drop(['PassengerId'], axis = 1))\n",
    "predictions = model_rf.predict(X_test)\n",
    "final = pd.DataFrame({'PassengerId': test_data.PassengerId, 'Survived': predictions})\n",
    "final.to_csv('submission.csv', index = False)"
   ]
  }
 ],
 "metadata": {
  "kernelspec": {
   "display_name": "Python 3",
   "language": "python",
   "name": "python3"
  },
  "language_info": {
   "codemirror_mode": {
    "name": "ipython",
    "version": 3
   },
   "file_extension": ".py",
   "mimetype": "text/x-python",
   "name": "python",
   "nbconvert_exporter": "python",
   "pygments_lexer": "ipython3",
   "version": "3.7.12"
  },
  "papermill": {
   "default_parameters": {},
   "duration": 46.292514,
   "end_time": "2022-03-28T08:53:59.294996",
   "environment_variables": {},
   "exception": null,
   "input_path": "__notebook__.ipynb",
   "output_path": "__notebook__.ipynb",
   "parameters": {},
   "start_time": "2022-03-28T08:53:13.002482",
   "version": "2.3.3"
  }
 },
 "nbformat": 4,
 "nbformat_minor": 5
}
