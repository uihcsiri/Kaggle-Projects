{
 "cells": [
  {
   "cell_type": "code",
   "execution_count": 1,
   "id": "415381a0",
   "metadata": {
    "_cell_guid": "b1076dfc-b9ad-4769-8c92-a6c4dae69d19",
    "_uuid": "8f2839f25d086af736a60e9eeb907d3b93b6e0e5",
    "execution": {
     "iopub.execute_input": "2022-02-17T10:01:00.724434Z",
     "iopub.status.busy": "2022-02-17T10:01:00.722596Z",
     "iopub.status.idle": "2022-02-17T10:01:00.738384Z",
     "shell.execute_reply": "2022-02-17T10:01:00.739151Z",
     "shell.execute_reply.started": "2022-02-17T09:59:52.945833Z"
    },
    "papermill": {
     "duration": 0.087985,
     "end_time": "2022-02-17T10:01:00.739567",
     "exception": false,
     "start_time": "2022-02-17T10:01:00.651582",
     "status": "completed"
    },
    "tags": []
   },
   "outputs": [
    {
     "name": "stdout",
     "output_type": "stream",
     "text": [
      "/kaggle/input/titanic/train.csv\n",
      "/kaggle/input/titanic/test.csv\n",
      "/kaggle/input/titanic/gender_submission.csv\n"
     ]
    }
   ],
   "source": [
    "# This Python 3 environment comes with many helpful analytics libraries installed\n",
    "# It is defined by the kaggle/python Docker image: https://github.com/kaggle/docker-python\n",
    "# For example, here's several helpful packages to load\n",
    "\n",
    "import numpy as np # linear algebra\n",
    "import pandas as pd # data processing, CSV file I/O (e.g. pd.read_csv)\n",
    "\n",
    "# Input data files are available in the read-only \"../input/\" directory\n",
    "# For example, running this (by clicking run or pressing Shift+Enter) will list all files under the input directory\n",
    "\n",
    "import os\n",
    "for dirname, _, filenames in os.walk('/kaggle/input'):\n",
    "    for filename in filenames:\n",
    "        print(os.path.join(dirname, filename))\n",
    "\n",
    "# You can write up to 20GB to the current directory (/kaggle/working/) that gets preserved as output when you create a version using \"Save & Run All\" \n",
    "# You can also write temporary files to /kaggle/temp/, but they won't be saved outside of the current session"
   ]
  },
  {
   "cell_type": "code",
   "execution_count": 2,
   "id": "a0440cd6",
   "metadata": {
    "execution": {
     "iopub.execute_input": "2022-02-17T10:01:00.869890Z",
     "iopub.status.busy": "2022-02-17T10:01:00.869305Z",
     "iopub.status.idle": "2022-02-17T10:01:00.924904Z",
     "shell.execute_reply": "2022-02-17T10:01:00.925832Z",
     "shell.execute_reply.started": "2022-02-17T09:59:52.996164Z"
    },
    "papermill": {
     "duration": 0.119243,
     "end_time": "2022-02-17T10:01:00.927188",
     "exception": false,
     "start_time": "2022-02-17T10:01:00.807945",
     "status": "completed"
    },
    "tags": []
   },
   "outputs": [
    {
     "data": {
      "text/html": [
       "<div>\n",
       "<style scoped>\n",
       "    .dataframe tbody tr th:only-of-type {\n",
       "        vertical-align: middle;\n",
       "    }\n",
       "\n",
       "    .dataframe tbody tr th {\n",
       "        vertical-align: top;\n",
       "    }\n",
       "\n",
       "    .dataframe thead th {\n",
       "        text-align: right;\n",
       "    }\n",
       "</style>\n",
       "<table border=\"1\" class=\"dataframe\">\n",
       "  <thead>\n",
       "    <tr style=\"text-align: right;\">\n",
       "      <th></th>\n",
       "      <th>PassengerId</th>\n",
       "      <th>Survived</th>\n",
       "      <th>Pclass</th>\n",
       "      <th>Name</th>\n",
       "      <th>Sex</th>\n",
       "      <th>Age</th>\n",
       "      <th>SibSp</th>\n",
       "      <th>Parch</th>\n",
       "      <th>Ticket</th>\n",
       "      <th>Fare</th>\n",
       "      <th>Cabin</th>\n",
       "      <th>Embarked</th>\n",
       "    </tr>\n",
       "  </thead>\n",
       "  <tbody>\n",
       "    <tr>\n",
       "      <th>0</th>\n",
       "      <td>1</td>\n",
       "      <td>0</td>\n",
       "      <td>3</td>\n",
       "      <td>Braund, Mr. Owen Harris</td>\n",
       "      <td>male</td>\n",
       "      <td>22.0</td>\n",
       "      <td>1</td>\n",
       "      <td>0</td>\n",
       "      <td>A/5 21171</td>\n",
       "      <td>7.2500</td>\n",
       "      <td>NaN</td>\n",
       "      <td>S</td>\n",
       "    </tr>\n",
       "    <tr>\n",
       "      <th>1</th>\n",
       "      <td>2</td>\n",
       "      <td>1</td>\n",
       "      <td>1</td>\n",
       "      <td>Cumings, Mrs. John Bradley (Florence Briggs Th...</td>\n",
       "      <td>female</td>\n",
       "      <td>38.0</td>\n",
       "      <td>1</td>\n",
       "      <td>0</td>\n",
       "      <td>PC 17599</td>\n",
       "      <td>71.2833</td>\n",
       "      <td>C85</td>\n",
       "      <td>C</td>\n",
       "    </tr>\n",
       "    <tr>\n",
       "      <th>2</th>\n",
       "      <td>3</td>\n",
       "      <td>1</td>\n",
       "      <td>3</td>\n",
       "      <td>Heikkinen, Miss. Laina</td>\n",
       "      <td>female</td>\n",
       "      <td>26.0</td>\n",
       "      <td>0</td>\n",
       "      <td>0</td>\n",
       "      <td>STON/O2. 3101282</td>\n",
       "      <td>7.9250</td>\n",
       "      <td>NaN</td>\n",
       "      <td>S</td>\n",
       "    </tr>\n",
       "    <tr>\n",
       "      <th>3</th>\n",
       "      <td>4</td>\n",
       "      <td>1</td>\n",
       "      <td>1</td>\n",
       "      <td>Futrelle, Mrs. Jacques Heath (Lily May Peel)</td>\n",
       "      <td>female</td>\n",
       "      <td>35.0</td>\n",
       "      <td>1</td>\n",
       "      <td>0</td>\n",
       "      <td>113803</td>\n",
       "      <td>53.1000</td>\n",
       "      <td>C123</td>\n",
       "      <td>S</td>\n",
       "    </tr>\n",
       "    <tr>\n",
       "      <th>4</th>\n",
       "      <td>5</td>\n",
       "      <td>0</td>\n",
       "      <td>3</td>\n",
       "      <td>Allen, Mr. William Henry</td>\n",
       "      <td>male</td>\n",
       "      <td>35.0</td>\n",
       "      <td>0</td>\n",
       "      <td>0</td>\n",
       "      <td>373450</td>\n",
       "      <td>8.0500</td>\n",
       "      <td>NaN</td>\n",
       "      <td>S</td>\n",
       "    </tr>\n",
       "  </tbody>\n",
       "</table>\n",
       "</div>"
      ],
      "text/plain": [
       "   PassengerId  Survived  Pclass  \\\n",
       "0            1         0       3   \n",
       "1            2         1       1   \n",
       "2            3         1       3   \n",
       "3            4         1       1   \n",
       "4            5         0       3   \n",
       "\n",
       "                                                Name     Sex   Age  SibSp  \\\n",
       "0                            Braund, Mr. Owen Harris    male  22.0      1   \n",
       "1  Cumings, Mrs. John Bradley (Florence Briggs Th...  female  38.0      1   \n",
       "2                             Heikkinen, Miss. Laina  female  26.0      0   \n",
       "3       Futrelle, Mrs. Jacques Heath (Lily May Peel)  female  35.0      1   \n",
       "4                           Allen, Mr. William Henry    male  35.0      0   \n",
       "\n",
       "   Parch            Ticket     Fare Cabin Embarked  \n",
       "0      0         A/5 21171   7.2500   NaN        S  \n",
       "1      0          PC 17599  71.2833   C85        C  \n",
       "2      0  STON/O2. 3101282   7.9250   NaN        S  \n",
       "3      0            113803  53.1000  C123        S  \n",
       "4      0            373450   8.0500   NaN        S  "
      ]
     },
     "execution_count": 2,
     "metadata": {},
     "output_type": "execute_result"
    }
   ],
   "source": [
    "train_data = pd.read_csv(\"/kaggle/input/titanic/train.csv\",skipinitialspace = True)\n",
    "train_data.head()"
   ]
  },
  {
   "cell_type": "code",
   "execution_count": 3,
   "id": "e4e70f2f",
   "metadata": {
    "execution": {
     "iopub.execute_input": "2022-02-17T10:01:01.073237Z",
     "iopub.status.busy": "2022-02-17T10:01:01.072621Z",
     "iopub.status.idle": "2022-02-17T10:01:01.102808Z",
     "shell.execute_reply": "2022-02-17T10:01:01.103274Z",
     "shell.execute_reply.started": "2022-02-17T09:59:53.030254Z"
    },
    "papermill": {
     "duration": 0.09415,
     "end_time": "2022-02-17T10:01:01.103443",
     "exception": false,
     "start_time": "2022-02-17T10:01:01.009293",
     "status": "completed"
    },
    "tags": []
   },
   "outputs": [
    {
     "data": {
      "text/html": [
       "<div>\n",
       "<style scoped>\n",
       "    .dataframe tbody tr th:only-of-type {\n",
       "        vertical-align: middle;\n",
       "    }\n",
       "\n",
       "    .dataframe tbody tr th {\n",
       "        vertical-align: top;\n",
       "    }\n",
       "\n",
       "    .dataframe thead th {\n",
       "        text-align: right;\n",
       "    }\n",
       "</style>\n",
       "<table border=\"1\" class=\"dataframe\">\n",
       "  <thead>\n",
       "    <tr style=\"text-align: right;\">\n",
       "      <th></th>\n",
       "      <th>Name</th>\n",
       "      <th>Sex</th>\n",
       "      <th>Ticket</th>\n",
       "      <th>Cabin</th>\n",
       "      <th>Embarked</th>\n",
       "    </tr>\n",
       "  </thead>\n",
       "  <tbody>\n",
       "    <tr>\n",
       "      <th>count</th>\n",
       "      <td>891</td>\n",
       "      <td>891</td>\n",
       "      <td>891</td>\n",
       "      <td>204</td>\n",
       "      <td>889</td>\n",
       "    </tr>\n",
       "    <tr>\n",
       "      <th>unique</th>\n",
       "      <td>891</td>\n",
       "      <td>2</td>\n",
       "      <td>681</td>\n",
       "      <td>147</td>\n",
       "      <td>3</td>\n",
       "    </tr>\n",
       "    <tr>\n",
       "      <th>top</th>\n",
       "      <td>Braund, Mr. Owen Harris</td>\n",
       "      <td>male</td>\n",
       "      <td>347082</td>\n",
       "      <td>B96 B98</td>\n",
       "      <td>S</td>\n",
       "    </tr>\n",
       "    <tr>\n",
       "      <th>freq</th>\n",
       "      <td>1</td>\n",
       "      <td>577</td>\n",
       "      <td>7</td>\n",
       "      <td>4</td>\n",
       "      <td>644</td>\n",
       "    </tr>\n",
       "  </tbody>\n",
       "</table>\n",
       "</div>"
      ],
      "text/plain": [
       "                           Name   Sex  Ticket    Cabin Embarked\n",
       "count                       891   891     891      204      889\n",
       "unique                      891     2     681      147        3\n",
       "top     Braund, Mr. Owen Harris  male  347082  B96 B98        S\n",
       "freq                          1   577       7        4      644"
      ]
     },
     "execution_count": 3,
     "metadata": {},
     "output_type": "execute_result"
    }
   ],
   "source": [
    "train_data.describe(include = ['O'])"
   ]
  },
  {
   "cell_type": "code",
   "execution_count": 4,
   "id": "7ad98fed",
   "metadata": {
    "execution": {
     "iopub.execute_input": "2022-02-17T10:01:01.232535Z",
     "iopub.status.busy": "2022-02-17T10:01:01.231555Z",
     "iopub.status.idle": "2022-02-17T10:01:01.244394Z",
     "shell.execute_reply": "2022-02-17T10:01:01.244837Z",
     "shell.execute_reply.started": "2022-02-17T09:59:53.067183Z"
    },
    "papermill": {
     "duration": 0.082847,
     "end_time": "2022-02-17T10:01:01.245003",
     "exception": false,
     "start_time": "2022-02-17T10:01:01.162156",
     "status": "completed"
    },
    "tags": []
   },
   "outputs": [
    {
     "data": {
      "text/html": [
       "<div>\n",
       "<style scoped>\n",
       "    .dataframe tbody tr th:only-of-type {\n",
       "        vertical-align: middle;\n",
       "    }\n",
       "\n",
       "    .dataframe tbody tr th {\n",
       "        vertical-align: top;\n",
       "    }\n",
       "\n",
       "    .dataframe thead th {\n",
       "        text-align: right;\n",
       "    }\n",
       "</style>\n",
       "<table border=\"1\" class=\"dataframe\">\n",
       "  <thead>\n",
       "    <tr style=\"text-align: right;\">\n",
       "      <th></th>\n",
       "      <th>PassengerId</th>\n",
       "      <th>Survived</th>\n",
       "      <th>Pclass</th>\n",
       "      <th>Name</th>\n",
       "      <th>Sex</th>\n",
       "      <th>Age</th>\n",
       "      <th>SibSp</th>\n",
       "      <th>Parch</th>\n",
       "      <th>Fare</th>\n",
       "      <th>Embarked</th>\n",
       "    </tr>\n",
       "  </thead>\n",
       "  <tbody>\n",
       "    <tr>\n",
       "      <th>0</th>\n",
       "      <td>1</td>\n",
       "      <td>0</td>\n",
       "      <td>3</td>\n",
       "      <td>Braund, Mr. Owen Harris</td>\n",
       "      <td>male</td>\n",
       "      <td>22.0</td>\n",
       "      <td>1</td>\n",
       "      <td>0</td>\n",
       "      <td>7.2500</td>\n",
       "      <td>S</td>\n",
       "    </tr>\n",
       "    <tr>\n",
       "      <th>1</th>\n",
       "      <td>2</td>\n",
       "      <td>1</td>\n",
       "      <td>1</td>\n",
       "      <td>Cumings, Mrs. John Bradley (Florence Briggs Th...</td>\n",
       "      <td>female</td>\n",
       "      <td>38.0</td>\n",
       "      <td>1</td>\n",
       "      <td>0</td>\n",
       "      <td>71.2833</td>\n",
       "      <td>C</td>\n",
       "    </tr>\n",
       "    <tr>\n",
       "      <th>2</th>\n",
       "      <td>3</td>\n",
       "      <td>1</td>\n",
       "      <td>3</td>\n",
       "      <td>Heikkinen, Miss. Laina</td>\n",
       "      <td>female</td>\n",
       "      <td>26.0</td>\n",
       "      <td>0</td>\n",
       "      <td>0</td>\n",
       "      <td>7.9250</td>\n",
       "      <td>S</td>\n",
       "    </tr>\n",
       "    <tr>\n",
       "      <th>3</th>\n",
       "      <td>4</td>\n",
       "      <td>1</td>\n",
       "      <td>1</td>\n",
       "      <td>Futrelle, Mrs. Jacques Heath (Lily May Peel)</td>\n",
       "      <td>female</td>\n",
       "      <td>35.0</td>\n",
       "      <td>1</td>\n",
       "      <td>0</td>\n",
       "      <td>53.1000</td>\n",
       "      <td>S</td>\n",
       "    </tr>\n",
       "    <tr>\n",
       "      <th>4</th>\n",
       "      <td>5</td>\n",
       "      <td>0</td>\n",
       "      <td>3</td>\n",
       "      <td>Allen, Mr. William Henry</td>\n",
       "      <td>male</td>\n",
       "      <td>35.0</td>\n",
       "      <td>0</td>\n",
       "      <td>0</td>\n",
       "      <td>8.0500</td>\n",
       "      <td>S</td>\n",
       "    </tr>\n",
       "  </tbody>\n",
       "</table>\n",
       "</div>"
      ],
      "text/plain": [
       "   PassengerId  Survived  Pclass  \\\n",
       "0            1         0       3   \n",
       "1            2         1       1   \n",
       "2            3         1       3   \n",
       "3            4         1       1   \n",
       "4            5         0       3   \n",
       "\n",
       "                                                Name     Sex   Age  SibSp  \\\n",
       "0                            Braund, Mr. Owen Harris    male  22.0      1   \n",
       "1  Cumings, Mrs. John Bradley (Florence Briggs Th...  female  38.0      1   \n",
       "2                             Heikkinen, Miss. Laina  female  26.0      0   \n",
       "3       Futrelle, Mrs. Jacques Heath (Lily May Peel)  female  35.0      1   \n",
       "4                           Allen, Mr. William Henry    male  35.0      0   \n",
       "\n",
       "   Parch     Fare Embarked  \n",
       "0      0   7.2500        S  \n",
       "1      0  71.2833        C  \n",
       "2      0   7.9250        S  \n",
       "3      0  53.1000        S  \n",
       "4      0   8.0500        S  "
      ]
     },
     "execution_count": 4,
     "metadata": {},
     "output_type": "execute_result"
    }
   ],
   "source": [
    "train_data = train_data.drop(['Ticket', 'Cabin'], axis = 1)\n",
    "train_data.head()"
   ]
  },
  {
   "cell_type": "code",
   "execution_count": 5,
   "id": "ed0eab5c",
   "metadata": {
    "execution": {
     "iopub.execute_input": "2022-02-17T10:01:01.379019Z",
     "iopub.status.busy": "2022-02-17T10:01:01.378375Z",
     "iopub.status.idle": "2022-02-17T10:01:01.382576Z",
     "shell.execute_reply": "2022-02-17T10:01:01.383143Z",
     "shell.execute_reply.started": "2022-02-17T09:59:53.083932Z"
    },
    "papermill": {
     "duration": 0.078383,
     "end_time": "2022-02-17T10:01:01.383337",
     "exception": false,
     "start_time": "2022-02-17T10:01:01.304954",
     "status": "completed"
    },
    "tags": []
   },
   "outputs": [
    {
     "data": {
      "text/plain": [
       "<bound method DataFrame.info of      PassengerId  Survived  Pclass  \\\n",
       "0              1         0       3   \n",
       "1              2         1       1   \n",
       "2              3         1       3   \n",
       "3              4         1       1   \n",
       "4              5         0       3   \n",
       "..           ...       ...     ...   \n",
       "886          887         0       2   \n",
       "887          888         1       1   \n",
       "888          889         0       3   \n",
       "889          890         1       1   \n",
       "890          891         0       3   \n",
       "\n",
       "                                                  Name     Sex   Age  SibSp  \\\n",
       "0                              Braund, Mr. Owen Harris    male  22.0      1   \n",
       "1    Cumings, Mrs. John Bradley (Florence Briggs Th...  female  38.0      1   \n",
       "2                               Heikkinen, Miss. Laina  female  26.0      0   \n",
       "3         Futrelle, Mrs. Jacques Heath (Lily May Peel)  female  35.0      1   \n",
       "4                             Allen, Mr. William Henry    male  35.0      0   \n",
       "..                                                 ...     ...   ...    ...   \n",
       "886                              Montvila, Rev. Juozas    male  27.0      0   \n",
       "887                       Graham, Miss. Margaret Edith  female  19.0      0   \n",
       "888           Johnston, Miss. Catherine Helen \"Carrie\"  female   NaN      1   \n",
       "889                              Behr, Mr. Karl Howell    male  26.0      0   \n",
       "890                                Dooley, Mr. Patrick    male  32.0      0   \n",
       "\n",
       "     Parch     Fare Embarked  \n",
       "0        0   7.2500        S  \n",
       "1        0  71.2833        C  \n",
       "2        0   7.9250        S  \n",
       "3        0  53.1000        S  \n",
       "4        0   8.0500        S  \n",
       "..     ...      ...      ...  \n",
       "886      0  13.0000        S  \n",
       "887      0  30.0000        S  \n",
       "888      2  23.4500        S  \n",
       "889      0  30.0000        C  \n",
       "890      0   7.7500        Q  \n",
       "\n",
       "[891 rows x 10 columns]>"
      ]
     },
     "execution_count": 5,
     "metadata": {},
     "output_type": "execute_result"
    }
   ],
   "source": [
    "train_data.info"
   ]
  },
  {
   "cell_type": "code",
   "execution_count": 6,
   "id": "e2f9caba",
   "metadata": {
    "execution": {
     "iopub.execute_input": "2022-02-17T10:01:01.508407Z",
     "iopub.status.busy": "2022-02-17T10:01:01.507791Z",
     "iopub.status.idle": "2022-02-17T10:01:01.541863Z",
     "shell.execute_reply": "2022-02-17T10:01:01.542613Z",
     "shell.execute_reply.started": "2022-02-17T09:59:53.103921Z"
    },
    "papermill": {
     "duration": 0.097353,
     "end_time": "2022-02-17T10:01:01.542831",
     "exception": false,
     "start_time": "2022-02-17T10:01:01.445478",
     "status": "completed"
    },
    "tags": []
   },
   "outputs": [
    {
     "name": "stdout",
     "output_type": "stream",
     "text": [
      "       PassengerId    Survived      Pclass         Age       SibSp  \\\n",
      "count   891.000000  891.000000  891.000000  714.000000  891.000000   \n",
      "mean    446.000000    0.383838    2.308642   29.699118    0.523008   \n",
      "std     257.353842    0.486592    0.836071   14.526497    1.102743   \n",
      "min       1.000000    0.000000    1.000000    0.420000    0.000000   \n",
      "25%     223.500000    0.000000    2.000000   20.125000    0.000000   \n",
      "50%     446.000000    0.000000    3.000000   28.000000    0.000000   \n",
      "75%     668.500000    1.000000    3.000000   38.000000    1.000000   \n",
      "max     891.000000    1.000000    3.000000   80.000000    8.000000   \n",
      "\n",
      "            Parch        Fare  \n",
      "count  891.000000  891.000000  \n",
      "mean     0.381594   32.204208  \n",
      "std      0.806057   49.693429  \n",
      "min      0.000000    0.000000  \n",
      "25%      0.000000    7.910400  \n",
      "50%      0.000000   14.454200  \n",
      "75%      0.000000   31.000000  \n",
      "max      6.000000  512.329200  \n",
      "                           Name   Sex Embarked\n",
      "count                       891   891      889\n",
      "unique                      891     2        3\n",
      "top     Braund, Mr. Owen Harris  male        S\n",
      "freq                          1   577      644\n"
     ]
    }
   ],
   "source": [
    "print(train_data.describe())\n",
    "print(train_data.describe(include=['O']))"
   ]
  },
  {
   "cell_type": "code",
   "execution_count": 7,
   "id": "9a917d54",
   "metadata": {
    "execution": {
     "iopub.execute_input": "2022-02-17T10:01:01.674655Z",
     "iopub.status.busy": "2022-02-17T10:01:01.673801Z",
     "iopub.status.idle": "2022-02-17T10:01:01.677488Z",
     "shell.execute_reply": "2022-02-17T10:01:01.676822Z",
     "shell.execute_reply.started": "2022-02-17T09:59:53.145487Z"
    },
    "papermill": {
     "duration": 0.072451,
     "end_time": "2022-02-17T10:01:01.677627",
     "exception": false,
     "start_time": "2022-02-17T10:01:01.605176",
     "status": "completed"
    },
    "tags": []
   },
   "outputs": [
    {
     "data": {
      "text/plain": [
       "PassengerId      0\n",
       "Survived         0\n",
       "Pclass           0\n",
       "Name             0\n",
       "Sex              0\n",
       "Age            177\n",
       "SibSp            0\n",
       "Parch            0\n",
       "Fare             0\n",
       "Embarked         2\n",
       "dtype: int64"
      ]
     },
     "execution_count": 7,
     "metadata": {},
     "output_type": "execute_result"
    }
   ],
   "source": [
    "train_data.isna().sum()"
   ]
  },
  {
   "cell_type": "code",
   "execution_count": 8,
   "id": "e65ca230",
   "metadata": {
    "execution": {
     "iopub.execute_input": "2022-02-17T10:01:01.807250Z",
     "iopub.status.busy": "2022-02-17T10:01:01.806608Z",
     "iopub.status.idle": "2022-02-17T10:01:01.828314Z",
     "shell.execute_reply": "2022-02-17T10:01:01.828762Z",
     "shell.execute_reply.started": "2022-02-17T09:59:53.154617Z"
    },
    "papermill": {
     "duration": 0.088631,
     "end_time": "2022-02-17T10:01:01.828936",
     "exception": false,
     "start_time": "2022-02-17T10:01:01.740305",
     "status": "completed"
    },
    "tags": []
   },
   "outputs": [
    {
     "data": {
      "text/html": [
       "<div>\n",
       "<style scoped>\n",
       "    .dataframe tbody tr th:only-of-type {\n",
       "        vertical-align: middle;\n",
       "    }\n",
       "\n",
       "    .dataframe tbody tr th {\n",
       "        vertical-align: top;\n",
       "    }\n",
       "\n",
       "    .dataframe thead th {\n",
       "        text-align: right;\n",
       "    }\n",
       "</style>\n",
       "<table border=\"1\" class=\"dataframe\">\n",
       "  <thead>\n",
       "    <tr style=\"text-align: right;\">\n",
       "      <th></th>\n",
       "      <th>PassengerId</th>\n",
       "      <th>Pclass</th>\n",
       "      <th>Name</th>\n",
       "      <th>Sex</th>\n",
       "      <th>Age</th>\n",
       "      <th>SibSp</th>\n",
       "      <th>Parch</th>\n",
       "      <th>Fare</th>\n",
       "      <th>Embarked</th>\n",
       "    </tr>\n",
       "  </thead>\n",
       "  <tbody>\n",
       "    <tr>\n",
       "      <th>0</th>\n",
       "      <td>892</td>\n",
       "      <td>3</td>\n",
       "      <td>Kelly, Mr. James</td>\n",
       "      <td>male</td>\n",
       "      <td>34.5</td>\n",
       "      <td>0</td>\n",
       "      <td>0</td>\n",
       "      <td>7.8292</td>\n",
       "      <td>Q</td>\n",
       "    </tr>\n",
       "    <tr>\n",
       "      <th>1</th>\n",
       "      <td>893</td>\n",
       "      <td>3</td>\n",
       "      <td>Wilkes, Mrs. James (Ellen Needs)</td>\n",
       "      <td>female</td>\n",
       "      <td>47.0</td>\n",
       "      <td>1</td>\n",
       "      <td>0</td>\n",
       "      <td>7.0000</td>\n",
       "      <td>S</td>\n",
       "    </tr>\n",
       "    <tr>\n",
       "      <th>2</th>\n",
       "      <td>894</td>\n",
       "      <td>2</td>\n",
       "      <td>Myles, Mr. Thomas Francis</td>\n",
       "      <td>male</td>\n",
       "      <td>62.0</td>\n",
       "      <td>0</td>\n",
       "      <td>0</td>\n",
       "      <td>9.6875</td>\n",
       "      <td>Q</td>\n",
       "    </tr>\n",
       "    <tr>\n",
       "      <th>3</th>\n",
       "      <td>895</td>\n",
       "      <td>3</td>\n",
       "      <td>Wirz, Mr. Albert</td>\n",
       "      <td>male</td>\n",
       "      <td>27.0</td>\n",
       "      <td>0</td>\n",
       "      <td>0</td>\n",
       "      <td>8.6625</td>\n",
       "      <td>S</td>\n",
       "    </tr>\n",
       "    <tr>\n",
       "      <th>4</th>\n",
       "      <td>896</td>\n",
       "      <td>3</td>\n",
       "      <td>Hirvonen, Mrs. Alexander (Helga E Lindqvist)</td>\n",
       "      <td>female</td>\n",
       "      <td>22.0</td>\n",
       "      <td>1</td>\n",
       "      <td>1</td>\n",
       "      <td>12.2875</td>\n",
       "      <td>S</td>\n",
       "    </tr>\n",
       "  </tbody>\n",
       "</table>\n",
       "</div>"
      ],
      "text/plain": [
       "   PassengerId  Pclass                                          Name     Sex  \\\n",
       "0          892       3                              Kelly, Mr. James    male   \n",
       "1          893       3              Wilkes, Mrs. James (Ellen Needs)  female   \n",
       "2          894       2                     Myles, Mr. Thomas Francis    male   \n",
       "3          895       3                              Wirz, Mr. Albert    male   \n",
       "4          896       3  Hirvonen, Mrs. Alexander (Helga E Lindqvist)  female   \n",
       "\n",
       "    Age  SibSp  Parch     Fare Embarked  \n",
       "0  34.5      0      0   7.8292        Q  \n",
       "1  47.0      1      0   7.0000        S  \n",
       "2  62.0      0      0   9.6875        Q  \n",
       "3  27.0      0      0   8.6625        S  \n",
       "4  22.0      1      1  12.2875        S  "
      ]
     },
     "execution_count": 8,
     "metadata": {},
     "output_type": "execute_result"
    }
   ],
   "source": [
    "test_data = pd.read_csv(\"/kaggle/input/titanic/test.csv\", skipinitialspace = True)\n",
    "test_data = test_data.drop(['Ticket', 'Cabin'], axis = 1)\n",
    "test_data.head()"
   ]
  },
  {
   "cell_type": "code",
   "execution_count": 9,
   "id": "23d2d534",
   "metadata": {
    "execution": {
     "iopub.execute_input": "2022-02-17T10:01:01.963751Z",
     "iopub.status.busy": "2022-02-17T10:01:01.963106Z",
     "iopub.status.idle": "2022-02-17T10:01:01.965534Z",
     "shell.execute_reply": "2022-02-17T10:01:01.965980Z",
     "shell.execute_reply.started": "2022-02-17T09:59:53.181688Z"
    },
    "papermill": {
     "duration": 0.073426,
     "end_time": "2022-02-17T10:01:01.966146",
     "exception": false,
     "start_time": "2022-02-17T10:01:01.892720",
     "status": "completed"
    },
    "tags": []
   },
   "outputs": [
    {
     "data": {
      "text/plain": [
       "PassengerId     0\n",
       "Pclass          0\n",
       "Name            0\n",
       "Sex             0\n",
       "Age            86\n",
       "SibSp           0\n",
       "Parch           0\n",
       "Fare            1\n",
       "Embarked        0\n",
       "dtype: int64"
      ]
     },
     "execution_count": 9,
     "metadata": {},
     "output_type": "execute_result"
    }
   ],
   "source": [
    "test_data.isna().sum()"
   ]
  },
  {
   "cell_type": "code",
   "execution_count": 10,
   "id": "af72ecd0",
   "metadata": {
    "execution": {
     "iopub.execute_input": "2022-02-17T10:01:02.096347Z",
     "iopub.status.busy": "2022-02-17T10:01:02.095668Z",
     "iopub.status.idle": "2022-02-17T10:01:02.105686Z",
     "shell.execute_reply": "2022-02-17T10:01:02.106366Z",
     "shell.execute_reply.started": "2022-02-17T09:59:53.190326Z"
    },
    "papermill": {
     "duration": 0.075588,
     "end_time": "2022-02-17T10:01:02.106573",
     "exception": false,
     "start_time": "2022-02-17T10:01:02.030985",
     "status": "completed"
    },
    "tags": []
   },
   "outputs": [
    {
     "name": "stdout",
     "output_type": "stream",
     "text": [
      "male      577\n",
      "female    314\n",
      "Name: Sex, dtype: int64\n",
      "S    644\n",
      "C    168\n",
      "Q     77\n",
      "Name: Embarked, dtype: int64\n",
      "3    491\n",
      "1    216\n",
      "2    184\n",
      "Name: Pclass, dtype: int64\n",
      "0    549\n",
      "1    342\n",
      "Name: Survived, dtype: int64\n"
     ]
    }
   ],
   "source": [
    "print(train_data['Sex'].value_counts())\n",
    "print(train_data['Embarked'].value_counts())\n",
    "print(train_data['Pclass'].value_counts())\n",
    "print(train_data['Survived'].value_counts())"
   ]
  },
  {
   "cell_type": "code",
   "execution_count": 11,
   "id": "f6f67d06",
   "metadata": {
    "execution": {
     "iopub.execute_input": "2022-02-17T10:01:02.249541Z",
     "iopub.status.busy": "2022-02-17T10:01:02.248868Z",
     "iopub.status.idle": "2022-02-17T10:01:02.251413Z",
     "shell.execute_reply": "2022-02-17T10:01:02.251876Z",
     "shell.execute_reply.started": "2022-02-17T09:59:53.239244Z"
    },
    "papermill": {
     "duration": 0.082413,
     "end_time": "2022-02-17T10:01:02.252042",
     "exception": false,
     "start_time": "2022-02-17T10:01:02.169629",
     "status": "completed"
    },
    "tags": []
   },
   "outputs": [
    {
     "data": {
      "text/html": [
       "<div>\n",
       "<style scoped>\n",
       "    .dataframe tbody tr th:only-of-type {\n",
       "        vertical-align: middle;\n",
       "    }\n",
       "\n",
       "    .dataframe tbody tr th {\n",
       "        vertical-align: top;\n",
       "    }\n",
       "\n",
       "    .dataframe thead th {\n",
       "        text-align: right;\n",
       "    }\n",
       "</style>\n",
       "<table border=\"1\" class=\"dataframe\">\n",
       "  <thead>\n",
       "    <tr style=\"text-align: right;\">\n",
       "      <th></th>\n",
       "      <th>PassengerId</th>\n",
       "      <th>Survived</th>\n",
       "      <th>Pclass</th>\n",
       "      <th>Name</th>\n",
       "      <th>Sex</th>\n",
       "      <th>Age</th>\n",
       "      <th>SibSp</th>\n",
       "      <th>Parch</th>\n",
       "      <th>Fare</th>\n",
       "      <th>Embarked</th>\n",
       "    </tr>\n",
       "  </thead>\n",
       "  <tbody>\n",
       "    <tr>\n",
       "      <th>0</th>\n",
       "      <td>1</td>\n",
       "      <td>0</td>\n",
       "      <td>3</td>\n",
       "      <td>Braund, Mr. Owen Harris</td>\n",
       "      <td>0</td>\n",
       "      <td>22.0</td>\n",
       "      <td>1</td>\n",
       "      <td>0</td>\n",
       "      <td>7.2500</td>\n",
       "      <td>S</td>\n",
       "    </tr>\n",
       "    <tr>\n",
       "      <th>1</th>\n",
       "      <td>2</td>\n",
       "      <td>1</td>\n",
       "      <td>1</td>\n",
       "      <td>Cumings, Mrs. John Bradley (Florence Briggs Th...</td>\n",
       "      <td>1</td>\n",
       "      <td>38.0</td>\n",
       "      <td>1</td>\n",
       "      <td>0</td>\n",
       "      <td>71.2833</td>\n",
       "      <td>C</td>\n",
       "    </tr>\n",
       "    <tr>\n",
       "      <th>2</th>\n",
       "      <td>3</td>\n",
       "      <td>1</td>\n",
       "      <td>3</td>\n",
       "      <td>Heikkinen, Miss. Laina</td>\n",
       "      <td>1</td>\n",
       "      <td>26.0</td>\n",
       "      <td>0</td>\n",
       "      <td>0</td>\n",
       "      <td>7.9250</td>\n",
       "      <td>S</td>\n",
       "    </tr>\n",
       "    <tr>\n",
       "      <th>3</th>\n",
       "      <td>4</td>\n",
       "      <td>1</td>\n",
       "      <td>1</td>\n",
       "      <td>Futrelle, Mrs. Jacques Heath (Lily May Peel)</td>\n",
       "      <td>1</td>\n",
       "      <td>35.0</td>\n",
       "      <td>1</td>\n",
       "      <td>0</td>\n",
       "      <td>53.1000</td>\n",
       "      <td>S</td>\n",
       "    </tr>\n",
       "    <tr>\n",
       "      <th>4</th>\n",
       "      <td>5</td>\n",
       "      <td>0</td>\n",
       "      <td>3</td>\n",
       "      <td>Allen, Mr. William Henry</td>\n",
       "      <td>0</td>\n",
       "      <td>35.0</td>\n",
       "      <td>0</td>\n",
       "      <td>0</td>\n",
       "      <td>8.0500</td>\n",
       "      <td>S</td>\n",
       "    </tr>\n",
       "  </tbody>\n",
       "</table>\n",
       "</div>"
      ],
      "text/plain": [
       "   PassengerId  Survived  Pclass  \\\n",
       "0            1         0       3   \n",
       "1            2         1       1   \n",
       "2            3         1       3   \n",
       "3            4         1       1   \n",
       "4            5         0       3   \n",
       "\n",
       "                                                Name  Sex   Age  SibSp  Parch  \\\n",
       "0                            Braund, Mr. Owen Harris    0  22.0      1      0   \n",
       "1  Cumings, Mrs. John Bradley (Florence Briggs Th...    1  38.0      1      0   \n",
       "2                             Heikkinen, Miss. Laina    1  26.0      0      0   \n",
       "3       Futrelle, Mrs. Jacques Heath (Lily May Peel)    1  35.0      1      0   \n",
       "4                           Allen, Mr. William Henry    0  35.0      0      0   \n",
       "\n",
       "      Fare Embarked  \n",
       "0   7.2500        S  \n",
       "1  71.2833        C  \n",
       "2   7.9250        S  \n",
       "3  53.1000        S  \n",
       "4   8.0500        S  "
      ]
     },
     "execution_count": 11,
     "metadata": {},
     "output_type": "execute_result"
    }
   ],
   "source": [
    "combine = [train_data, test_data]\n",
    "for dataset in combine:\n",
    "    dataset['Sex'] = dataset['Sex'].map( {'female': 1, 'male': 0} ).astype(int)\n",
    "\n",
    "train_data.head()"
   ]
  },
  {
   "cell_type": "code",
   "execution_count": 12,
   "id": "0e19ca9b",
   "metadata": {
    "execution": {
     "iopub.execute_input": "2022-02-17T10:01:02.380234Z",
     "iopub.status.busy": "2022-02-17T10:01:02.379646Z",
     "iopub.status.idle": "2022-02-17T10:01:02.392599Z",
     "shell.execute_reply": "2022-02-17T10:01:02.393257Z",
     "shell.execute_reply.started": "2022-02-17T09:59:53.308909Z"
    },
    "papermill": {
     "duration": 0.078656,
     "end_time": "2022-02-17T10:01:02.393427",
     "exception": false,
     "start_time": "2022-02-17T10:01:02.314771",
     "status": "completed"
    },
    "tags": []
   },
   "outputs": [
    {
     "data": {
      "text/html": [
       "<div>\n",
       "<style scoped>\n",
       "    .dataframe tbody tr th:only-of-type {\n",
       "        vertical-align: middle;\n",
       "    }\n",
       "\n",
       "    .dataframe tbody tr th {\n",
       "        vertical-align: top;\n",
       "    }\n",
       "\n",
       "    .dataframe thead th {\n",
       "        text-align: right;\n",
       "    }\n",
       "</style>\n",
       "<table border=\"1\" class=\"dataframe\">\n",
       "  <thead>\n",
       "    <tr style=\"text-align: right;\">\n",
       "      <th></th>\n",
       "      <th>PassengerId</th>\n",
       "      <th>Survived</th>\n",
       "      <th>Pclass</th>\n",
       "      <th>Name</th>\n",
       "      <th>Sex</th>\n",
       "      <th>Age</th>\n",
       "      <th>SibSp</th>\n",
       "      <th>Parch</th>\n",
       "      <th>Fare</th>\n",
       "      <th>Embarked</th>\n",
       "    </tr>\n",
       "  </thead>\n",
       "  <tbody>\n",
       "    <tr>\n",
       "      <th>61</th>\n",
       "      <td>62</td>\n",
       "      <td>1</td>\n",
       "      <td>1</td>\n",
       "      <td>Icard, Miss. Amelie</td>\n",
       "      <td>1</td>\n",
       "      <td>38.0</td>\n",
       "      <td>0</td>\n",
       "      <td>0</td>\n",
       "      <td>80.0</td>\n",
       "      <td>NaN</td>\n",
       "    </tr>\n",
       "    <tr>\n",
       "      <th>829</th>\n",
       "      <td>830</td>\n",
       "      <td>1</td>\n",
       "      <td>1</td>\n",
       "      <td>Stone, Mrs. George Nelson (Martha Evelyn)</td>\n",
       "      <td>1</td>\n",
       "      <td>62.0</td>\n",
       "      <td>0</td>\n",
       "      <td>0</td>\n",
       "      <td>80.0</td>\n",
       "      <td>NaN</td>\n",
       "    </tr>\n",
       "  </tbody>\n",
       "</table>\n",
       "</div>"
      ],
      "text/plain": [
       "     PassengerId  Survived  Pclass                                       Name  \\\n",
       "61            62         1       1                        Icard, Miss. Amelie   \n",
       "829          830         1       1  Stone, Mrs. George Nelson (Martha Evelyn)   \n",
       "\n",
       "     Sex   Age  SibSp  Parch  Fare Embarked  \n",
       "61     1  38.0      0      0  80.0      NaN  \n",
       "829    1  62.0      0      0  80.0      NaN  "
      ]
     },
     "execution_count": 12,
     "metadata": {},
     "output_type": "execute_result"
    }
   ],
   "source": [
    "train_data.loc[train_data['Embarked'].isna()]"
   ]
  },
  {
   "cell_type": "code",
   "execution_count": 13,
   "id": "fb9340ab",
   "metadata": {
    "execution": {
     "iopub.execute_input": "2022-02-17T10:01:02.524074Z",
     "iopub.status.busy": "2022-02-17T10:01:02.523455Z",
     "iopub.status.idle": "2022-02-17T10:01:02.528462Z",
     "shell.execute_reply": "2022-02-17T10:01:02.528999Z",
     "shell.execute_reply.started": "2022-02-17T09:59:53.330271Z"
    },
    "papermill": {
     "duration": 0.07256,
     "end_time": "2022-02-17T10:01:02.529159",
     "exception": false,
     "start_time": "2022-02-17T10:01:02.456599",
     "status": "completed"
    },
    "tags": []
   },
   "outputs": [
    {
     "data": {
      "text/plain": [
       "S    127\n",
       "C     85\n",
       "Q      2\n",
       "Name: Embarked, dtype: int64"
      ]
     },
     "execution_count": 13,
     "metadata": {},
     "output_type": "execute_result"
    }
   ],
   "source": [
    "train_data.loc[train_data['Pclass'] == 1, 'Embarked'].value_counts()"
   ]
  },
  {
   "cell_type": "code",
   "execution_count": 14,
   "id": "6beb813b",
   "metadata": {
    "execution": {
     "iopub.execute_input": "2022-02-17T10:01:02.658490Z",
     "iopub.status.busy": "2022-02-17T10:01:02.657880Z",
     "iopub.status.idle": "2022-02-17T10:01:02.674261Z",
     "shell.execute_reply": "2022-02-17T10:01:02.674861Z",
     "shell.execute_reply.started": "2022-02-17T09:59:53.345225Z"
    },
    "papermill": {
     "duration": 0.08247,
     "end_time": "2022-02-17T10:01:02.675024",
     "exception": false,
     "start_time": "2022-02-17T10:01:02.592554",
     "status": "completed"
    },
    "tags": []
   },
   "outputs": [
    {
     "data": {
      "text/plain": [
       "(   PassengerId  Survived  Pclass  \\\n",
       " 0            1         0       3   \n",
       " 1            2         1       1   \n",
       " 2            3         1       3   \n",
       " 3            4         1       1   \n",
       " 4            5         0       3   \n",
       " \n",
       "                                                 Name  Sex   Age  SibSp  Parch  \\\n",
       " 0                            Braund, Mr. Owen Harris    0  22.0      1      0   \n",
       " 1  Cumings, Mrs. John Bradley (Florence Briggs Th...    1  38.0      1      0   \n",
       " 2                             Heikkinen, Miss. Laina    1  26.0      0      0   \n",
       " 3       Futrelle, Mrs. Jacques Heath (Lily May Peel)    1  35.0      1      0   \n",
       " 4                           Allen, Mr. William Henry    0  35.0      0      0   \n",
       " \n",
       "       Fare  Embarked  \n",
       " 0   7.2500         0  \n",
       " 1  71.2833         1  \n",
       " 2   7.9250         0  \n",
       " 3  53.1000         0  \n",
       " 4   8.0500         0  ,\n",
       "    PassengerId  Pclass                                          Name  Sex  \\\n",
       " 0          892       3                              Kelly, Mr. James    0   \n",
       " 1          893       3              Wilkes, Mrs. James (Ellen Needs)    1   \n",
       " 2          894       2                     Myles, Mr. Thomas Francis    0   \n",
       " 3          895       3                              Wirz, Mr. Albert    0   \n",
       " 4          896       3  Hirvonen, Mrs. Alexander (Helga E Lindqvist)    1   \n",
       " \n",
       "     Age  SibSp  Parch     Fare  Embarked  \n",
       " 0  34.5      0      0   7.8292         2  \n",
       " 1  47.0      1      0   7.0000         0  \n",
       " 2  62.0      0      0   9.6875         2  \n",
       " 3  27.0      0      0   8.6625         0  \n",
       " 4  22.0      1      1  12.2875         0  )"
      ]
     },
     "execution_count": 14,
     "metadata": {},
     "output_type": "execute_result"
    }
   ],
   "source": [
    "train_data['Embarked'] = train_data['Embarked'].fillna('S')\n",
    "\n",
    "for dataset in combine:\n",
    "    dataset['Embarked'] = dataset['Embarked'].map({'S':0, 'C':1, 'Q':2}).astype(int)\n",
    "train_data.head(), test_data.head()"
   ]
  },
  {
   "cell_type": "code",
   "execution_count": 15,
   "id": "94e8ea9e",
   "metadata": {
    "execution": {
     "iopub.execute_input": "2022-02-17T10:01:02.808172Z",
     "iopub.status.busy": "2022-02-17T10:01:02.807518Z",
     "iopub.status.idle": "2022-02-17T10:01:04.560645Z",
     "shell.execute_reply": "2022-02-17T10:01:04.561122Z",
     "shell.execute_reply.started": "2022-02-17T09:59:53.367115Z"
    },
    "papermill": {
     "duration": 1.820002,
     "end_time": "2022-02-17T10:01:04.561314",
     "exception": false,
     "start_time": "2022-02-17T10:01:02.741312",
     "status": "completed"
    },
    "tags": []
   },
   "outputs": [
    {
     "data": {
      "text/plain": [
       "<AxesSubplot:>"
      ]
     },
     "execution_count": 15,
     "metadata": {},
     "output_type": "execute_result"
    },
    {
     "data": {
      "image/png": "[encoded data removed]",
      "text/plain": [
       "<Figure size 720x504 with 2 Axes>"
      ]
     },
     "metadata": {
      "needs_background": "light"
     },
     "output_type": "display_data"
    }
   ],
   "source": [
    "import seaborn as sns\n",
    "from matplotlib import pyplot as plt\n",
    "\n",
    "crr = train_data.corr(method = 'pearson')\n",
    "plt.figure(figsize = (10, 7))\n",
    "sns.heatmap(crr, annot = True)"
   ]
  },
  {
   "cell_type": "code",
   "execution_count": 16,
   "id": "f6a95131",
   "metadata": {
    "execution": {
     "iopub.execute_input": "2022-02-17T10:01:04.697147Z",
     "iopub.status.busy": "2022-02-17T10:01:04.696452Z",
     "iopub.status.idle": "2022-02-17T10:01:18.409474Z",
     "shell.execute_reply": "2022-02-17T10:01:18.409952Z",
     "shell.execute_reply.started": "2022-02-17T09:59:54.764582Z"
    },
    "papermill": {
     "duration": 13.782785,
     "end_time": "2022-02-17T10:01:18.410120",
     "exception": false,
     "start_time": "2022-02-17T10:01:04.627335",
     "status": "completed"
    },
    "tags": []
   },
   "outputs": [
    {
     "data": {
      "image/png": "[encoded data removed]",
      "text/plain": [
       "<Figure size 972x972 with 90 Axes>"
      ]
     },
     "metadata": {
      "needs_background": "light"
     },
     "output_type": "display_data"
    }
   ],
   "source": [
    "sns.pairplot(train_data, height=1.5)\n",
    "plt.show()"
   ]
  },
  {
   "cell_type": "code",
   "execution_count": 17,
   "id": "b42a0f82",
   "metadata": {
    "execution": {
     "iopub.execute_input": "2022-02-17T10:01:18.561979Z",
     "iopub.status.busy": "2022-02-17T10:01:18.561347Z",
     "iopub.status.idle": "2022-02-17T10:01:18.909326Z",
     "shell.execute_reply": "2022-02-17T10:01:18.908744Z",
     "shell.execute_reply.started": "2022-02-17T10:00:09.006866Z"
    },
    "papermill": {
     "duration": 0.42736,
     "end_time": "2022-02-17T10:01:18.909464",
     "exception": false,
     "start_time": "2022-02-17T10:01:18.482104",
     "status": "completed"
    },
    "tags": []
   },
   "outputs": [
    {
     "data": {
      "image/png": "[encoded data removed]",
      "text/plain": [
       "<Figure size 432x288 with 1 Axes>"
      ]
     },
     "metadata": {
      "needs_background": "light"
     },
     "output_type": "display_data"
    }
   ],
   "source": [
    "g = sns.scatterplot(x = 'SibSp', y = 'Parch', data = train_data, hue = \"Survived\")"
   ]
  },
  {
   "cell_type": "code",
   "execution_count": 18,
   "id": "9b595732",
   "metadata": {
    "execution": {
     "iopub.execute_input": "2022-02-17T10:01:19.072723Z",
     "iopub.status.busy": "2022-02-17T10:01:19.072039Z",
     "iopub.status.idle": "2022-02-17T10:01:19.074609Z",
     "shell.execute_reply": "2022-02-17T10:01:19.075072Z",
     "shell.execute_reply.started": "2022-02-17T10:00:09.360375Z"
    },
    "papermill": {
     "duration": 0.092549,
     "end_time": "2022-02-17T10:01:19.075262",
     "exception": false,
     "start_time": "2022-02-17T10:01:18.982713",
     "status": "completed"
    },
    "tags": []
   },
   "outputs": [
    {
     "data": {
      "text/html": [
       "<div>\n",
       "<style scoped>\n",
       "    .dataframe tbody tr th:only-of-type {\n",
       "        vertical-align: middle;\n",
       "    }\n",
       "\n",
       "    .dataframe tbody tr th {\n",
       "        vertical-align: top;\n",
       "    }\n",
       "\n",
       "    .dataframe thead th {\n",
       "        text-align: right;\n",
       "    }\n",
       "</style>\n",
       "<table border=\"1\" class=\"dataframe\">\n",
       "  <thead>\n",
       "    <tr style=\"text-align: right;\">\n",
       "      <th></th>\n",
       "      <th>Pclass</th>\n",
       "      <th>Survived</th>\n",
       "    </tr>\n",
       "  </thead>\n",
       "  <tbody>\n",
       "    <tr>\n",
       "      <th>0</th>\n",
       "      <td>1</td>\n",
       "      <td>0.629630</td>\n",
       "    </tr>\n",
       "    <tr>\n",
       "      <th>1</th>\n",
       "      <td>2</td>\n",
       "      <td>0.472826</td>\n",
       "    </tr>\n",
       "    <tr>\n",
       "      <th>2</th>\n",
       "      <td>3</td>\n",
       "      <td>0.242363</td>\n",
       "    </tr>\n",
       "  </tbody>\n",
       "</table>\n",
       "</div>"
      ],
      "text/plain": [
       "   Pclass  Survived\n",
       "0       1  0.629630\n",
       "1       2  0.472826\n",
       "2       3  0.242363"
      ]
     },
     "execution_count": 18,
     "metadata": {},
     "output_type": "execute_result"
    }
   ],
   "source": [
    "train_data[['Pclass','Survived']].groupby(['Pclass'], as_index = False).mean().sort_values(by = 'Survived', ascending = False)"
   ]
  },
  {
   "cell_type": "code",
   "execution_count": 19,
   "id": "990f30ea",
   "metadata": {
    "execution": {
     "iopub.execute_input": "2022-02-17T10:01:19.225028Z",
     "iopub.status.busy": "2022-02-17T10:01:19.224447Z",
     "iopub.status.idle": "2022-02-17T10:01:19.236450Z",
     "shell.execute_reply": "2022-02-17T10:01:19.236983Z",
     "shell.execute_reply.started": "2022-02-17T10:00:09.377642Z"
    },
    "papermill": {
     "duration": 0.088855,
     "end_time": "2022-02-17T10:01:19.237144",
     "exception": false,
     "start_time": "2022-02-17T10:01:19.148289",
     "status": "completed"
    },
    "tags": []
   },
   "outputs": [
    {
     "data": {
      "text/html": [
       "<div>\n",
       "<style scoped>\n",
       "    .dataframe tbody tr th:only-of-type {\n",
       "        vertical-align: middle;\n",
       "    }\n",
       "\n",
       "    .dataframe tbody tr th {\n",
       "        vertical-align: top;\n",
       "    }\n",
       "\n",
       "    .dataframe thead th {\n",
       "        text-align: right;\n",
       "    }\n",
       "</style>\n",
       "<table border=\"1\" class=\"dataframe\">\n",
       "  <thead>\n",
       "    <tr style=\"text-align: right;\">\n",
       "      <th></th>\n",
       "      <th>Sex</th>\n",
       "      <th>Survived</th>\n",
       "    </tr>\n",
       "  </thead>\n",
       "  <tbody>\n",
       "    <tr>\n",
       "      <th>1</th>\n",
       "      <td>1</td>\n",
       "      <td>0.742038</td>\n",
       "    </tr>\n",
       "    <tr>\n",
       "      <th>0</th>\n",
       "      <td>0</td>\n",
       "      <td>0.188908</td>\n",
       "    </tr>\n",
       "  </tbody>\n",
       "</table>\n",
       "</div>"
      ],
      "text/plain": [
       "   Sex  Survived\n",
       "1    1  0.742038\n",
       "0    0  0.188908"
      ]
     },
     "execution_count": 19,
     "metadata": {},
     "output_type": "execute_result"
    }
   ],
   "source": [
    "train_data[['Sex','Survived']].groupby(['Sex'], as_index = False).mean().sort_values(by = 'Survived', ascending = False)"
   ]
  },
  {
   "cell_type": "code",
   "execution_count": 20,
   "id": "d549a635",
   "metadata": {
    "execution": {
     "iopub.execute_input": "2022-02-17T10:01:19.391962Z",
     "iopub.status.busy": "2022-02-17T10:01:19.391335Z",
     "iopub.status.idle": "2022-02-17T10:01:19.400082Z",
     "shell.execute_reply": "2022-02-17T10:01:19.400586Z",
     "shell.execute_reply.started": "2022-02-17T10:00:09.393526Z"
    },
    "papermill": {
     "duration": 0.089847,
     "end_time": "2022-02-17T10:01:19.400749",
     "exception": false,
     "start_time": "2022-02-17T10:01:19.310902",
     "status": "completed"
    },
    "tags": []
   },
   "outputs": [
    {
     "data": {
      "text/html": [
       "<div>\n",
       "<style scoped>\n",
       "    .dataframe tbody tr th:only-of-type {\n",
       "        vertical-align: middle;\n",
       "    }\n",
       "\n",
       "    .dataframe tbody tr th {\n",
       "        vertical-align: top;\n",
       "    }\n",
       "\n",
       "    .dataframe thead th {\n",
       "        text-align: right;\n",
       "    }\n",
       "</style>\n",
       "<table border=\"1\" class=\"dataframe\">\n",
       "  <thead>\n",
       "    <tr style=\"text-align: right;\">\n",
       "      <th></th>\n",
       "      <th>Embarked</th>\n",
       "      <th>Survived</th>\n",
       "    </tr>\n",
       "  </thead>\n",
       "  <tbody>\n",
       "    <tr>\n",
       "      <th>1</th>\n",
       "      <td>1</td>\n",
       "      <td>0.553571</td>\n",
       "    </tr>\n",
       "    <tr>\n",
       "      <th>2</th>\n",
       "      <td>2</td>\n",
       "      <td>0.389610</td>\n",
       "    </tr>\n",
       "    <tr>\n",
       "      <th>0</th>\n",
       "      <td>0</td>\n",
       "      <td>0.339009</td>\n",
       "    </tr>\n",
       "  </tbody>\n",
       "</table>\n",
       "</div>"
      ],
      "text/plain": [
       "   Embarked  Survived\n",
       "1         1  0.553571\n",
       "2         2  0.389610\n",
       "0         0  0.339009"
      ]
     },
     "execution_count": 20,
     "metadata": {},
     "output_type": "execute_result"
    }
   ],
   "source": [
    "train_data[['Embarked','Survived']].groupby(['Embarked'], as_index = False).mean().sort_values(by = 'Survived', ascending = False)"
   ]
  },
  {
   "cell_type": "code",
   "execution_count": 21,
   "id": "434aa3e4",
   "metadata": {
    "execution": {
     "iopub.execute_input": "2022-02-17T10:01:19.552247Z",
     "iopub.status.busy": "2022-02-17T10:01:19.551555Z",
     "iopub.status.idle": "2022-02-17T10:01:19.563992Z",
     "shell.execute_reply": "2022-02-17T10:01:19.564491Z",
     "shell.execute_reply.started": "2022-02-17T10:00:09.408367Z"
    },
    "papermill": {
     "duration": 0.090164,
     "end_time": "2022-02-17T10:01:19.564667",
     "exception": false,
     "start_time": "2022-02-17T10:01:19.474503",
     "status": "completed"
    },
    "tags": []
   },
   "outputs": [
    {
     "data": {
      "text/html": [
       "<div>\n",
       "<style scoped>\n",
       "    .dataframe tbody tr th:only-of-type {\n",
       "        vertical-align: middle;\n",
       "    }\n",
       "\n",
       "    .dataframe tbody tr th {\n",
       "        vertical-align: top;\n",
       "    }\n",
       "\n",
       "    .dataframe thead th {\n",
       "        text-align: right;\n",
       "    }\n",
       "</style>\n",
       "<table border=\"1\" class=\"dataframe\">\n",
       "  <thead>\n",
       "    <tr style=\"text-align: right;\">\n",
       "      <th></th>\n",
       "      <th>SibSp</th>\n",
       "      <th>Survived</th>\n",
       "    </tr>\n",
       "  </thead>\n",
       "  <tbody>\n",
       "    <tr>\n",
       "      <th>1</th>\n",
       "      <td>1</td>\n",
       "      <td>0.535885</td>\n",
       "    </tr>\n",
       "    <tr>\n",
       "      <th>2</th>\n",
       "      <td>2</td>\n",
       "      <td>0.464286</td>\n",
       "    </tr>\n",
       "    <tr>\n",
       "      <th>0</th>\n",
       "      <td>0</td>\n",
       "      <td>0.345395</td>\n",
       "    </tr>\n",
       "    <tr>\n",
       "      <th>3</th>\n",
       "      <td>3</td>\n",
       "      <td>0.250000</td>\n",
       "    </tr>\n",
       "    <tr>\n",
       "      <th>4</th>\n",
       "      <td>4</td>\n",
       "      <td>0.166667</td>\n",
       "    </tr>\n",
       "    <tr>\n",
       "      <th>5</th>\n",
       "      <td>5</td>\n",
       "      <td>0.000000</td>\n",
       "    </tr>\n",
       "    <tr>\n",
       "      <th>6</th>\n",
       "      <td>8</td>\n",
       "      <td>0.000000</td>\n",
       "    </tr>\n",
       "  </tbody>\n",
       "</table>\n",
       "</div>"
      ],
      "text/plain": [
       "   SibSp  Survived\n",
       "1      1  0.535885\n",
       "2      2  0.464286\n",
       "0      0  0.345395\n",
       "3      3  0.250000\n",
       "4      4  0.166667\n",
       "5      5  0.000000\n",
       "6      8  0.000000"
      ]
     },
     "execution_count": 21,
     "metadata": {},
     "output_type": "execute_result"
    }
   ],
   "source": [
    "train_data[['SibSp','Survived']].groupby(['SibSp'], as_index = False).mean().sort_values(by = 'Survived', ascending = False)"
   ]
  },
  {
   "cell_type": "code",
   "execution_count": 22,
   "id": "23379fb5",
   "metadata": {
    "execution": {
     "iopub.execute_input": "2022-02-17T10:01:19.724796Z",
     "iopub.status.busy": "2022-02-17T10:01:19.723812Z",
     "iopub.status.idle": "2022-02-17T10:01:19.732158Z",
     "shell.execute_reply": "2022-02-17T10:01:19.732671Z",
     "shell.execute_reply.started": "2022-02-17T10:00:09.430203Z"
    },
    "papermill": {
     "duration": 0.093373,
     "end_time": "2022-02-17T10:01:19.732913",
     "exception": false,
     "start_time": "2022-02-17T10:01:19.639540",
     "status": "completed"
    },
    "tags": []
   },
   "outputs": [
    {
     "data": {
      "text/html": [
       "<div>\n",
       "<style scoped>\n",
       "    .dataframe tbody tr th:only-of-type {\n",
       "        vertical-align: middle;\n",
       "    }\n",
       "\n",
       "    .dataframe tbody tr th {\n",
       "        vertical-align: top;\n",
       "    }\n",
       "\n",
       "    .dataframe thead th {\n",
       "        text-align: right;\n",
       "    }\n",
       "</style>\n",
       "<table border=\"1\" class=\"dataframe\">\n",
       "  <thead>\n",
       "    <tr style=\"text-align: right;\">\n",
       "      <th></th>\n",
       "      <th>Parch</th>\n",
       "      <th>Survived</th>\n",
       "    </tr>\n",
       "  </thead>\n",
       "  <tbody>\n",
       "    <tr>\n",
       "      <th>3</th>\n",
       "      <td>3</td>\n",
       "      <td>0.600000</td>\n",
       "    </tr>\n",
       "    <tr>\n",
       "      <th>1</th>\n",
       "      <td>1</td>\n",
       "      <td>0.550847</td>\n",
       "    </tr>\n",
       "    <tr>\n",
       "      <th>2</th>\n",
       "      <td>2</td>\n",
       "      <td>0.500000</td>\n",
       "    </tr>\n",
       "    <tr>\n",
       "      <th>0</th>\n",
       "      <td>0</td>\n",
       "      <td>0.343658</td>\n",
       "    </tr>\n",
       "    <tr>\n",
       "      <th>5</th>\n",
       "      <td>5</td>\n",
       "      <td>0.200000</td>\n",
       "    </tr>\n",
       "    <tr>\n",
       "      <th>4</th>\n",
       "      <td>4</td>\n",
       "      <td>0.000000</td>\n",
       "    </tr>\n",
       "    <tr>\n",
       "      <th>6</th>\n",
       "      <td>6</td>\n",
       "      <td>0.000000</td>\n",
       "    </tr>\n",
       "  </tbody>\n",
       "</table>\n",
       "</div>"
      ],
      "text/plain": [
       "   Parch  Survived\n",
       "3      3  0.600000\n",
       "1      1  0.550847\n",
       "2      2  0.500000\n",
       "0      0  0.343658\n",
       "5      5  0.200000\n",
       "4      4  0.000000\n",
       "6      6  0.000000"
      ]
     },
     "execution_count": 22,
     "metadata": {},
     "output_type": "execute_result"
    }
   ],
   "source": [
    "train_data[['Parch','Survived']].groupby(['Parch'], as_index = False).mean().sort_values(by = 'Survived', ascending = False)"
   ]
  },
  {
   "cell_type": "code",
   "execution_count": 23,
   "id": "e0a51a25",
   "metadata": {
    "execution": {
     "iopub.execute_input": "2022-02-17T10:01:19.886906Z",
     "iopub.status.busy": "2022-02-17T10:01:19.886276Z",
     "iopub.status.idle": "2022-02-17T10:01:20.396539Z",
     "shell.execute_reply": "2022-02-17T10:01:20.395946Z",
     "shell.execute_reply.started": "2022-02-17T10:00:09.449610Z"
    },
    "papermill": {
     "duration": 0.588976,
     "end_time": "2022-02-17T10:01:20.396690",
     "exception": false,
     "start_time": "2022-02-17T10:01:19.807714",
     "status": "completed"
    },
    "tags": []
   },
   "outputs": [
    {
     "data": {
      "text/plain": [
       "<seaborn.axisgrid.FacetGrid at 0x7f40e9e99350>"
      ]
     },
     "execution_count": 23,
     "metadata": {},
     "output_type": "execute_result"
    },
    {
     "data": {
      "image/png": "[encoded data removed]",
      "text/plain": [
       "<Figure size 432x216 with 2 Axes>"
      ]
     },
     "metadata": {
      "needs_background": "light"
     },
     "output_type": "display_data"
    }
   ],
   "source": [
    "import seaborn as sns\n",
    "from matplotlib import pyplot as plt\n",
    "g = sns.FacetGrid(train_data, col = 'Survived')\n",
    "g.map(plt.hist, 'Age', bins = 20)"
   ]
  },
  {
   "cell_type": "code",
   "execution_count": 24,
   "id": "8ffa2170",
   "metadata": {
    "execution": {
     "iopub.execute_input": "2022-02-17T10:01:20.557875Z",
     "iopub.status.busy": "2022-02-17T10:01:20.557148Z",
     "iopub.status.idle": "2022-02-17T10:01:22.136799Z",
     "shell.execute_reply": "2022-02-17T10:01:22.137336Z",
     "shell.execute_reply.started": "2022-02-17T10:00:09.984405Z"
    },
    "papermill": {
     "duration": 1.66389,
     "end_time": "2022-02-17T10:01:22.137501",
     "exception": false,
     "start_time": "2022-02-17T10:01:20.473611",
     "status": "completed"
    },
    "tags": []
   },
   "outputs": [
    {
     "data": {
      "text/plain": [
       "<seaborn.axisgrid.FacetGrid at 0x7f40e81c4750>"
      ]
     },
     "execution_count": 24,
     "metadata": {},
     "output_type": "execute_result"
    },
    {
     "data": {
      "image/png": "[encoded data removed]",
      "text/plain": [
       "<Figure size 514.88x475.2 with 6 Axes>"
      ]
     },
     "metadata": {
      "needs_background": "light"
     },
     "output_type": "display_data"
    }
   ],
   "source": [
    "grid = sns.FacetGrid(train_data, col = 'Survived', row = 'Pclass', height = 2.2, aspect = 1.6)\n",
    "grid.map(plt.hist, 'Age', alpha = 0.5, bins = 20)\n",
    "grid.add_legend()"
   ]
  },
  {
   "cell_type": "code",
   "execution_count": 25,
   "id": "1ab57b64",
   "metadata": {
    "execution": {
     "iopub.execute_input": "2022-02-17T10:01:22.291595Z",
     "iopub.status.busy": "2022-02-17T10:01:22.290941Z",
     "iopub.status.idle": "2022-02-17T10:01:22.778556Z",
     "shell.execute_reply": "2022-02-17T10:01:22.779048Z",
     "shell.execute_reply.started": "2022-02-17T10:00:11.603848Z"
    },
    "papermill": {
     "duration": 0.566199,
     "end_time": "2022-02-17T10:01:22.779240",
     "exception": false,
     "start_time": "2022-02-17T10:01:22.213041",
     "status": "completed"
    },
    "tags": []
   },
   "outputs": [
    {
     "data": {
      "text/plain": [
       "<seaborn.axisgrid.FacetGrid at 0x7f40e3e1b450>"
      ]
     },
     "execution_count": 25,
     "metadata": {},
     "output_type": "execute_result"
    },
    {
     "data": {
      "image/png": "[encoded data removed]",
      "text/plain": [
       "<Figure size 432x216 with 2 Axes>"
      ]
     },
     "metadata": {
      "needs_background": "light"
     },
     "output_type": "display_data"
    }
   ],
   "source": [
    "g = sns.FacetGrid(train_data, col = 'Survived')\n",
    "g.map(plt.hist, 'SibSp', bins = 20)"
   ]
  },
  {
   "cell_type": "code",
   "execution_count": 26,
   "id": "aaec8a0e",
   "metadata": {
    "execution": {
     "iopub.execute_input": "2022-02-17T10:01:22.956701Z",
     "iopub.status.busy": "2022-02-17T10:01:22.955622Z",
     "iopub.status.idle": "2022-02-17T10:01:23.438332Z",
     "shell.execute_reply": "2022-02-17T10:01:23.439029Z",
     "shell.execute_reply.started": "2022-02-17T10:00:12.106376Z"
    },
    "papermill": {
     "duration": 0.580943,
     "end_time": "2022-02-17T10:01:23.439198",
     "exception": false,
     "start_time": "2022-02-17T10:01:22.858255",
     "status": "completed"
    },
    "tags": []
   },
   "outputs": [
    {
     "data": {
      "text/plain": [
       "<seaborn.axisgrid.FacetGrid at 0x7f40e3d7cf50>"
      ]
     },
     "execution_count": 26,
     "metadata": {},
     "output_type": "execute_result"
    },
    {
     "data": {
      "image/png": "[encoded data removed]",
      "text/plain": [
       "<Figure size 432x216 with 2 Axes>"
      ]
     },
     "metadata": {
      "needs_background": "light"
     },
     "output_type": "display_data"
    }
   ],
   "source": [
    "g = sns.FacetGrid(train_data, col = 'Survived')\n",
    "g.map(plt.hist, 'Parch', bins = 20)"
   ]
  },
  {
   "cell_type": "code",
   "execution_count": 27,
   "id": "c88950e9",
   "metadata": {
    "execution": {
     "iopub.execute_input": "2022-02-17T10:01:23.603723Z",
     "iopub.status.busy": "2022-02-17T10:01:23.603059Z",
     "iopub.status.idle": "2022-02-17T10:01:23.632717Z",
     "shell.execute_reply": "2022-02-17T10:01:23.633195Z",
     "shell.execute_reply.started": "2022-02-17T10:00:12.590824Z"
    },
    "papermill": {
     "duration": 0.114795,
     "end_time": "2022-02-17T10:01:23.633385",
     "exception": false,
     "start_time": "2022-02-17T10:01:23.518590",
     "status": "completed"
    },
    "tags": []
   },
   "outputs": [
    {
     "data": {
      "text/html": [
       "<div>\n",
       "<style scoped>\n",
       "    .dataframe tbody tr th:only-of-type {\n",
       "        vertical-align: middle;\n",
       "    }\n",
       "\n",
       "    .dataframe tbody tr th {\n",
       "        vertical-align: top;\n",
       "    }\n",
       "\n",
       "    .dataframe thead th {\n",
       "        text-align: right;\n",
       "    }\n",
       "</style>\n",
       "<table border=\"1\" class=\"dataframe\">\n",
       "  <thead>\n",
       "    <tr style=\"text-align: right;\">\n",
       "      <th>Sex</th>\n",
       "      <th>0</th>\n",
       "      <th>1</th>\n",
       "    </tr>\n",
       "    <tr>\n",
       "      <th>Title</th>\n",
       "      <th></th>\n",
       "      <th></th>\n",
       "    </tr>\n",
       "  </thead>\n",
       "  <tbody>\n",
       "    <tr>\n",
       "      <th>Capt</th>\n",
       "      <td>1</td>\n",
       "      <td>0</td>\n",
       "    </tr>\n",
       "    <tr>\n",
       "      <th>Col</th>\n",
       "      <td>2</td>\n",
       "      <td>0</td>\n",
       "    </tr>\n",
       "    <tr>\n",
       "      <th>Countess</th>\n",
       "      <td>0</td>\n",
       "      <td>1</td>\n",
       "    </tr>\n",
       "    <tr>\n",
       "      <th>Don</th>\n",
       "      <td>1</td>\n",
       "      <td>0</td>\n",
       "    </tr>\n",
       "    <tr>\n",
       "      <th>Dr</th>\n",
       "      <td>6</td>\n",
       "      <td>1</td>\n",
       "    </tr>\n",
       "    <tr>\n",
       "      <th>Jonkheer</th>\n",
       "      <td>1</td>\n",
       "      <td>0</td>\n",
       "    </tr>\n",
       "    <tr>\n",
       "      <th>Lady</th>\n",
       "      <td>0</td>\n",
       "      <td>1</td>\n",
       "    </tr>\n",
       "    <tr>\n",
       "      <th>Major</th>\n",
       "      <td>2</td>\n",
       "      <td>0</td>\n",
       "    </tr>\n",
       "    <tr>\n",
       "      <th>Master</th>\n",
       "      <td>40</td>\n",
       "      <td>0</td>\n",
       "    </tr>\n",
       "    <tr>\n",
       "      <th>Miss</th>\n",
       "      <td>0</td>\n",
       "      <td>182</td>\n",
       "    </tr>\n",
       "    <tr>\n",
       "      <th>Mlle</th>\n",
       "      <td>0</td>\n",
       "      <td>2</td>\n",
       "    </tr>\n",
       "    <tr>\n",
       "      <th>Mme</th>\n",
       "      <td>0</td>\n",
       "      <td>1</td>\n",
       "    </tr>\n",
       "    <tr>\n",
       "      <th>Mr</th>\n",
       "      <td>517</td>\n",
       "      <td>0</td>\n",
       "    </tr>\n",
       "    <tr>\n",
       "      <th>Mrs</th>\n",
       "      <td>0</td>\n",
       "      <td>125</td>\n",
       "    </tr>\n",
       "    <tr>\n",
       "      <th>Ms</th>\n",
       "      <td>0</td>\n",
       "      <td>1</td>\n",
       "    </tr>\n",
       "    <tr>\n",
       "      <th>Rev</th>\n",
       "      <td>6</td>\n",
       "      <td>0</td>\n",
       "    </tr>\n",
       "    <tr>\n",
       "      <th>Sir</th>\n",
       "      <td>1</td>\n",
       "      <td>0</td>\n",
       "    </tr>\n",
       "  </tbody>\n",
       "</table>\n",
       "</div>"
      ],
      "text/plain": [
       "Sex         0    1\n",
       "Title             \n",
       "Capt        1    0\n",
       "Col         2    0\n",
       "Countess    0    1\n",
       "Don         1    0\n",
       "Dr          6    1\n",
       "Jonkheer    1    0\n",
       "Lady        0    1\n",
       "Major       2    0\n",
       "Master     40    0\n",
       "Miss        0  182\n",
       "Mlle        0    2\n",
       "Mme         0    1\n",
       "Mr        517    0\n",
       "Mrs         0  125\n",
       "Ms          0    1\n",
       "Rev         6    0\n",
       "Sir         1    0"
      ]
     },
     "execution_count": 27,
     "metadata": {},
     "output_type": "execute_result"
    }
   ],
   "source": [
    "combine = [train_data, test_data]\n",
    "for dataset in combine:\n",
    "    dataset['Title'] = dataset.Name.str.extract('([A-Za-z]+)\\.', expand = False)\n",
    "pd.crosstab(train_data['Title'], train_data['Sex'])"
   ]
  },
  {
   "cell_type": "code",
   "execution_count": 28,
   "id": "01b77268",
   "metadata": {
    "execution": {
     "iopub.execute_input": "2022-02-17T10:01:23.796474Z",
     "iopub.status.busy": "2022-02-17T10:01:23.795771Z",
     "iopub.status.idle": "2022-02-17T10:01:23.813161Z",
     "shell.execute_reply": "2022-02-17T10:01:23.813868Z",
     "shell.execute_reply.started": "2022-02-17T10:00:12.618569Z"
    },
    "papermill": {
     "duration": 0.10104,
     "end_time": "2022-02-17T10:01:23.814107",
     "exception": false,
     "start_time": "2022-02-17T10:01:23.713067",
     "status": "completed"
    },
    "tags": []
   },
   "outputs": [
    {
     "name": "stdout",
     "output_type": "stream",
     "text": [
      "    Title  Survived\n",
      "0  Master  0.575000\n",
      "1    Miss  0.704301\n",
      "2      Mr  0.156673\n",
      "3     Mrs  0.792000\n",
      "4    Rare  0.347826\n"
     ]
    }
   ],
   "source": [
    "for dataset in combine:\n",
    "    dataset['Title'] = dataset['Title'].replace(['Lady','Countess','Capt','Col','Don','Dr','Major','Rev','Sir','Jonkheer','Dona'], 'Rare')\n",
    "    dataset['Title'] = dataset['Title'].replace('Mlle', 'Miss')\n",
    "    dataset['Title'] = dataset['Title'].replace('Ms', 'Miss')\n",
    "    dataset['Title'] = dataset['Title'].replace('Mme', 'Miss')\n",
    "print(train_data[['Title', 'Survived']].groupby(['Title'], as_index = False).mean())"
   ]
  },
  {
   "cell_type": "code",
   "execution_count": 29,
   "id": "a02a8609",
   "metadata": {
    "execution": {
     "iopub.execute_input": "2022-02-17T10:01:23.976959Z",
     "iopub.status.busy": "2022-02-17T10:01:23.976339Z",
     "iopub.status.idle": "2022-02-17T10:01:23.986624Z",
     "shell.execute_reply": "2022-02-17T10:01:23.987687Z",
     "shell.execute_reply.started": "2022-02-17T10:00:12.638374Z"
    },
    "papermill": {
     "duration": 0.093515,
     "end_time": "2022-02-17T10:01:23.987976",
     "exception": false,
     "start_time": "2022-02-17T10:01:23.894461",
     "status": "completed"
    },
    "tags": []
   },
   "outputs": [
    {
     "name": "stdout",
     "output_type": "stream",
     "text": [
      "1    517\n",
      "2    186\n",
      "3    125\n",
      "4     40\n",
      "5     23\n",
      "Name: Title, dtype: int64\n"
     ]
    }
   ],
   "source": [
    "title_mapping = {'Mr': 1, 'Miss': 2, 'Mrs': 3, 'Master': 4, 'Rare':5}\n",
    "for dataset in combine:\n",
    "    dataset['Title'] = dataset['Title'].map(title_mapping)\n",
    "    dataset['Title'] = dataset['Title'].fillna(0)\n",
    "    \n",
    "print(train_data['Title'].value_counts())"
   ]
  },
  {
   "cell_type": "code",
   "execution_count": 30,
   "id": "a22a7b21",
   "metadata": {
    "execution": {
     "iopub.execute_input": "2022-02-17T10:01:24.155261Z",
     "iopub.status.busy": "2022-02-17T10:01:24.154664Z",
     "iopub.status.idle": "2022-02-17T10:01:24.164146Z",
     "shell.execute_reply": "2022-02-17T10:01:24.164740Z",
     "shell.execute_reply.started": "2022-02-17T10:00:12.652491Z"
    },
    "papermill": {
     "duration": 0.094917,
     "end_time": "2022-02-17T10:01:24.164896",
     "exception": false,
     "start_time": "2022-02-17T10:01:24.069979",
     "status": "completed"
    },
    "tags": []
   },
   "outputs": [
    {
     "data": {
      "text/html": [
       "<div>\n",
       "<style scoped>\n",
       "    .dataframe tbody tr th:only-of-type {\n",
       "        vertical-align: middle;\n",
       "    }\n",
       "\n",
       "    .dataframe tbody tr th {\n",
       "        vertical-align: top;\n",
       "    }\n",
       "\n",
       "    .dataframe thead th {\n",
       "        text-align: right;\n",
       "    }\n",
       "</style>\n",
       "<table border=\"1\" class=\"dataframe\">\n",
       "  <thead>\n",
       "    <tr style=\"text-align: right;\">\n",
       "      <th></th>\n",
       "      <th>Title</th>\n",
       "      <th>Survived</th>\n",
       "    </tr>\n",
       "  </thead>\n",
       "  <tbody>\n",
       "    <tr>\n",
       "      <th>2</th>\n",
       "      <td>3</td>\n",
       "      <td>0.792000</td>\n",
       "    </tr>\n",
       "    <tr>\n",
       "      <th>1</th>\n",
       "      <td>2</td>\n",
       "      <td>0.704301</td>\n",
       "    </tr>\n",
       "    <tr>\n",
       "      <th>3</th>\n",
       "      <td>4</td>\n",
       "      <td>0.575000</td>\n",
       "    </tr>\n",
       "    <tr>\n",
       "      <th>4</th>\n",
       "      <td>5</td>\n",
       "      <td>0.347826</td>\n",
       "    </tr>\n",
       "    <tr>\n",
       "      <th>0</th>\n",
       "      <td>1</td>\n",
       "      <td>0.156673</td>\n",
       "    </tr>\n",
       "  </tbody>\n",
       "</table>\n",
       "</div>"
      ],
      "text/plain": [
       "   Title  Survived\n",
       "2      3  0.792000\n",
       "1      2  0.704301\n",
       "3      4  0.575000\n",
       "4      5  0.347826\n",
       "0      1  0.156673"
      ]
     },
     "execution_count": 30,
     "metadata": {},
     "output_type": "execute_result"
    }
   ],
   "source": [
    "train_data[['Title','Survived']].groupby(['Title'], as_index = False).mean().sort_values(by = 'Survived', ascending = False)"
   ]
  },
  {
   "cell_type": "code",
   "execution_count": 31,
   "id": "288ed97a",
   "metadata": {
    "execution": {
     "iopub.execute_input": "2022-02-17T10:01:24.326141Z",
     "iopub.status.busy": "2022-02-17T10:01:24.325525Z",
     "iopub.status.idle": "2022-02-17T10:01:24.341229Z",
     "shell.execute_reply": "2022-02-17T10:01:24.341788Z",
     "shell.execute_reply.started": "2022-02-17T10:00:12.673735Z"
    },
    "papermill": {
     "duration": 0.098711,
     "end_time": "2022-02-17T10:01:24.341950",
     "exception": false,
     "start_time": "2022-02-17T10:01:24.243239",
     "status": "completed"
    },
    "tags": []
   },
   "outputs": [
    {
     "data": {
      "text/plain": [
       "(   PassengerId  Survived  Pclass  \\\n",
       " 0            1         0       3   \n",
       " 1            2         1       1   \n",
       " 2            3         1       3   \n",
       " 3            4         1       1   \n",
       " 4            5         0       3   \n",
       " \n",
       "                                                 Name  Sex   Age  SibSp  Parch  \\\n",
       " 0                            Braund, Mr. Owen Harris    0  22.0      1      0   \n",
       " 1  Cumings, Mrs. John Bradley (Florence Briggs Th...    1  38.0      1      0   \n",
       " 2                             Heikkinen, Miss. Laina    1  26.0      0      0   \n",
       " 3       Futrelle, Mrs. Jacques Heath (Lily May Peel)    1  35.0      1      0   \n",
       " 4                           Allen, Mr. William Henry    0  35.0      0      0   \n",
       " \n",
       "       Fare  Embarked  \n",
       " 0   7.2500         0  \n",
       " 1  71.2833         1  \n",
       " 2   7.9250         0  \n",
       " 3  53.1000         0  \n",
       " 4   8.0500         0  ,\n",
       "    PassengerId  Pclass                                          Name  Sex  \\\n",
       " 0          892       3                              Kelly, Mr. James    0   \n",
       " 1          893       3              Wilkes, Mrs. James (Ellen Needs)    1   \n",
       " 2          894       2                     Myles, Mr. Thomas Francis    0   \n",
       " 3          895       3                              Wirz, Mr. Albert    0   \n",
       " 4          896       3  Hirvonen, Mrs. Alexander (Helga E Lindqvist)    1   \n",
       " \n",
       "     Age  SibSp  Parch     Fare  Embarked  \n",
       " 0  34.5      0      0   7.8292         2  \n",
       " 1  47.0      1      0   7.0000         0  \n",
       " 2  62.0      0      0   9.6875         2  \n",
       " 3  27.0      0      0   8.6625         0  \n",
       " 4  22.0      1      1  12.2875         0  )"
      ]
     },
     "execution_count": 31,
     "metadata": {},
     "output_type": "execute_result"
    }
   ],
   "source": [
    "train_data = train_data.drop(['Title'], axis = 1)\n",
    "test_data = test_data.drop(['Title'], axis = 1)\n",
    "combine = [train_data, test_data]\n",
    "\n",
    "train_data.head(5), test_data.head(5)"
   ]
  },
  {
   "cell_type": "code",
   "execution_count": 32,
   "id": "3e8412c5",
   "metadata": {
    "execution": {
     "iopub.execute_input": "2022-02-17T10:01:24.507038Z",
     "iopub.status.busy": "2022-02-17T10:01:24.506430Z",
     "iopub.status.idle": "2022-02-17T10:01:24.520668Z",
     "shell.execute_reply": "2022-02-17T10:01:24.521292Z",
     "shell.execute_reply.started": "2022-02-17T10:00:12.692421Z"
    },
    "papermill": {
     "duration": 0.098706,
     "end_time": "2022-02-17T10:01:24.521459",
     "exception": false,
     "start_time": "2022-02-17T10:01:24.422753",
     "status": "completed"
    },
    "tags": []
   },
   "outputs": [
    {
     "data": {
      "text/plain": [
       "(   PassengerId  Survived  Pclass  Sex   Age  SibSp  Parch     Fare  Embarked\n",
       " 0            1         0       3    0  22.0      1      0   7.2500         0\n",
       " 1            2         1       1    1  38.0      1      0  71.2833         1\n",
       " 2            3         1       3    1  26.0      0      0   7.9250         0\n",
       " 3            4         1       1    1  35.0      1      0  53.1000         0\n",
       " 4            5         0       3    0  35.0      0      0   8.0500         0,\n",
       "    PassengerId  Pclass  Sex   Age  SibSp  Parch     Fare  Embarked\n",
       " 0          892       3    0  34.5      0      0   7.8292         2\n",
       " 1          893       3    1  47.0      1      0   7.0000         0\n",
       " 2          894       2    0  62.0      0      0   9.6875         2\n",
       " 3          895       3    0  27.0      0      0   8.6625         0\n",
       " 4          896       3    1  22.0      1      1  12.2875         0)"
      ]
     },
     "execution_count": 32,
     "metadata": {},
     "output_type": "execute_result"
    }
   ],
   "source": [
    "train_data = train_data.drop(['Name'], axis = 1)\n",
    "test_data = test_data.drop(['Name'], axis = 1)\n",
    "combine = [train_data, test_data]\n",
    "\n",
    "train_data.head(5), test_data.head(5)"
   ]
  },
  {
   "cell_type": "code",
   "execution_count": 33,
   "id": "e01ca2a4",
   "metadata": {
    "execution": {
     "iopub.execute_input": "2022-02-17T10:01:24.686774Z",
     "iopub.status.busy": "2022-02-17T10:01:24.686157Z",
     "iopub.status.idle": "2022-02-17T10:01:24.735268Z",
     "shell.execute_reply": "2022-02-17T10:01:24.735830Z",
     "shell.execute_reply.started": "2022-02-17T10:00:12.709339Z"
    },
    "papermill": {
     "duration": 0.133191,
     "end_time": "2022-02-17T10:01:24.735989",
     "exception": false,
     "start_time": "2022-02-17T10:01:24.602798",
     "status": "completed"
    },
    "tags": []
   },
   "outputs": [
    {
     "data": {
      "text/html": [
       "<div>\n",
       "<style scoped>\n",
       "    .dataframe tbody tr th:only-of-type {\n",
       "        vertical-align: middle;\n",
       "    }\n",
       "\n",
       "    .dataframe tbody tr th {\n",
       "        vertical-align: top;\n",
       "    }\n",
       "\n",
       "    .dataframe thead th {\n",
       "        text-align: right;\n",
       "    }\n",
       "</style>\n",
       "<table border=\"1\" class=\"dataframe\">\n",
       "  <thead>\n",
       "    <tr style=\"text-align: right;\">\n",
       "      <th></th>\n",
       "      <th>Age Band</th>\n",
       "      <th>Survived</th>\n",
       "    </tr>\n",
       "  </thead>\n",
       "  <tbody>\n",
       "    <tr>\n",
       "      <th>0</th>\n",
       "      <td>(0.34, 16.336]</td>\n",
       "      <td>0.550000</td>\n",
       "    </tr>\n",
       "    <tr>\n",
       "      <th>1</th>\n",
       "      <td>(16.336, 32.252]</td>\n",
       "      <td>0.336714</td>\n",
       "    </tr>\n",
       "    <tr>\n",
       "      <th>2</th>\n",
       "      <td>(32.252, 48.168]</td>\n",
       "      <td>0.412844</td>\n",
       "    </tr>\n",
       "    <tr>\n",
       "      <th>3</th>\n",
       "      <td>(48.168, 64.084]</td>\n",
       "      <td>0.434783</td>\n",
       "    </tr>\n",
       "    <tr>\n",
       "      <th>4</th>\n",
       "      <td>(64.084, 80.0]</td>\n",
       "      <td>0.090909</td>\n",
       "    </tr>\n",
       "  </tbody>\n",
       "</table>\n",
       "</div>"
      ],
      "text/plain": [
       "           Age Band  Survived\n",
       "0    (0.34, 16.336]  0.550000\n",
       "1  (16.336, 32.252]  0.336714\n",
       "2  (32.252, 48.168]  0.412844\n",
       "3  (48.168, 64.084]  0.434783\n",
       "4    (64.084, 80.0]  0.090909"
      ]
     },
     "execution_count": 33,
     "metadata": {},
     "output_type": "execute_result"
    }
   ],
   "source": [
    "guess_ages = np.zeros((2,3))\n",
    "for dataset in combine:\n",
    "    for i in range(0,2):\n",
    "        for j in range(0,3):\n",
    "            guess_df = dataset[(dataset['Sex'] == i) & (dataset['Pclass'] == j+1)]['Age'].dropna()\n",
    "            age_guess = guess_df.median()\n",
    "            guess_ages[i,j] = int(age_guess/ 0.5 +0.5)*0.5\n",
    "for dataset in combine:\n",
    "    for i in range (0,2):\n",
    "        for j in range(0,3):\n",
    "            dataset.loc[(dataset.Age.isnull()) & (dataset.Sex == i) & (dataset.Pclass == j + 1), 'Age']= guess_ages[i,j].astype(int)\n",
    "    \n",
    "train_data['Age Band'] = pd. cut(train_data['Age'], 5)\n",
    "train_data[['Age Band', 'Survived']].groupby(['Age Band'], as_index = False).mean().sort_values(by = 'Age Band', ascending = True)"
   ]
  },
  {
   "cell_type": "code",
   "execution_count": 34,
   "id": "7e14b1ef",
   "metadata": {
    "execution": {
     "iopub.execute_input": "2022-02-17T10:01:24.902745Z",
     "iopub.status.busy": "2022-02-17T10:01:24.902067Z",
     "iopub.status.idle": "2022-02-17T10:01:24.925907Z",
     "shell.execute_reply": "2022-02-17T10:01:24.926484Z",
     "shell.execute_reply.started": "2022-02-17T10:00:12.758188Z"
    },
    "papermill": {
     "duration": 0.108604,
     "end_time": "2022-02-17T10:01:24.926648",
     "exception": false,
     "start_time": "2022-02-17T10:01:24.818044",
     "status": "completed"
    },
    "tags": []
   },
   "outputs": [
    {
     "data": {
      "text/html": [
       "<div>\n",
       "<style scoped>\n",
       "    .dataframe tbody tr th:only-of-type {\n",
       "        vertical-align: middle;\n",
       "    }\n",
       "\n",
       "    .dataframe tbody tr th {\n",
       "        vertical-align: top;\n",
       "    }\n",
       "\n",
       "    .dataframe thead th {\n",
       "        text-align: right;\n",
       "    }\n",
       "</style>\n",
       "<table border=\"1\" class=\"dataframe\">\n",
       "  <thead>\n",
       "    <tr style=\"text-align: right;\">\n",
       "      <th></th>\n",
       "      <th>PassengerId</th>\n",
       "      <th>Survived</th>\n",
       "      <th>Pclass</th>\n",
       "      <th>Sex</th>\n",
       "      <th>Age</th>\n",
       "      <th>SibSp</th>\n",
       "      <th>Parch</th>\n",
       "      <th>Fare</th>\n",
       "      <th>Embarked</th>\n",
       "      <th>Age Band</th>\n",
       "    </tr>\n",
       "  </thead>\n",
       "  <tbody>\n",
       "    <tr>\n",
       "      <th>0</th>\n",
       "      <td>1</td>\n",
       "      <td>0</td>\n",
       "      <td>3</td>\n",
       "      <td>0</td>\n",
       "      <td>1.0</td>\n",
       "      <td>1</td>\n",
       "      <td>0</td>\n",
       "      <td>7.2500</td>\n",
       "      <td>0</td>\n",
       "      <td>(16.336, 32.252]</td>\n",
       "    </tr>\n",
       "    <tr>\n",
       "      <th>1</th>\n",
       "      <td>2</td>\n",
       "      <td>1</td>\n",
       "      <td>1</td>\n",
       "      <td>1</td>\n",
       "      <td>2.0</td>\n",
       "      <td>1</td>\n",
       "      <td>0</td>\n",
       "      <td>71.2833</td>\n",
       "      <td>1</td>\n",
       "      <td>(32.252, 48.168]</td>\n",
       "    </tr>\n",
       "    <tr>\n",
       "      <th>2</th>\n",
       "      <td>3</td>\n",
       "      <td>1</td>\n",
       "      <td>3</td>\n",
       "      <td>1</td>\n",
       "      <td>1.0</td>\n",
       "      <td>0</td>\n",
       "      <td>0</td>\n",
       "      <td>7.9250</td>\n",
       "      <td>0</td>\n",
       "      <td>(16.336, 32.252]</td>\n",
       "    </tr>\n",
       "    <tr>\n",
       "      <th>3</th>\n",
       "      <td>4</td>\n",
       "      <td>1</td>\n",
       "      <td>1</td>\n",
       "      <td>1</td>\n",
       "      <td>2.0</td>\n",
       "      <td>1</td>\n",
       "      <td>0</td>\n",
       "      <td>53.1000</td>\n",
       "      <td>0</td>\n",
       "      <td>(32.252, 48.168]</td>\n",
       "    </tr>\n",
       "    <tr>\n",
       "      <th>4</th>\n",
       "      <td>5</td>\n",
       "      <td>0</td>\n",
       "      <td>3</td>\n",
       "      <td>0</td>\n",
       "      <td>2.0</td>\n",
       "      <td>0</td>\n",
       "      <td>0</td>\n",
       "      <td>8.0500</td>\n",
       "      <td>0</td>\n",
       "      <td>(32.252, 48.168]</td>\n",
       "    </tr>\n",
       "  </tbody>\n",
       "</table>\n",
       "</div>"
      ],
      "text/plain": [
       "   PassengerId  Survived  Pclass  Sex  Age  SibSp  Parch     Fare  Embarked  \\\n",
       "0            1         0       3    0  1.0      1      0   7.2500         0   \n",
       "1            2         1       1    1  2.0      1      0  71.2833         1   \n",
       "2            3         1       3    1  1.0      0      0   7.9250         0   \n",
       "3            4         1       1    1  2.0      1      0  53.1000         0   \n",
       "4            5         0       3    0  2.0      0      0   8.0500         0   \n",
       "\n",
       "           Age Band  \n",
       "0  (16.336, 32.252]  \n",
       "1  (32.252, 48.168]  \n",
       "2  (16.336, 32.252]  \n",
       "3  (32.252, 48.168]  \n",
       "4  (32.252, 48.168]  "
      ]
     },
     "execution_count": 34,
     "metadata": {},
     "output_type": "execute_result"
    }
   ],
   "source": [
    "for dataset in combine:\n",
    "    dataset.loc[dataset['Age'] <= 16, 'Age'] = 0\n",
    "    dataset.loc[(dataset['Age'] > 16) & (dataset['Age'] <= 32), 'Age'] = 1\n",
    "    dataset.loc[(dataset['Age'] > 32) & (dataset['Age'] <= 48), 'Age'] = 2\n",
    "    dataset.loc[(dataset['Age'] > 48) & (dataset['Age'] <= 64), 'Age'] = 3\n",
    "    dataset.loc[dataset['Age'] > 64, 'Age'] = 4\n",
    "\n",
    "train_data.head()"
   ]
  },
  {
   "cell_type": "code",
   "execution_count": 35,
   "id": "2cb422bf",
   "metadata": {
    "execution": {
     "iopub.execute_input": "2022-02-17T10:01:25.097798Z",
     "iopub.status.busy": "2022-02-17T10:01:25.097101Z",
     "iopub.status.idle": "2022-02-17T10:01:25.110341Z",
     "shell.execute_reply": "2022-02-17T10:01:25.110910Z",
     "shell.execute_reply.started": "2022-02-17T10:00:12.784664Z"
    },
    "papermill": {
     "duration": 0.100208,
     "end_time": "2022-02-17T10:01:25.111070",
     "exception": false,
     "start_time": "2022-02-17T10:01:25.010862",
     "status": "completed"
    },
    "tags": []
   },
   "outputs": [
    {
     "data": {
      "text/plain": [
       "(   PassengerId  Survived  Pclass  Sex  Age  SibSp  Parch     Fare  Embarked  \\\n",
       " 0            1         0       3    0    1      1      0   7.2500         0   \n",
       " 1            2         1       1    1    2      1      0  71.2833         1   \n",
       " 2            3         1       3    1    1      0      0   7.9250         0   \n",
       " 3            4         1       1    1    2      1      0  53.1000         0   \n",
       " 4            5         0       3    0    2      0      0   8.0500         0   \n",
       " \n",
       "            Age Band  \n",
       " 0  (16.336, 32.252]  \n",
       " 1  (32.252, 48.168]  \n",
       " 2  (16.336, 32.252]  \n",
       " 3  (32.252, 48.168]  \n",
       " 4  (32.252, 48.168]  ,\n",
       "    PassengerId  Pclass  Sex  Age  SibSp  Parch     Fare  Embarked\n",
       " 0          892       3    0    2      0      0   7.8292         2\n",
       " 1          893       3    1    2      1      0   7.0000         0\n",
       " 2          894       2    0    3      0      0   9.6875         2\n",
       " 3          895       3    0    1      0      0   8.6625         0\n",
       " 4          896       3    1    1      1      1  12.2875         0\n",
       " 5          897       3    0    0      0      0   9.2250         0\n",
       " 6          898       3    1    1      0      0   7.6292         2\n",
       " 7          899       2    0    1      1      1  29.0000         0\n",
       " 8          900       3    1    1      0      0   7.2292         1\n",
       " 9          901       3    0    1      2      0  24.1500         0)"
      ]
     },
     "execution_count": 35,
     "metadata": {},
     "output_type": "execute_result"
    }
   ],
   "source": [
    "train_data['Age'] = train_data['Age'].astype(int)\n",
    "test_data['Age'] = test_data['Age'].astype(int)\n",
    "\n",
    "train_data.head(5), test_data.head(10)"
   ]
  },
  {
   "cell_type": "code",
   "execution_count": 36,
   "id": "846ea729",
   "metadata": {
    "execution": {
     "iopub.execute_input": "2022-02-17T10:01:25.277013Z",
     "iopub.status.busy": "2022-02-17T10:01:25.276407Z",
     "iopub.status.idle": "2022-02-17T10:01:25.288941Z",
     "shell.execute_reply": "2022-02-17T10:01:25.289474Z",
     "shell.execute_reply.started": "2022-02-17T10:00:12.810254Z"
    },
    "papermill": {
     "duration": 0.096656,
     "end_time": "2022-02-17T10:01:25.289644",
     "exception": false,
     "start_time": "2022-02-17T10:01:25.192988",
     "status": "completed"
    },
    "tags": []
   },
   "outputs": [
    {
     "data": {
      "text/html": [
       "<div>\n",
       "<style scoped>\n",
       "    .dataframe tbody tr th:only-of-type {\n",
       "        vertical-align: middle;\n",
       "    }\n",
       "\n",
       "    .dataframe tbody tr th {\n",
       "        vertical-align: top;\n",
       "    }\n",
       "\n",
       "    .dataframe thead th {\n",
       "        text-align: right;\n",
       "    }\n",
       "</style>\n",
       "<table border=\"1\" class=\"dataframe\">\n",
       "  <thead>\n",
       "    <tr style=\"text-align: right;\">\n",
       "      <th></th>\n",
       "      <th>PassengerId</th>\n",
       "      <th>Survived</th>\n",
       "      <th>Pclass</th>\n",
       "      <th>Sex</th>\n",
       "      <th>Age</th>\n",
       "      <th>SibSp</th>\n",
       "      <th>Parch</th>\n",
       "      <th>Fare</th>\n",
       "      <th>Embarked</th>\n",
       "    </tr>\n",
       "  </thead>\n",
       "  <tbody>\n",
       "    <tr>\n",
       "      <th>0</th>\n",
       "      <td>1</td>\n",
       "      <td>0</td>\n",
       "      <td>3</td>\n",
       "      <td>0</td>\n",
       "      <td>1</td>\n",
       "      <td>1</td>\n",
       "      <td>0</td>\n",
       "      <td>7.2500</td>\n",
       "      <td>0</td>\n",
       "    </tr>\n",
       "    <tr>\n",
       "      <th>1</th>\n",
       "      <td>2</td>\n",
       "      <td>1</td>\n",
       "      <td>1</td>\n",
       "      <td>1</td>\n",
       "      <td>2</td>\n",
       "      <td>1</td>\n",
       "      <td>0</td>\n",
       "      <td>71.2833</td>\n",
       "      <td>1</td>\n",
       "    </tr>\n",
       "    <tr>\n",
       "      <th>2</th>\n",
       "      <td>3</td>\n",
       "      <td>1</td>\n",
       "      <td>3</td>\n",
       "      <td>1</td>\n",
       "      <td>1</td>\n",
       "      <td>0</td>\n",
       "      <td>0</td>\n",
       "      <td>7.9250</td>\n",
       "      <td>0</td>\n",
       "    </tr>\n",
       "    <tr>\n",
       "      <th>3</th>\n",
       "      <td>4</td>\n",
       "      <td>1</td>\n",
       "      <td>1</td>\n",
       "      <td>1</td>\n",
       "      <td>2</td>\n",
       "      <td>1</td>\n",
       "      <td>0</td>\n",
       "      <td>53.1000</td>\n",
       "      <td>0</td>\n",
       "    </tr>\n",
       "    <tr>\n",
       "      <th>4</th>\n",
       "      <td>5</td>\n",
       "      <td>0</td>\n",
       "      <td>3</td>\n",
       "      <td>0</td>\n",
       "      <td>2</td>\n",
       "      <td>0</td>\n",
       "      <td>0</td>\n",
       "      <td>8.0500</td>\n",
       "      <td>0</td>\n",
       "    </tr>\n",
       "  </tbody>\n",
       "</table>\n",
       "</div>"
      ],
      "text/plain": [
       "   PassengerId  Survived  Pclass  Sex  Age  SibSp  Parch     Fare  Embarked\n",
       "0            1         0       3    0    1      1      0   7.2500         0\n",
       "1            2         1       1    1    2      1      0  71.2833         1\n",
       "2            3         1       3    1    1      0      0   7.9250         0\n",
       "3            4         1       1    1    2      1      0  53.1000         0\n",
       "4            5         0       3    0    2      0      0   8.0500         0"
      ]
     },
     "execution_count": 36,
     "metadata": {},
     "output_type": "execute_result"
    }
   ],
   "source": [
    "train_data = train_data.drop(['Age Band'],axis =1)\n",
    "train_data.head(5)"
   ]
  },
  {
   "cell_type": "code",
   "execution_count": 37,
   "id": "4e5da8d9",
   "metadata": {
    "_kg_hide-output": true,
    "execution": {
     "iopub.execute_input": "2022-02-17T10:01:25.460000Z",
     "iopub.status.busy": "2022-02-17T10:01:25.459401Z",
     "iopub.status.idle": "2022-02-17T10:01:25.506954Z",
     "shell.execute_reply": "2022-02-17T10:01:25.507496Z",
     "shell.execute_reply.started": "2022-02-17T10:00:12.830073Z"
    },
    "papermill": {
     "duration": 0.134368,
     "end_time": "2022-02-17T10:01:25.507668",
     "exception": false,
     "start_time": "2022-02-17T10:01:25.373300",
     "status": "completed"
    },
    "tags": []
   },
   "outputs": [
    {
     "data": {
      "text/plain": [
       "(       PassengerId    Survived      Pclass         Sex         Age  \\\n",
       " count   891.000000  891.000000  891.000000  891.000000  891.000000   \n",
       " mean    446.000000    0.383838    2.308642    0.352413    1.324355   \n",
       " std     257.353842    0.486592    0.836071    0.477990    0.820565   \n",
       " min       1.000000    0.000000    1.000000    0.000000    0.000000   \n",
       " 25%     223.500000    0.000000    2.000000    0.000000    1.000000   \n",
       " 50%     446.000000    0.000000    3.000000    0.000000    1.000000   \n",
       " 75%     668.500000    1.000000    3.000000    1.000000    2.000000   \n",
       " max     891.000000    1.000000    3.000000    1.000000    4.000000   \n",
       " \n",
       "             SibSp       Parch        Fare    Embarked  \n",
       " count  891.000000  891.000000  891.000000  891.000000  \n",
       " mean     0.523008    0.381594   32.204208    0.361392  \n",
       " std      1.102743    0.806057   49.693429    0.635673  \n",
       " min      0.000000    0.000000    0.000000    0.000000  \n",
       " 25%      0.000000    0.000000    7.910400    0.000000  \n",
       " 50%      0.000000    0.000000   14.454200    0.000000  \n",
       " 75%      1.000000    0.000000   31.000000    1.000000  \n",
       " max      8.000000    6.000000  512.329200    2.000000  ,\n",
       "        PassengerId      Pclass         Sex         Age       SibSp  \\\n",
       " count   418.000000  418.000000  418.000000  418.000000  418.000000   \n",
       " mean   1100.500000    2.265550    0.363636    1.325359    0.447368   \n",
       " std     120.810458    0.841838    0.481622    0.767679    0.896760   \n",
       " min     892.000000    1.000000    0.000000    0.000000    0.000000   \n",
       " 25%     996.250000    1.000000    0.000000    1.000000    0.000000   \n",
       " 50%    1100.500000    3.000000    0.000000    1.000000    0.000000   \n",
       " 75%    1204.750000    3.000000    1.000000    2.000000    1.000000   \n",
       " max    1309.000000    3.000000    1.000000    4.000000    8.000000   \n",
       " \n",
       "             Parch        Fare    Embarked  \n",
       " count  418.000000  418.000000  418.000000  \n",
       " mean     0.392344   35.576535    0.464115  \n",
       " std      0.981429   55.850103    0.685516  \n",
       " min      0.000000    0.000000    0.000000  \n",
       " 25%      0.000000    7.895800    0.000000  \n",
       " 50%      0.000000   14.454200    0.000000  \n",
       " 75%      0.000000   31.471875    1.000000  \n",
       " max      9.000000  512.329200    2.000000  )"
      ]
     },
     "execution_count": 37,
     "metadata": {},
     "output_type": "execute_result"
    }
   ],
   "source": [
    "test_data['Fare'].fillna(test_data['Fare'].dropna().median(), inplace = True)\n",
    "train_data.describe(), test_data.describe()"
   ]
  },
  {
   "cell_type": "code",
   "execution_count": 38,
   "id": "72cffe19",
   "metadata": {
    "execution": {
     "iopub.execute_input": "2022-02-17T10:01:25.680250Z",
     "iopub.status.busy": "2022-02-17T10:01:25.679611Z",
     "iopub.status.idle": "2022-02-17T10:01:25.689454Z",
     "shell.execute_reply": "2022-02-17T10:01:25.689982Z",
     "shell.execute_reply.started": "2022-02-17T10:00:12.881683Z"
    },
    "papermill": {
     "duration": 0.097113,
     "end_time": "2022-02-17T10:01:25.690149",
     "exception": false,
     "start_time": "2022-02-17T10:01:25.593036",
     "status": "completed"
    },
    "tags": []
   },
   "outputs": [
    {
     "data": {
      "text/html": [
       "<div>\n",
       "<style scoped>\n",
       "    .dataframe tbody tr th:only-of-type {\n",
       "        vertical-align: middle;\n",
       "    }\n",
       "\n",
       "    .dataframe tbody tr th {\n",
       "        vertical-align: top;\n",
       "    }\n",
       "\n",
       "    .dataframe thead th {\n",
       "        text-align: right;\n",
       "    }\n",
       "</style>\n",
       "<table border=\"1\" class=\"dataframe\">\n",
       "  <thead>\n",
       "    <tr style=\"text-align: right;\">\n",
       "      <th></th>\n",
       "      <th>Fare</th>\n",
       "    </tr>\n",
       "    <tr>\n",
       "      <th>Pclass</th>\n",
       "      <th></th>\n",
       "    </tr>\n",
       "  </thead>\n",
       "  <tbody>\n",
       "    <tr>\n",
       "      <th>1</th>\n",
       "      <td>53</td>\n",
       "    </tr>\n",
       "  </tbody>\n",
       "</table>\n",
       "</div>"
      ],
      "text/plain": [
       "        Fare\n",
       "Pclass      \n",
       "1         53"
      ]
     },
     "execution_count": 38,
     "metadata": {},
     "output_type": "execute_result"
    }
   ],
   "source": [
    "train_data.loc[train_data['Fare'] > 100][['Fare', 'Pclass']].groupby('Pclass').count()"
   ]
  },
  {
   "cell_type": "code",
   "execution_count": 39,
   "id": "53f9ae50",
   "metadata": {
    "execution": {
     "iopub.execute_input": "2022-02-17T10:01:25.862616Z",
     "iopub.status.busy": "2022-02-17T10:01:25.861959Z",
     "iopub.status.idle": "2022-02-17T10:01:25.888067Z",
     "shell.execute_reply": "2022-02-17T10:01:25.888550Z",
     "shell.execute_reply.started": "2022-02-17T10:00:12.892693Z"
    },
    "papermill": {
     "duration": 0.112329,
     "end_time": "2022-02-17T10:01:25.888723",
     "exception": false,
     "start_time": "2022-02-17T10:01:25.776394",
     "status": "completed"
    },
    "tags": []
   },
   "outputs": [
    {
     "data": {
      "text/html": [
       "<div>\n",
       "<style scoped>\n",
       "    .dataframe tbody tr th:only-of-type {\n",
       "        vertical-align: middle;\n",
       "    }\n",
       "\n",
       "    .dataframe tbody tr th {\n",
       "        vertical-align: top;\n",
       "    }\n",
       "\n",
       "    .dataframe thead th {\n",
       "        text-align: right;\n",
       "    }\n",
       "</style>\n",
       "<table border=\"1\" class=\"dataframe\">\n",
       "  <thead>\n",
       "    <tr style=\"text-align: right;\">\n",
       "      <th></th>\n",
       "      <th>Fare</th>\n",
       "      <th>Fare</th>\n",
       "      <th>Fare</th>\n",
       "    </tr>\n",
       "  </thead>\n",
       "  <tbody>\n",
       "    <tr>\n",
       "      <th>count</th>\n",
       "      <td>216.000000</td>\n",
       "      <td>184.000000</td>\n",
       "      <td>491.000000</td>\n",
       "    </tr>\n",
       "    <tr>\n",
       "      <th>mean</th>\n",
       "      <td>84.154687</td>\n",
       "      <td>20.662183</td>\n",
       "      <td>13.675550</td>\n",
       "    </tr>\n",
       "    <tr>\n",
       "      <th>std</th>\n",
       "      <td>78.380373</td>\n",
       "      <td>13.417399</td>\n",
       "      <td>11.778142</td>\n",
       "    </tr>\n",
       "    <tr>\n",
       "      <th>min</th>\n",
       "      <td>0.000000</td>\n",
       "      <td>0.000000</td>\n",
       "      <td>0.000000</td>\n",
       "    </tr>\n",
       "    <tr>\n",
       "      <th>25%</th>\n",
       "      <td>30.923950</td>\n",
       "      <td>13.000000</td>\n",
       "      <td>7.750000</td>\n",
       "    </tr>\n",
       "    <tr>\n",
       "      <th>50%</th>\n",
       "      <td>60.287500</td>\n",
       "      <td>14.250000</td>\n",
       "      <td>8.050000</td>\n",
       "    </tr>\n",
       "    <tr>\n",
       "      <th>75%</th>\n",
       "      <td>93.500000</td>\n",
       "      <td>26.000000</td>\n",
       "      <td>15.500000</td>\n",
       "    </tr>\n",
       "    <tr>\n",
       "      <th>max</th>\n",
       "      <td>512.329200</td>\n",
       "      <td>73.500000</td>\n",
       "      <td>69.550000</td>\n",
       "    </tr>\n",
       "  </tbody>\n",
       "</table>\n",
       "</div>"
      ],
      "text/plain": [
       "             Fare        Fare        Fare\n",
       "count  216.000000  184.000000  491.000000\n",
       "mean    84.154687   20.662183   13.675550\n",
       "std     78.380373   13.417399   11.778142\n",
       "min      0.000000    0.000000    0.000000\n",
       "25%     30.923950   13.000000    7.750000\n",
       "50%     60.287500   14.250000    8.050000\n",
       "75%     93.500000   26.000000   15.500000\n",
       "max    512.329200   73.500000   69.550000"
      ]
     },
     "execution_count": 39,
     "metadata": {},
     "output_type": "execute_result"
    }
   ],
   "source": [
    "p1 = train_data.loc[train_data['Pclass'] == 1][['Fare']].describe() \n",
    "p2 = train_data.loc[train_data['Pclass'] == 2][['Fare']].describe() \n",
    "p3 = train_data.loc[train_data['Pclass'] == 3][['Fare']].describe() \n",
    "\n",
    "p = pd.concat([p1, p2,p3], axis = 1)\n",
    "p"
   ]
  },
  {
   "cell_type": "code",
   "execution_count": 40,
   "id": "88a7a73a",
   "metadata": {
    "execution": {
     "iopub.execute_input": "2022-02-17T10:01:26.058516Z",
     "iopub.status.busy": "2022-02-17T10:01:26.057835Z",
     "iopub.status.idle": "2022-02-17T10:01:26.074369Z",
     "shell.execute_reply": "2022-02-17T10:01:26.074822Z",
     "shell.execute_reply.started": "2022-02-17T10:00:12.924146Z"
    },
    "papermill": {
     "duration": 0.104472,
     "end_time": "2022-02-17T10:01:26.074979",
     "exception": false,
     "start_time": "2022-02-17T10:01:25.970507",
     "status": "completed"
    },
    "tags": []
   },
   "outputs": [
    {
     "data": {
      "text/html": [
       "<div>\n",
       "<style scoped>\n",
       "    .dataframe tbody tr th:only-of-type {\n",
       "        vertical-align: middle;\n",
       "    }\n",
       "\n",
       "    .dataframe tbody tr th {\n",
       "        vertical-align: top;\n",
       "    }\n",
       "\n",
       "    .dataframe thead th {\n",
       "        text-align: right;\n",
       "    }\n",
       "</style>\n",
       "<table border=\"1\" class=\"dataframe\">\n",
       "  <thead>\n",
       "    <tr style=\"text-align: right;\">\n",
       "      <th></th>\n",
       "      <th>FareBand</th>\n",
       "      <th>Survived</th>\n",
       "    </tr>\n",
       "  </thead>\n",
       "  <tbody>\n",
       "    <tr>\n",
       "      <th>0</th>\n",
       "      <td>(-0.001, 7.55]</td>\n",
       "      <td>0.141304</td>\n",
       "    </tr>\n",
       "    <tr>\n",
       "      <th>1</th>\n",
       "      <td>(7.55, 7.854]</td>\n",
       "      <td>0.298851</td>\n",
       "    </tr>\n",
       "    <tr>\n",
       "      <th>2</th>\n",
       "      <td>(7.854, 8.05]</td>\n",
       "      <td>0.179245</td>\n",
       "    </tr>\n",
       "    <tr>\n",
       "      <th>3</th>\n",
       "      <td>(8.05, 10.5]</td>\n",
       "      <td>0.230769</td>\n",
       "    </tr>\n",
       "    <tr>\n",
       "      <th>4</th>\n",
       "      <td>(10.5, 14.454]</td>\n",
       "      <td>0.428571</td>\n",
       "    </tr>\n",
       "    <tr>\n",
       "      <th>5</th>\n",
       "      <td>(14.454, 21.679]</td>\n",
       "      <td>0.420455</td>\n",
       "    </tr>\n",
       "    <tr>\n",
       "      <th>6</th>\n",
       "      <td>(21.679, 27.0]</td>\n",
       "      <td>0.516854</td>\n",
       "    </tr>\n",
       "    <tr>\n",
       "      <th>7</th>\n",
       "      <td>(27.0, 39.688]</td>\n",
       "      <td>0.373626</td>\n",
       "    </tr>\n",
       "    <tr>\n",
       "      <th>8</th>\n",
       "      <td>(39.688, 77.958]</td>\n",
       "      <td>0.528090</td>\n",
       "    </tr>\n",
       "    <tr>\n",
       "      <th>9</th>\n",
       "      <td>(77.958, 512.329]</td>\n",
       "      <td>0.758621</td>\n",
       "    </tr>\n",
       "  </tbody>\n",
       "</table>\n",
       "</div>"
      ],
      "text/plain": [
       "            FareBand  Survived\n",
       "0     (-0.001, 7.55]  0.141304\n",
       "1      (7.55, 7.854]  0.298851\n",
       "2      (7.854, 8.05]  0.179245\n",
       "3       (8.05, 10.5]  0.230769\n",
       "4     (10.5, 14.454]  0.428571\n",
       "5   (14.454, 21.679]  0.420455\n",
       "6     (21.679, 27.0]  0.516854\n",
       "7     (27.0, 39.688]  0.373626\n",
       "8   (39.688, 77.958]  0.528090\n",
       "9  (77.958, 512.329]  0.758621"
      ]
     },
     "execution_count": 40,
     "metadata": {},
     "output_type": "execute_result"
    }
   ],
   "source": [
    "train_data['FareBand'] = pd.qcut(train_data['Fare'], 10)\n",
    "train_data[['FareBand', 'Survived']].groupby(['FareBand'], as_index = False).mean().sort_values(by = 'FareBand', ascending = True)"
   ]
  },
  {
   "cell_type": "code",
   "execution_count": 41,
   "id": "ebfeb49d",
   "metadata": {
    "execution": {
     "iopub.execute_input": "2022-02-17T10:01:26.246909Z",
     "iopub.status.busy": "2022-02-17T10:01:26.246335Z",
     "iopub.status.idle": "2022-02-17T10:01:26.256389Z",
     "shell.execute_reply": "2022-02-17T10:01:26.256817Z",
     "shell.execute_reply.started": "2022-02-17T10:00:12.942823Z"
    },
    "papermill": {
     "duration": 0.097128,
     "end_time": "2022-02-17T10:01:26.257015",
     "exception": false,
     "start_time": "2022-02-17T10:01:26.159887",
     "status": "completed"
    },
    "tags": []
   },
   "outputs": [
    {
     "data": {
      "text/html": [
       "<div>\n",
       "<style scoped>\n",
       "    .dataframe tbody tr th:only-of-type {\n",
       "        vertical-align: middle;\n",
       "    }\n",
       "\n",
       "    .dataframe tbody tr th {\n",
       "        vertical-align: top;\n",
       "    }\n",
       "\n",
       "    .dataframe thead th {\n",
       "        text-align: right;\n",
       "    }\n",
       "</style>\n",
       "<table border=\"1\" class=\"dataframe\">\n",
       "  <thead>\n",
       "    <tr style=\"text-align: right;\">\n",
       "      <th></th>\n",
       "      <th>Fare</th>\n",
       "    </tr>\n",
       "  </thead>\n",
       "  <tbody>\n",
       "    <tr>\n",
       "      <th>263</th>\n",
       "      <td>0.0</td>\n",
       "    </tr>\n",
       "    <tr>\n",
       "      <th>633</th>\n",
       "      <td>0.0</td>\n",
       "    </tr>\n",
       "    <tr>\n",
       "      <th>806</th>\n",
       "      <td>0.0</td>\n",
       "    </tr>\n",
       "    <tr>\n",
       "      <th>815</th>\n",
       "      <td>0.0</td>\n",
       "    </tr>\n",
       "    <tr>\n",
       "      <th>822</th>\n",
       "      <td>0.0</td>\n",
       "    </tr>\n",
       "    <tr>\n",
       "      <th>872</th>\n",
       "      <td>5.0</td>\n",
       "    </tr>\n",
       "  </tbody>\n",
       "</table>\n",
       "</div>"
      ],
      "text/plain": [
       "     Fare\n",
       "263   0.0\n",
       "633   0.0\n",
       "806   0.0\n",
       "815   0.0\n",
       "822   0.0\n",
       "872   5.0"
      ]
     },
     "execution_count": 41,
     "metadata": {},
     "output_type": "execute_result"
    }
   ],
   "source": [
    "train_data.loc[(train_data['Pclass'] == 1) & (train_data['Fare'] <= 25.0)][['Fare']]"
   ]
  },
  {
   "cell_type": "code",
   "execution_count": 42,
   "id": "03e4d878",
   "metadata": {
    "execution": {
     "iopub.execute_input": "2022-02-17T10:01:26.430276Z",
     "iopub.status.busy": "2022-02-17T10:01:26.429615Z",
     "iopub.status.idle": "2022-02-17T10:01:26.439807Z",
     "shell.execute_reply": "2022-02-17T10:01:26.440292Z",
     "shell.execute_reply.started": "2022-02-17T10:00:12.956875Z"
    },
    "papermill": {
     "duration": 0.098625,
     "end_time": "2022-02-17T10:01:26.440459",
     "exception": false,
     "start_time": "2022-02-17T10:01:26.341834",
     "status": "completed"
    },
    "tags": []
   },
   "outputs": [
    {
     "data": {
      "text/html": [
       "<div>\n",
       "<style scoped>\n",
       "    .dataframe tbody tr th:only-of-type {\n",
       "        vertical-align: middle;\n",
       "    }\n",
       "\n",
       "    .dataframe tbody tr th {\n",
       "        vertical-align: top;\n",
       "    }\n",
       "\n",
       "    .dataframe thead th {\n",
       "        text-align: right;\n",
       "    }\n",
       "</style>\n",
       "<table border=\"1\" class=\"dataframe\">\n",
       "  <thead>\n",
       "    <tr style=\"text-align: right;\">\n",
       "      <th></th>\n",
       "      <th>Fare</th>\n",
       "    </tr>\n",
       "  </thead>\n",
       "  <tbody>\n",
       "    <tr>\n",
       "      <th>277</th>\n",
       "      <td>0.0</td>\n",
       "    </tr>\n",
       "    <tr>\n",
       "      <th>413</th>\n",
       "      <td>0.0</td>\n",
       "    </tr>\n",
       "    <tr>\n",
       "      <th>466</th>\n",
       "      <td>0.0</td>\n",
       "    </tr>\n",
       "    <tr>\n",
       "      <th>481</th>\n",
       "      <td>0.0</td>\n",
       "    </tr>\n",
       "    <tr>\n",
       "      <th>674</th>\n",
       "      <td>0.0</td>\n",
       "    </tr>\n",
       "    <tr>\n",
       "      <th>732</th>\n",
       "      <td>0.0</td>\n",
       "    </tr>\n",
       "  </tbody>\n",
       "</table>\n",
       "</div>"
      ],
      "text/plain": [
       "     Fare\n",
       "277   0.0\n",
       "413   0.0\n",
       "466   0.0\n",
       "481   0.0\n",
       "674   0.0\n",
       "732   0.0"
      ]
     },
     "execution_count": 42,
     "metadata": {},
     "output_type": "execute_result"
    }
   ],
   "source": [
    "train_data.loc[(train_data['Pclass'] == 2) & (train_data['Fare'] <= 10.0)][['Fare']]"
   ]
  },
  {
   "cell_type": "code",
   "execution_count": 43,
   "id": "3d69f59b",
   "metadata": {
    "execution": {
     "iopub.execute_input": "2022-02-17T10:01:26.616173Z",
     "iopub.status.busy": "2022-02-17T10:01:26.615545Z",
     "iopub.status.idle": "2022-02-17T10:01:26.625018Z",
     "shell.execute_reply": "2022-02-17T10:01:26.625538Z",
     "shell.execute_reply.started": "2022-02-17T10:00:12.973579Z"
    },
    "papermill": {
     "duration": 0.099204,
     "end_time": "2022-02-17T10:01:26.625697",
     "exception": false,
     "start_time": "2022-02-17T10:01:26.526493",
     "status": "completed"
    },
    "tags": []
   },
   "outputs": [
    {
     "data": {
      "text/html": [
       "<div>\n",
       "<style scoped>\n",
       "    .dataframe tbody tr th:only-of-type {\n",
       "        vertical-align: middle;\n",
       "    }\n",
       "\n",
       "    .dataframe tbody tr th {\n",
       "        vertical-align: top;\n",
       "    }\n",
       "\n",
       "    .dataframe thead th {\n",
       "        text-align: right;\n",
       "    }\n",
       "</style>\n",
       "<table border=\"1\" class=\"dataframe\">\n",
       "  <thead>\n",
       "    <tr style=\"text-align: right;\">\n",
       "      <th></th>\n",
       "      <th>Fare</th>\n",
       "    </tr>\n",
       "  </thead>\n",
       "  <tbody>\n",
       "    <tr>\n",
       "      <th>179</th>\n",
       "      <td>0.0</td>\n",
       "    </tr>\n",
       "    <tr>\n",
       "      <th>271</th>\n",
       "      <td>0.0</td>\n",
       "    </tr>\n",
       "    <tr>\n",
       "      <th>302</th>\n",
       "      <td>0.0</td>\n",
       "    </tr>\n",
       "    <tr>\n",
       "      <th>597</th>\n",
       "      <td>0.0</td>\n",
       "    </tr>\n",
       "  </tbody>\n",
       "</table>\n",
       "</div>"
      ],
      "text/plain": [
       "     Fare\n",
       "179   0.0\n",
       "271   0.0\n",
       "302   0.0\n",
       "597   0.0"
      ]
     },
     "execution_count": 43,
     "metadata": {},
     "output_type": "execute_result"
    }
   ],
   "source": [
    "train_data.loc[(train_data['Pclass'] == 3) & (train_data['Fare'] <= 4.0)][['Fare']]"
   ]
  },
  {
   "cell_type": "code",
   "execution_count": 44,
   "id": "9c482b84",
   "metadata": {
    "execution": {
     "iopub.execute_input": "2022-02-17T10:01:26.800022Z",
     "iopub.status.busy": "2022-02-17T10:01:26.799434Z",
     "iopub.status.idle": "2022-02-17T10:01:26.813471Z",
     "shell.execute_reply": "2022-02-17T10:01:26.813907Z",
     "shell.execute_reply.started": "2022-02-17T10:00:12.987136Z"
    },
    "papermill": {
     "duration": 0.103206,
     "end_time": "2022-02-17T10:01:26.814076",
     "exception": false,
     "start_time": "2022-02-17T10:01:26.710870",
     "status": "completed"
    },
    "tags": []
   },
   "outputs": [
    {
     "data": {
      "text/plain": [
       "(86.53529761904754, 21.358661235955054, 13.787874948665301)"
      ]
     },
     "execution_count": 44,
     "metadata": {},
     "output_type": "execute_result"
    }
   ],
   "source": [
    "p1m = train_data.loc[(train_data['Pclass'] == 1) & (train_data['Fare'] >= 25.0)][['Fare']].mean()[0]\n",
    "p2m = train_data.loc[(train_data['Pclass'] == 2) & (train_data['Fare'] >= 10.0)][['Fare']].mean()[0]\n",
    "p3m = train_data.loc[(train_data['Pclass'] == 3) & (train_data['Fare'] >= 4.0)][['Fare']].mean()[0]\n",
    "p1m, p2m, p3m"
   ]
  },
  {
   "cell_type": "code",
   "execution_count": 45,
   "id": "40416e94",
   "metadata": {
    "execution": {
     "iopub.execute_input": "2022-02-17T10:01:26.989383Z",
     "iopub.status.busy": "2022-02-17T10:01:26.988714Z",
     "iopub.status.idle": "2022-02-17T10:01:27.025120Z",
     "shell.execute_reply": "2022-02-17T10:01:27.025620Z",
     "shell.execute_reply.started": "2022-02-17T10:00:13.002674Z"
    },
    "papermill": {
     "duration": 0.126293,
     "end_time": "2022-02-17T10:01:27.025794",
     "exception": false,
     "start_time": "2022-02-17T10:01:26.899501",
     "status": "completed"
    },
    "tags": []
   },
   "outputs": [
    {
     "data": {
      "text/html": [
       "<div>\n",
       "<style scoped>\n",
       "    .dataframe tbody tr th:only-of-type {\n",
       "        vertical-align: middle;\n",
       "    }\n",
       "\n",
       "    .dataframe tbody tr th {\n",
       "        vertical-align: top;\n",
       "    }\n",
       "\n",
       "    .dataframe thead th {\n",
       "        text-align: right;\n",
       "    }\n",
       "</style>\n",
       "<table border=\"1\" class=\"dataframe\">\n",
       "  <thead>\n",
       "    <tr style=\"text-align: right;\">\n",
       "      <th></th>\n",
       "      <th>PassengerId</th>\n",
       "      <th>Survived</th>\n",
       "      <th>Pclass</th>\n",
       "      <th>Sex</th>\n",
       "      <th>Age</th>\n",
       "      <th>SibSp</th>\n",
       "      <th>Parch</th>\n",
       "      <th>Fare</th>\n",
       "      <th>Embarked</th>\n",
       "    </tr>\n",
       "  </thead>\n",
       "  <tbody>\n",
       "    <tr>\n",
       "      <th>count</th>\n",
       "      <td>891.000000</td>\n",
       "      <td>891.000000</td>\n",
       "      <td>891.000000</td>\n",
       "      <td>891.000000</td>\n",
       "      <td>891.000000</td>\n",
       "      <td>891.000000</td>\n",
       "      <td>891.000000</td>\n",
       "      <td>891.000000</td>\n",
       "      <td>891.000000</td>\n",
       "    </tr>\n",
       "    <tr>\n",
       "      <th>mean</th>\n",
       "      <td>446.000000</td>\n",
       "      <td>0.383838</td>\n",
       "      <td>2.308642</td>\n",
       "      <td>0.352413</td>\n",
       "      <td>1.324355</td>\n",
       "      <td>0.523008</td>\n",
       "      <td>0.381594</td>\n",
       "      <td>32.987053</td>\n",
       "      <td>0.361392</td>\n",
       "    </tr>\n",
       "    <tr>\n",
       "      <th>std</th>\n",
       "      <td>257.353842</td>\n",
       "      <td>0.486592</td>\n",
       "      <td>0.836071</td>\n",
       "      <td>0.477990</td>\n",
       "      <td>0.820565</td>\n",
       "      <td>1.102743</td>\n",
       "      <td>0.806057</td>\n",
       "      <td>49.726551</td>\n",
       "      <td>0.635673</td>\n",
       "    </tr>\n",
       "    <tr>\n",
       "      <th>min</th>\n",
       "      <td>1.000000</td>\n",
       "      <td>0.000000</td>\n",
       "      <td>1.000000</td>\n",
       "      <td>0.000000</td>\n",
       "      <td>0.000000</td>\n",
       "      <td>0.000000</td>\n",
       "      <td>0.000000</td>\n",
       "      <td>4.012500</td>\n",
       "      <td>0.000000</td>\n",
       "    </tr>\n",
       "    <tr>\n",
       "      <th>25%</th>\n",
       "      <td>223.500000</td>\n",
       "      <td>0.000000</td>\n",
       "      <td>2.000000</td>\n",
       "      <td>0.000000</td>\n",
       "      <td>1.000000</td>\n",
       "      <td>0.000000</td>\n",
       "      <td>0.000000</td>\n",
       "      <td>7.925000</td>\n",
       "      <td>0.000000</td>\n",
       "    </tr>\n",
       "    <tr>\n",
       "      <th>50%</th>\n",
       "      <td>446.000000</td>\n",
       "      <td>0.000000</td>\n",
       "      <td>3.000000</td>\n",
       "      <td>0.000000</td>\n",
       "      <td>1.000000</td>\n",
       "      <td>0.000000</td>\n",
       "      <td>0.000000</td>\n",
       "      <td>15.000000</td>\n",
       "      <td>0.000000</td>\n",
       "    </tr>\n",
       "    <tr>\n",
       "      <th>75%</th>\n",
       "      <td>668.500000</td>\n",
       "      <td>1.000000</td>\n",
       "      <td>3.000000</td>\n",
       "      <td>1.000000</td>\n",
       "      <td>2.000000</td>\n",
       "      <td>1.000000</td>\n",
       "      <td>0.000000</td>\n",
       "      <td>31.275000</td>\n",
       "      <td>1.000000</td>\n",
       "    </tr>\n",
       "    <tr>\n",
       "      <th>max</th>\n",
       "      <td>891.000000</td>\n",
       "      <td>1.000000</td>\n",
       "      <td>3.000000</td>\n",
       "      <td>1.000000</td>\n",
       "      <td>4.000000</td>\n",
       "      <td>8.000000</td>\n",
       "      <td>6.000000</td>\n",
       "      <td>512.329200</td>\n",
       "      <td>2.000000</td>\n",
       "    </tr>\n",
       "  </tbody>\n",
       "</table>\n",
       "</div>"
      ],
      "text/plain": [
       "       PassengerId    Survived      Pclass         Sex         Age  \\\n",
       "count   891.000000  891.000000  891.000000  891.000000  891.000000   \n",
       "mean    446.000000    0.383838    2.308642    0.352413    1.324355   \n",
       "std     257.353842    0.486592    0.836071    0.477990    0.820565   \n",
       "min       1.000000    0.000000    1.000000    0.000000    0.000000   \n",
       "25%     223.500000    0.000000    2.000000    0.000000    1.000000   \n",
       "50%     446.000000    0.000000    3.000000    0.000000    1.000000   \n",
       "75%     668.500000    1.000000    3.000000    1.000000    2.000000   \n",
       "max     891.000000    1.000000    3.000000    1.000000    4.000000   \n",
       "\n",
       "            SibSp       Parch        Fare    Embarked  \n",
       "count  891.000000  891.000000  891.000000  891.000000  \n",
       "mean     0.523008    0.381594   32.987053    0.361392  \n",
       "std      1.102743    0.806057   49.726551    0.635673  \n",
       "min      0.000000    0.000000    4.012500    0.000000  \n",
       "25%      0.000000    0.000000    7.925000    0.000000  \n",
       "50%      0.000000    0.000000   15.000000    0.000000  \n",
       "75%      1.000000    0.000000   31.275000    1.000000  \n",
       "max      8.000000    6.000000  512.329200    2.000000  "
      ]
     },
     "execution_count": 45,
     "metadata": {},
     "output_type": "execute_result"
    }
   ],
   "source": [
    "train_data.loc[(train_data['Pclass'] == 3) & (train_data['Fare'] <= 4.0) , 'Fare'] = p3m\n",
    "train_data.loc[(train_data['Pclass'] == 2) & (train_data['Fare'] <= 10.0) , 'Fare'] = p2m\n",
    "train_data.loc[(train_data['Pclass'] == 1) & (train_data['Fare'] <= 25.0) , 'Fare'] = p1m\n",
    "\n",
    "train_data.describe()"
   ]
  },
  {
   "cell_type": "code",
   "execution_count": 46,
   "id": "470e1e15",
   "metadata": {
    "execution": {
     "iopub.execute_input": "2022-02-17T10:01:27.203478Z",
     "iopub.status.busy": "2022-02-17T10:01:27.202854Z",
     "iopub.status.idle": "2022-02-17T10:01:27.211731Z",
     "shell.execute_reply": "2022-02-17T10:01:27.212184Z",
     "shell.execute_reply.started": "2022-02-17T10:00:13.043288Z"
    },
    "papermill": {
     "duration": 0.098655,
     "end_time": "2022-02-17T10:01:27.212357",
     "exception": false,
     "start_time": "2022-02-17T10:01:27.113702",
     "status": "completed"
    },
    "tags": []
   },
   "outputs": [
    {
     "data": {
      "text/html": [
       "<div>\n",
       "<style scoped>\n",
       "    .dataframe tbody tr th:only-of-type {\n",
       "        vertical-align: middle;\n",
       "    }\n",
       "\n",
       "    .dataframe tbody tr th {\n",
       "        vertical-align: top;\n",
       "    }\n",
       "\n",
       "    .dataframe thead th {\n",
       "        text-align: right;\n",
       "    }\n",
       "</style>\n",
       "<table border=\"1\" class=\"dataframe\">\n",
       "  <thead>\n",
       "    <tr style=\"text-align: right;\">\n",
       "      <th></th>\n",
       "      <th>PassengerId</th>\n",
       "      <th>Survived</th>\n",
       "      <th>Pclass</th>\n",
       "      <th>Sex</th>\n",
       "      <th>Age</th>\n",
       "      <th>SibSp</th>\n",
       "      <th>Parch</th>\n",
       "      <th>Fare</th>\n",
       "      <th>Embarked</th>\n",
       "      <th>FareBand</th>\n",
       "    </tr>\n",
       "  </thead>\n",
       "  <tbody>\n",
       "  </tbody>\n",
       "</table>\n",
       "</div>"
      ],
      "text/plain": [
       "Empty DataFrame\n",
       "Columns: [PassengerId, Survived, Pclass, Sex, Age, SibSp, Parch, Fare, Embarked, FareBand]\n",
       "Index: []"
      ]
     },
     "execution_count": 46,
     "metadata": {},
     "output_type": "execute_result"
    }
   ],
   "source": [
    "train_data.loc[train_data['Fare'].isna()]"
   ]
  },
  {
   "cell_type": "code",
   "execution_count": 47,
   "id": "177d3a27",
   "metadata": {
    "execution": {
     "iopub.execute_input": "2022-02-17T10:01:27.388775Z",
     "iopub.status.busy": "2022-02-17T10:01:27.388128Z",
     "iopub.status.idle": "2022-02-17T10:01:27.401401Z",
     "shell.execute_reply": "2022-02-17T10:01:27.401883Z",
     "shell.execute_reply.started": "2022-02-17T10:00:13.055373Z"
    },
    "papermill": {
     "duration": 0.103692,
     "end_time": "2022-02-17T10:01:27.402051",
     "exception": false,
     "start_time": "2022-02-17T10:01:27.298359",
     "status": "completed"
    },
    "tags": []
   },
   "outputs": [
    {
     "data": {
      "text/html": [
       "<div>\n",
       "<style scoped>\n",
       "    .dataframe tbody tr th:only-of-type {\n",
       "        vertical-align: middle;\n",
       "    }\n",
       "\n",
       "    .dataframe tbody tr th {\n",
       "        vertical-align: top;\n",
       "    }\n",
       "\n",
       "    .dataframe thead th {\n",
       "        text-align: right;\n",
       "    }\n",
       "</style>\n",
       "<table border=\"1\" class=\"dataframe\">\n",
       "  <thead>\n",
       "    <tr style=\"text-align: right;\">\n",
       "      <th></th>\n",
       "      <th>PassengerId</th>\n",
       "      <th>Survived</th>\n",
       "      <th>Pclass</th>\n",
       "      <th>Sex</th>\n",
       "      <th>Age</th>\n",
       "      <th>SibSp</th>\n",
       "      <th>Parch</th>\n",
       "      <th>Fare</th>\n",
       "      <th>Embarked</th>\n",
       "      <th>FareBand</th>\n",
       "    </tr>\n",
       "  </thead>\n",
       "  <tbody>\n",
       "  </tbody>\n",
       "</table>\n",
       "</div>"
      ],
      "text/plain": [
       "Empty DataFrame\n",
       "Columns: [PassengerId, Survived, Pclass, Sex, Age, SibSp, Parch, Fare, Embarked, FareBand]\n",
       "Index: []"
      ]
     },
     "execution_count": 47,
     "metadata": {},
     "output_type": "execute_result"
    }
   ],
   "source": [
    "train_data.loc[(train_data['Pclass'] == 1) & (train_data.Fare.isnull()), 'Fare'] = p1m\n",
    "train_data.loc[(train_data['Pclass'] == 2) & (train_data.Fare.isnull()), 'Fare'] = p2m\n",
    "train_data.loc[(train_data['Pclass'] == 3) & (train_data.Fare.isnull()), 'Fare'] = p3m\n",
    "\n",
    "train_data.loc[train_data['Fare'].isna()]"
   ]
  },
  {
   "cell_type": "code",
   "execution_count": 48,
   "id": "cb396f0c",
   "metadata": {
    "execution": {
     "iopub.execute_input": "2022-02-17T10:01:27.581704Z",
     "iopub.status.busy": "2022-02-17T10:01:27.581024Z",
     "iopub.status.idle": "2022-02-17T10:01:27.615730Z",
     "shell.execute_reply": "2022-02-17T10:01:27.616243Z",
     "shell.execute_reply.started": "2022-02-17T10:00:13.076871Z"
    },
    "papermill": {
     "duration": 0.125707,
     "end_time": "2022-02-17T10:01:27.616404",
     "exception": false,
     "start_time": "2022-02-17T10:01:27.490697",
     "status": "completed"
    },
    "tags": []
   },
   "outputs": [
    {
     "data": {
      "text/html": [
       "<div>\n",
       "<style scoped>\n",
       "    .dataframe tbody tr th:only-of-type {\n",
       "        vertical-align: middle;\n",
       "    }\n",
       "\n",
       "    .dataframe tbody tr th {\n",
       "        vertical-align: top;\n",
       "    }\n",
       "\n",
       "    .dataframe thead th {\n",
       "        text-align: right;\n",
       "    }\n",
       "</style>\n",
       "<table border=\"1\" class=\"dataframe\">\n",
       "  <thead>\n",
       "    <tr style=\"text-align: right;\">\n",
       "      <th></th>\n",
       "      <th>PassengerId</th>\n",
       "      <th>Pclass</th>\n",
       "      <th>Sex</th>\n",
       "      <th>Age</th>\n",
       "      <th>SibSp</th>\n",
       "      <th>Parch</th>\n",
       "      <th>Fare</th>\n",
       "      <th>Embarked</th>\n",
       "    </tr>\n",
       "  </thead>\n",
       "  <tbody>\n",
       "    <tr>\n",
       "      <th>count</th>\n",
       "      <td>418.000000</td>\n",
       "      <td>418.000000</td>\n",
       "      <td>418.000000</td>\n",
       "      <td>418.000000</td>\n",
       "      <td>418.000000</td>\n",
       "      <td>418.000000</td>\n",
       "      <td>418.000000</td>\n",
       "      <td>418.000000</td>\n",
       "    </tr>\n",
       "    <tr>\n",
       "      <th>mean</th>\n",
       "      <td>1100.500000</td>\n",
       "      <td>2.265550</td>\n",
       "      <td>0.363636</td>\n",
       "      <td>1.325359</td>\n",
       "      <td>0.447368</td>\n",
       "      <td>0.392344</td>\n",
       "      <td>36.043901</td>\n",
       "      <td>0.464115</td>\n",
       "    </tr>\n",
       "    <tr>\n",
       "      <th>std</th>\n",
       "      <td>120.810458</td>\n",
       "      <td>0.841838</td>\n",
       "      <td>0.481622</td>\n",
       "      <td>0.767679</td>\n",
       "      <td>0.896760</td>\n",
       "      <td>0.981429</td>\n",
       "      <td>55.882885</td>\n",
       "      <td>0.685516</td>\n",
       "    </tr>\n",
       "    <tr>\n",
       "      <th>min</th>\n",
       "      <td>892.000000</td>\n",
       "      <td>1.000000</td>\n",
       "      <td>0.000000</td>\n",
       "      <td>0.000000</td>\n",
       "      <td>0.000000</td>\n",
       "      <td>0.000000</td>\n",
       "      <td>6.437500</td>\n",
       "      <td>0.000000</td>\n",
       "    </tr>\n",
       "    <tr>\n",
       "      <th>25%</th>\n",
       "      <td>996.250000</td>\n",
       "      <td>1.000000</td>\n",
       "      <td>0.000000</td>\n",
       "      <td>1.000000</td>\n",
       "      <td>0.000000</td>\n",
       "      <td>0.000000</td>\n",
       "      <td>7.895800</td>\n",
       "      <td>0.000000</td>\n",
       "    </tr>\n",
       "    <tr>\n",
       "      <th>50%</th>\n",
       "      <td>1100.500000</td>\n",
       "      <td>3.000000</td>\n",
       "      <td>0.000000</td>\n",
       "      <td>1.000000</td>\n",
       "      <td>0.000000</td>\n",
       "      <td>0.000000</td>\n",
       "      <td>14.479150</td>\n",
       "      <td>0.000000</td>\n",
       "    </tr>\n",
       "    <tr>\n",
       "      <th>75%</th>\n",
       "      <td>1204.750000</td>\n",
       "      <td>3.000000</td>\n",
       "      <td>1.000000</td>\n",
       "      <td>2.000000</td>\n",
       "      <td>1.000000</td>\n",
       "      <td>0.000000</td>\n",
       "      <td>31.500000</td>\n",
       "      <td>1.000000</td>\n",
       "    </tr>\n",
       "    <tr>\n",
       "      <th>max</th>\n",
       "      <td>1309.000000</td>\n",
       "      <td>3.000000</td>\n",
       "      <td>1.000000</td>\n",
       "      <td>4.000000</td>\n",
       "      <td>8.000000</td>\n",
       "      <td>9.000000</td>\n",
       "      <td>512.329200</td>\n",
       "      <td>2.000000</td>\n",
       "    </tr>\n",
       "  </tbody>\n",
       "</table>\n",
       "</div>"
      ],
      "text/plain": [
       "       PassengerId      Pclass         Sex         Age       SibSp  \\\n",
       "count   418.000000  418.000000  418.000000  418.000000  418.000000   \n",
       "mean   1100.500000    2.265550    0.363636    1.325359    0.447368   \n",
       "std     120.810458    0.841838    0.481622    0.767679    0.896760   \n",
       "min     892.000000    1.000000    0.000000    0.000000    0.000000   \n",
       "25%     996.250000    1.000000    0.000000    1.000000    0.000000   \n",
       "50%    1100.500000    3.000000    0.000000    1.000000    0.000000   \n",
       "75%    1204.750000    3.000000    1.000000    2.000000    1.000000   \n",
       "max    1309.000000    3.000000    1.000000    4.000000    8.000000   \n",
       "\n",
       "            Parch        Fare    Embarked  \n",
       "count  418.000000  418.000000  418.000000  \n",
       "mean     0.392344   36.043901    0.464115  \n",
       "std      0.981429   55.882885    0.685516  \n",
       "min      0.000000    6.437500    0.000000  \n",
       "25%      0.000000    7.895800    0.000000  \n",
       "50%      0.000000   14.479150    0.000000  \n",
       "75%      0.000000   31.500000    1.000000  \n",
       "max      9.000000  512.329200    2.000000  "
      ]
     },
     "execution_count": 48,
     "metadata": {},
     "output_type": "execute_result"
    }
   ],
   "source": [
    "test_data.loc[(test_data['Pclass'] == 3) & (test_data['Fare'] <= 4.0) , 'Fare'] = p3m\n",
    "test_data.loc[(test_data['Pclass'] == 2) & (test_data['Fare'] <= 10.0) , 'Fare'] = p2m\n",
    "test_data.loc[(test_data['Pclass'] == 1) & (test_data['Fare'] <= 25.0) , 'Fare'] = p1m\n",
    "\n",
    "test_data.describe()"
   ]
  },
  {
   "cell_type": "code",
   "execution_count": 49,
   "id": "331f0936",
   "metadata": {
    "execution": {
     "iopub.execute_input": "2022-02-17T10:01:27.798670Z",
     "iopub.status.busy": "2022-02-17T10:01:27.797982Z",
     "iopub.status.idle": "2022-02-17T10:01:27.806631Z",
     "shell.execute_reply": "2022-02-17T10:01:27.807130Z",
     "shell.execute_reply.started": "2022-02-17T10:00:13.116588Z"
    },
    "papermill": {
     "duration": 0.102453,
     "end_time": "2022-02-17T10:01:27.807321",
     "exception": false,
     "start_time": "2022-02-17T10:01:27.704868",
     "status": "completed"
    },
    "tags": []
   },
   "outputs": [
    {
     "data": {
      "text/html": [
       "<div>\n",
       "<style scoped>\n",
       "    .dataframe tbody tr th:only-of-type {\n",
       "        vertical-align: middle;\n",
       "    }\n",
       "\n",
       "    .dataframe tbody tr th {\n",
       "        vertical-align: top;\n",
       "    }\n",
       "\n",
       "    .dataframe thead th {\n",
       "        text-align: right;\n",
       "    }\n",
       "</style>\n",
       "<table border=\"1\" class=\"dataframe\">\n",
       "  <thead>\n",
       "    <tr style=\"text-align: right;\">\n",
       "      <th></th>\n",
       "      <th>PassengerId</th>\n",
       "      <th>Pclass</th>\n",
       "      <th>Sex</th>\n",
       "      <th>Age</th>\n",
       "      <th>SibSp</th>\n",
       "      <th>Parch</th>\n",
       "      <th>Fare</th>\n",
       "      <th>Embarked</th>\n",
       "    </tr>\n",
       "  </thead>\n",
       "  <tbody>\n",
       "  </tbody>\n",
       "</table>\n",
       "</div>"
      ],
      "text/plain": [
       "Empty DataFrame\n",
       "Columns: [PassengerId, Pclass, Sex, Age, SibSp, Parch, Fare, Embarked]\n",
       "Index: []"
      ]
     },
     "execution_count": 49,
     "metadata": {},
     "output_type": "execute_result"
    }
   ],
   "source": [
    "test_data.loc[test_data['Fare'].isna()]"
   ]
  },
  {
   "cell_type": "code",
   "execution_count": 50,
   "id": "7ba34daa",
   "metadata": {
    "execution": {
     "iopub.execute_input": "2022-02-17T10:01:27.987885Z",
     "iopub.status.busy": "2022-02-17T10:01:27.986991Z",
     "iopub.status.idle": "2022-02-17T10:01:27.988933Z",
     "shell.execute_reply": "2022-02-17T10:01:27.989414Z",
     "shell.execute_reply.started": "2022-02-17T10:00:13.127176Z"
    },
    "papermill": {
     "duration": 0.094462,
     "end_time": "2022-02-17T10:01:27.989581",
     "exception": false,
     "start_time": "2022-02-17T10:01:27.895119",
     "status": "completed"
    },
    "tags": []
   },
   "outputs": [],
   "source": [
    "combine = [train_data, test_data]"
   ]
  },
  {
   "cell_type": "code",
   "execution_count": 51,
   "id": "cba1d14b",
   "metadata": {
    "execution": {
     "iopub.execute_input": "2022-02-17T10:01:28.175736Z",
     "iopub.status.busy": "2022-02-17T10:01:28.174762Z",
     "iopub.status.idle": "2022-02-17T10:01:28.205918Z",
     "shell.execute_reply": "2022-02-17T10:01:28.205391Z",
     "shell.execute_reply.started": "2022-02-17T10:00:13.135576Z"
    },
    "papermill": {
     "duration": 0.127356,
     "end_time": "2022-02-17T10:01:28.206051",
     "exception": false,
     "start_time": "2022-02-17T10:01:28.078695",
     "status": "completed"
    },
    "tags": []
   },
   "outputs": [
    {
     "data": {
      "text/plain": [
       "(   PassengerId  Survived  Pclass  Sex  Age  SibSp  Parch  Fare  Embarked  \\\n",
       " 0            1         0       3    0    1      1      0     0         0   \n",
       " 1            2         1       1    1    2      1      0     8         1   \n",
       " 2            3         1       3    1    1      0      0     2         0   \n",
       " 3            4         1       1    1    2      1      0     8         0   \n",
       " 4            5         0       3    0    2      0      0     2         0   \n",
       " \n",
       "            FareBand  \n",
       " 0    (-0.001, 7.55]  \n",
       " 1  (39.688, 77.958]  \n",
       " 2     (7.854, 8.05]  \n",
       " 3  (39.688, 77.958]  \n",
       " 4     (7.854, 8.05]  ,\n",
       "    PassengerId  Pclass  Sex  Age  SibSp  Parch  Fare  Embarked\n",
       " 0          892       3    0    2      0      0     0         2\n",
       " 1          893       3    1    2      1      0     7         0\n",
       " 2          894       2    0    3      0      0     0         2\n",
       " 3          895       3    0    1      0      0     3         0\n",
       " 4          896       3    1    1      1      1     0         0)"
      ]
     },
     "execution_count": 51,
     "metadata": {},
     "output_type": "execute_result"
    }
   ],
   "source": [
    "for dataset in combine:\n",
    "    dataset.loc[train_data['Fare'] <= 7.55, 'Fare'] = 0\n",
    "    dataset.loc[(dataset['Fare'] > 7.55) & (dataset['Fare'] <= 7.854), 'Fare'] = 1\n",
    "    dataset.loc[(dataset['Fare'] > 7.854) & (dataset['Fare'] <= 8.05), 'Fare'] = 2\n",
    "    dataset.loc[(dataset['Fare'] > 8.05) & (dataset['Fare'] <= 10.5), 'Fare'] = 3\n",
    "    dataset.loc[(dataset['Fare'] > 10.5) & (dataset['Fare'] <= 14.454), 'Fare'] = 4\n",
    "    dataset.loc[(dataset['Fare'] > 14.454) & (dataset['Fare'] <= 21.679), 'Fare'] = 5\n",
    "    dataset.loc[(dataset['Fare'] > 21.679) & (dataset['Fare'] <= 27.0), 'Fare'] = 6\n",
    "    dataset.loc[(dataset['Fare'] > 27.0) & (dataset['Fare'] <= 39.688), 'Fare'] = 7\n",
    "    dataset.loc[(dataset['Fare'] > 39.688) & (dataset['Fare'] <= 77.958), 'Fare'] = 8\n",
    "    dataset.loc[dataset['Fare'] >= 77.958, 'Fare'] = 9\n",
    "    dataset['Fare'] = dataset['Fare'].astype(int)\n",
    "    \n",
    "train_data.head(), test_data.head()"
   ]
  },
  {
   "cell_type": "code",
   "execution_count": 52,
   "id": "45bd6078",
   "metadata": {
    "execution": {
     "iopub.execute_input": "2022-02-17T10:01:28.395941Z",
     "iopub.status.busy": "2022-02-17T10:01:28.389069Z",
     "iopub.status.idle": "2022-02-17T10:01:28.400328Z",
     "shell.execute_reply": "2022-02-17T10:01:28.399720Z",
     "shell.execute_reply.started": "2022-02-17T10:00:13.174389Z"
    },
    "papermill": {
     "duration": 0.105997,
     "end_time": "2022-02-17T10:01:28.400477",
     "exception": false,
     "start_time": "2022-02-17T10:01:28.294480",
     "status": "completed"
    },
    "tags": []
   },
   "outputs": [
    {
     "data": {
      "text/html": [
       "<div>\n",
       "<style scoped>\n",
       "    .dataframe tbody tr th:only-of-type {\n",
       "        vertical-align: middle;\n",
       "    }\n",
       "\n",
       "    .dataframe tbody tr th {\n",
       "        vertical-align: top;\n",
       "    }\n",
       "\n",
       "    .dataframe thead th {\n",
       "        text-align: right;\n",
       "    }\n",
       "</style>\n",
       "<table border=\"1\" class=\"dataframe\">\n",
       "  <thead>\n",
       "    <tr style=\"text-align: right;\">\n",
       "      <th></th>\n",
       "      <th>PassengerId</th>\n",
       "      <th>Survived</th>\n",
       "      <th>Pclass</th>\n",
       "      <th>Sex</th>\n",
       "      <th>Age</th>\n",
       "      <th>SibSp</th>\n",
       "      <th>Parch</th>\n",
       "      <th>Fare</th>\n",
       "      <th>Embarked</th>\n",
       "    </tr>\n",
       "  </thead>\n",
       "  <tbody>\n",
       "    <tr>\n",
       "      <th>0</th>\n",
       "      <td>1</td>\n",
       "      <td>0</td>\n",
       "      <td>3</td>\n",
       "      <td>0</td>\n",
       "      <td>1</td>\n",
       "      <td>1</td>\n",
       "      <td>0</td>\n",
       "      <td>0</td>\n",
       "      <td>0</td>\n",
       "    </tr>\n",
       "    <tr>\n",
       "      <th>1</th>\n",
       "      <td>2</td>\n",
       "      <td>1</td>\n",
       "      <td>1</td>\n",
       "      <td>1</td>\n",
       "      <td>2</td>\n",
       "      <td>1</td>\n",
       "      <td>0</td>\n",
       "      <td>8</td>\n",
       "      <td>1</td>\n",
       "    </tr>\n",
       "    <tr>\n",
       "      <th>2</th>\n",
       "      <td>3</td>\n",
       "      <td>1</td>\n",
       "      <td>3</td>\n",
       "      <td>1</td>\n",
       "      <td>1</td>\n",
       "      <td>0</td>\n",
       "      <td>0</td>\n",
       "      <td>2</td>\n",
       "      <td>0</td>\n",
       "    </tr>\n",
       "    <tr>\n",
       "      <th>3</th>\n",
       "      <td>4</td>\n",
       "      <td>1</td>\n",
       "      <td>1</td>\n",
       "      <td>1</td>\n",
       "      <td>2</td>\n",
       "      <td>1</td>\n",
       "      <td>0</td>\n",
       "      <td>8</td>\n",
       "      <td>0</td>\n",
       "    </tr>\n",
       "    <tr>\n",
       "      <th>4</th>\n",
       "      <td>5</td>\n",
       "      <td>0</td>\n",
       "      <td>3</td>\n",
       "      <td>0</td>\n",
       "      <td>2</td>\n",
       "      <td>0</td>\n",
       "      <td>0</td>\n",
       "      <td>2</td>\n",
       "      <td>0</td>\n",
       "    </tr>\n",
       "  </tbody>\n",
       "</table>\n",
       "</div>"
      ],
      "text/plain": [
       "   PassengerId  Survived  Pclass  Sex  Age  SibSp  Parch  Fare  Embarked\n",
       "0            1         0       3    0    1      1      0     0         0\n",
       "1            2         1       1    1    2      1      0     8         1\n",
       "2            3         1       3    1    1      0      0     2         0\n",
       "3            4         1       1    1    2      1      0     8         0\n",
       "4            5         0       3    0    2      0      0     2         0"
      ]
     },
     "execution_count": 52,
     "metadata": {},
     "output_type": "execute_result"
    }
   ],
   "source": [
    "train_data = train_data.drop(['FareBand'], axis = 1)\n",
    "train_data.head(5)"
   ]
  },
  {
   "cell_type": "code",
   "execution_count": 53,
   "id": "2834c1c9",
   "metadata": {
    "execution": {
     "iopub.execute_input": "2022-02-17T10:01:28.586776Z",
     "iopub.status.busy": "2022-02-17T10:01:28.586049Z",
     "iopub.status.idle": "2022-02-17T10:01:28.902900Z",
     "shell.execute_reply": "2022-02-17T10:01:28.903406Z",
     "shell.execute_reply.started": "2022-02-17T10:00:13.188960Z"
    },
    "papermill": {
     "duration": 0.412545,
     "end_time": "2022-02-17T10:01:28.903590",
     "exception": false,
     "start_time": "2022-02-17T10:01:28.491045",
     "status": "completed"
    },
    "tags": []
   },
   "outputs": [
    {
     "data": {
      "image/png": "[encoded data removed]",
      "text/plain": [
       "<Figure size 432x288 with 1 Axes>"
      ]
     },
     "metadata": {
      "needs_background": "light"
     },
     "output_type": "display_data"
    }
   ],
   "source": [
    "g = sns.histplot(x = 'Fare', data = train_data, hue = \"Survived\")"
   ]
  },
  {
   "cell_type": "code",
   "execution_count": 54,
   "id": "e8f887d5",
   "metadata": {
    "execution": {
     "iopub.execute_input": "2022-02-17T10:01:29.093658Z",
     "iopub.status.busy": "2022-02-17T10:01:29.092660Z",
     "iopub.status.idle": "2022-02-17T10:01:29.103474Z",
     "shell.execute_reply": "2022-02-17T10:01:29.103968Z",
     "shell.execute_reply.started": "2022-02-17T10:00:13.458666Z"
    },
    "papermill": {
     "duration": 0.110348,
     "end_time": "2022-02-17T10:01:29.104140",
     "exception": false,
     "start_time": "2022-02-17T10:01:28.993792",
     "status": "completed"
    },
    "tags": []
   },
   "outputs": [
    {
     "data": {
      "text/plain": [
       "(   PassengerId  Survived  Pclass  Sex  Age  SibSp  Parch  Fare  Embarked  \\\n",
       " 0            1         0       3    0    1      1      0     0         0   \n",
       " 1            2         1       1    1    2      1      0     8         1   \n",
       " 2            3         1       3    1    1      0      0     2         0   \n",
       " 3            4         1       1    1    2      1      0     8         0   \n",
       " 4            5         0       3    0    2      0      0     2         0   \n",
       " \n",
       "    FamilySize  \n",
       " 0           2  \n",
       " 1           2  \n",
       " 2           1  \n",
       " 3           2  \n",
       " 4           1  ,\n",
       "    PassengerId  Pclass  Sex  Age  SibSp  Parch  Fare  Embarked  FamilySize\n",
       " 0          892       3    0    2      0      0     0         2           1\n",
       " 1          893       3    1    2      1      0     7         0           2\n",
       " 2          894       2    0    3      0      0     0         2           1\n",
       " 3          895       3    0    1      0      0     3         0           1\n",
       " 4          896       3    1    1      1      1     0         0           3)"
      ]
     },
     "execution_count": 54,
     "metadata": {},
     "output_type": "execute_result"
    }
   ],
   "source": [
    "train_data['FamilySize'] = (train_data['SibSp'] + train_data['Parch'] + 1).astype(int)\n",
    "test_data['FamilySize'] = (test_data['SibSp'] + test_data['Parch'] + 1).astype(int)\n",
    "train_data.head(5), test_data.head(5), "
   ]
  },
  {
   "cell_type": "code",
   "execution_count": 55,
   "id": "58a9fb71",
   "metadata": {
    "execution": {
     "iopub.execute_input": "2022-02-17T10:01:29.289168Z",
     "iopub.status.busy": "2022-02-17T10:01:29.288498Z",
     "iopub.status.idle": "2022-02-17T10:01:29.300989Z",
     "shell.execute_reply": "2022-02-17T10:01:29.301489Z",
     "shell.execute_reply.started": "2022-02-17T10:00:13.479370Z"
    },
    "papermill": {
     "duration": 0.106176,
     "end_time": "2022-02-17T10:01:29.301652",
     "exception": false,
     "start_time": "2022-02-17T10:01:29.195476",
     "status": "completed"
    },
    "tags": []
   },
   "outputs": [
    {
     "data": {
      "text/html": [
       "<div>\n",
       "<style scoped>\n",
       "    .dataframe tbody tr th:only-of-type {\n",
       "        vertical-align: middle;\n",
       "    }\n",
       "\n",
       "    .dataframe tbody tr th {\n",
       "        vertical-align: top;\n",
       "    }\n",
       "\n",
       "    .dataframe thead th {\n",
       "        text-align: right;\n",
       "    }\n",
       "</style>\n",
       "<table border=\"1\" class=\"dataframe\">\n",
       "  <thead>\n",
       "    <tr style=\"text-align: right;\">\n",
       "      <th></th>\n",
       "      <th>FamilySize</th>\n",
       "      <th>Survived</th>\n",
       "    </tr>\n",
       "  </thead>\n",
       "  <tbody>\n",
       "    <tr>\n",
       "      <th>3</th>\n",
       "      <td>4</td>\n",
       "      <td>0.724138</td>\n",
       "    </tr>\n",
       "    <tr>\n",
       "      <th>2</th>\n",
       "      <td>3</td>\n",
       "      <td>0.578431</td>\n",
       "    </tr>\n",
       "    <tr>\n",
       "      <th>1</th>\n",
       "      <td>2</td>\n",
       "      <td>0.552795</td>\n",
       "    </tr>\n",
       "    <tr>\n",
       "      <th>6</th>\n",
       "      <td>7</td>\n",
       "      <td>0.333333</td>\n",
       "    </tr>\n",
       "    <tr>\n",
       "      <th>0</th>\n",
       "      <td>1</td>\n",
       "      <td>0.303538</td>\n",
       "    </tr>\n",
       "    <tr>\n",
       "      <th>4</th>\n",
       "      <td>5</td>\n",
       "      <td>0.200000</td>\n",
       "    </tr>\n",
       "    <tr>\n",
       "      <th>5</th>\n",
       "      <td>6</td>\n",
       "      <td>0.136364</td>\n",
       "    </tr>\n",
       "    <tr>\n",
       "      <th>7</th>\n",
       "      <td>8</td>\n",
       "      <td>0.000000</td>\n",
       "    </tr>\n",
       "    <tr>\n",
       "      <th>8</th>\n",
       "      <td>11</td>\n",
       "      <td>0.000000</td>\n",
       "    </tr>\n",
       "  </tbody>\n",
       "</table>\n",
       "</div>"
      ],
      "text/plain": [
       "   FamilySize  Survived\n",
       "3           4  0.724138\n",
       "2           3  0.578431\n",
       "1           2  0.552795\n",
       "6           7  0.333333\n",
       "0           1  0.303538\n",
       "4           5  0.200000\n",
       "5           6  0.136364\n",
       "7           8  0.000000\n",
       "8          11  0.000000"
      ]
     },
     "execution_count": 55,
     "metadata": {},
     "output_type": "execute_result"
    }
   ],
   "source": [
    "train_data[['FamilySize', 'Survived']].groupby(['FamilySize'], as_index = False).mean().sort_values(by = 'Survived', ascending = False)"
   ]
  },
  {
   "cell_type": "code",
   "execution_count": 56,
   "id": "260a240c",
   "metadata": {
    "execution": {
     "iopub.execute_input": "2022-02-17T10:01:29.487141Z",
     "iopub.status.busy": "2022-02-17T10:01:29.486500Z",
     "iopub.status.idle": "2022-02-17T10:01:30.018975Z",
     "shell.execute_reply": "2022-02-17T10:01:30.019531Z",
     "shell.execute_reply.started": "2022-02-17T10:00:13.495553Z"
    },
    "papermill": {
     "duration": 0.626405,
     "end_time": "2022-02-17T10:01:30.019720",
     "exception": false,
     "start_time": "2022-02-17T10:01:29.393315",
     "status": "completed"
    },
    "tags": []
   },
   "outputs": [
    {
     "data": {
      "image/png": "[encoded data removed]",
      "text/plain": [
       "<Figure size 432x288 with 1 Axes>"
      ]
     },
     "metadata": {
      "needs_background": "light"
     },
     "output_type": "display_data"
    }
   ],
   "source": [
    "g = sns.histplot(x = 'FamilySize', data = train_data, hue = \"Survived\")"
   ]
  },
  {
   "cell_type": "code",
   "execution_count": 57,
   "id": "6813cafc",
   "metadata": {
    "execution": {
     "iopub.execute_input": "2022-02-17T10:01:30.205883Z",
     "iopub.status.busy": "2022-02-17T10:01:30.205340Z",
     "iopub.status.idle": "2022-02-17T10:01:30.216725Z",
     "shell.execute_reply": "2022-02-17T10:01:30.217272Z",
     "shell.execute_reply.started": "2022-02-17T10:00:14.389006Z"
    },
    "papermill": {
     "duration": 0.1056,
     "end_time": "2022-02-17T10:01:30.217447",
     "exception": false,
     "start_time": "2022-02-17T10:01:30.111847",
     "status": "completed"
    },
    "tags": []
   },
   "outputs": [
    {
     "data": {
      "text/plain": [
       "(   PassengerId  Survived  Pclass  Sex  Age  SibSp  Parch  Fare  Embarked\n",
       " 0            1         0       3    0    1      1      0     0         0\n",
       " 1            2         1       1    1    2      1      0     8         1\n",
       " 2            3         1       3    1    1      0      0     2         0\n",
       " 3            4         1       1    1    2      1      0     8         0\n",
       " 4            5         0       3    0    2      0      0     2         0,\n",
       "    PassengerId  Pclass  Sex  Age  SibSp  Parch  Fare  Embarked\n",
       " 0          892       3    0    2      0      0     0         2\n",
       " 1          893       3    1    2      1      0     7         0\n",
       " 2          894       2    0    3      0      0     0         2\n",
       " 3          895       3    0    1      0      0     3         0\n",
       " 4          896       3    1    1      1      1     0         0)"
      ]
     },
     "execution_count": 57,
     "metadata": {},
     "output_type": "execute_result"
    }
   ],
   "source": [
    "train_data = train_data.drop(['FamilySize'], axis = 1)\n",
    "test_data = test_data.drop(['FamilySize'], axis = 1)\n",
    "train_data.head(5), test_data.head(5)"
   ]
  },
  {
   "cell_type": "code",
   "execution_count": 58,
   "id": "2a4aca05",
   "metadata": {
    "execution": {
     "iopub.execute_input": "2022-02-17T10:01:30.404725Z",
     "iopub.status.busy": "2022-02-17T10:01:30.403981Z",
     "iopub.status.idle": "2022-02-17T10:01:30.752600Z",
     "shell.execute_reply": "2022-02-17T10:01:30.751955Z",
     "shell.execute_reply.started": "2022-02-17T10:00:14.404355Z"
    },
    "papermill": {
     "duration": 0.443952,
     "end_time": "2022-02-17T10:01:30.752751",
     "exception": false,
     "start_time": "2022-02-17T10:01:30.308799",
     "status": "completed"
    },
    "tags": []
   },
   "outputs": [],
   "source": [
    "from sklearn.linear_model import LogisticRegression\n",
    "from sklearn.linear_model import LogisticRegressionCV\n",
    "from sklearn.linear_model import SGDClassifier \n",
    "from sklearn.svm import SVC, LinearSVC\n",
    "from sklearn.neighbors import KNeighborsClassifier\n",
    "from sklearn.naive_bayes import GaussianNB\n",
    "from sklearn.tree import DecisionTreeClassifier \n",
    "from sklearn.ensemble import RandomForestClassifier \n",
    "\n",
    "from sklearn.metrics import f1_score\n",
    "from sklearn.model_selection import cross_val_score"
   ]
  },
  {
   "cell_type": "code",
   "execution_count": 59,
   "id": "08d1ec7f",
   "metadata": {
    "execution": {
     "iopub.execute_input": "2022-02-17T10:01:30.941451Z",
     "iopub.status.busy": "2022-02-17T10:01:30.940826Z",
     "iopub.status.idle": "2022-02-17T10:01:30.949834Z",
     "shell.execute_reply": "2022-02-17T10:01:30.950431Z",
     "shell.execute_reply.started": "2022-02-17T10:00:14.414642Z"
    },
    "papermill": {
     "duration": 0.104179,
     "end_time": "2022-02-17T10:01:30.950591",
     "exception": false,
     "start_time": "2022-02-17T10:01:30.846412",
     "status": "completed"
    },
    "tags": []
   },
   "outputs": [
    {
     "data": {
      "text/plain": [
       "array([0, 1, 1, 1, 0, 0, 0, 0, 1, 1, 1, 1, 0, 0, 0, 1, 0, 1, 0, 1, 0, 1,\n",
       "       1, 1, 0, 1, 0, 0, 1, 0, 0, 1, 1, 0, 0, 0, 1, 0, 0, 1, 0, 0, 0, 1,\n",
       "       1, 0, 0, 1, 0, 0, 0, 0, 1, 1, 0, 1, 1, 0, 1, 0, 0, 1, 0, 0, 0, 1,\n",
       "       1, 0, 1, 0, 0, 0, 0, 0, 1, 0, 0, 0, 1, 1, 0, 1, 1, 0, 1, 1, 0, 0,\n",
       "       1, 0, 0, 0, 0, 0, 0, 0, 0, 1, 1, 0, 0, 0, 0, 0, 0, 0, 1, 1, 0, 1,\n",
       "       0, 0, 0, 0, 0, 0, 0, 0, 0, 0, 0, 0, 0, 1, 0, 1, 0, 1, 1, 0, 0, 0,\n",
       "       0, 1, 0, 0, 1, 0, 0, 0, 0, 1, 1, 0, 0, 0, 1, 0, 0, 0, 0, 1, 0, 0,\n",
       "       0, 0, 1, 0, 0, 0, 0, 1, 0, 0, 0, 1, 1, 0, 0, 0, 0, 0, 1, 0, 0, 0,\n",
       "       0, 0, 0, 0, 0, 0, 0, 1, 1, 0, 1, 1, 0, 0, 1, 0, 1, 1, 1, 1, 0, 0,\n",
       "       1, 0, 0, 0, 0, 0, 1, 0, 0, 1, 1, 1, 0, 1, 0, 0, 0, 1, 1, 0, 1, 0,\n",
       "       1, 0, 0, 0, 1, 0, 1, 0, 0, 0, 1, 0, 0, 1, 0, 0, 0, 1, 0, 0, 0, 1,\n",
       "       0, 0, 0, 0, 0, 1, 1, 0, 0, 0, 0, 0, 0, 1, 1, 1, 1, 1, 0, 1, 0, 0,\n",
       "       0, 0, 0, 1, 1, 1, 0, 1, 1, 0, 1, 1, 0, 0, 0, 1, 0, 0, 0, 1, 0, 0,\n",
       "       1, 0, 1, 1, 1, 1, 0, 0, 0, 0, 0, 0, 1, 1, 1, 1, 0, 1, 0, 1, 1, 1,\n",
       "       0, 1, 1, 1, 0, 0, 0, 1, 1, 0, 1, 1, 0, 0, 1, 1, 0, 1, 0, 1, 1, 1,\n",
       "       1, 0, 0, 0, 1, 0, 0, 1, 1, 0, 1, 1, 0, 0, 0, 1, 1, 1, 1, 0, 0, 0,\n",
       "       0, 0, 0, 0, 1, 0, 1, 1, 0, 0, 0, 0, 0, 0, 1, 1, 1, 1, 1, 0, 0, 0,\n",
       "       0, 1, 1, 0, 0, 0, 1, 1, 0, 1, 0, 0, 0, 1, 0, 1, 1, 1, 0, 1, 1, 0,\n",
       "       0, 0, 0, 1, 1, 0, 0, 0, 0, 0, 0, 1, 0, 0, 0, 0, 1, 0, 1, 0, 1, 1,\n",
       "       0, 0, 0, 0, 0, 0, 0, 0, 1, 1, 0, 1, 1, 1, 1, 0, 0, 1, 0, 1, 0, 0,\n",
       "       1, 0, 0, 1, 1, 1, 1, 1, 1, 1, 0, 0, 0, 1, 0, 1, 0, 1, 1, 0, 1, 0,\n",
       "       0, 0, 0, 0, 0, 0, 0, 1, 0, 0, 1, 1, 0, 0, 0, 0, 0, 1, 0, 0, 0, 1,\n",
       "       1, 0, 1, 0, 0, 1, 0, 0, 0, 0, 0, 0, 1, 0, 0, 0, 0, 0, 0, 0, 1, 0,\n",
       "       1, 1, 0, 1, 1, 0, 1, 1, 0, 0, 1, 0, 1, 0, 1, 0, 0, 1, 0, 0, 1, 0,\n",
       "       0, 0, 1, 0, 0, 1, 0, 1, 0, 1, 0, 1, 1, 0, 0, 1, 0, 0, 1, 1, 0, 1,\n",
       "       1, 0, 0, 1, 1, 0, 1, 0, 1, 1, 0, 0, 0, 0, 0, 0, 0, 0, 0, 1, 1, 1,\n",
       "       1, 1, 0, 0, 1, 1, 0, 1, 1, 1, 0, 0, 0, 1, 0, 1, 0, 0, 0, 1, 0, 0,\n",
       "       0, 0, 1, 0, 0, 1, 1, 0, 0, 0, 1, 0, 0, 1, 1, 1, 0, 0, 1, 0, 0, 1,\n",
       "       0, 0, 1, 0, 0, 1, 1, 0, 0, 0, 0, 1, 0, 0, 1, 0, 1, 0, 0, 1, 0, 0,\n",
       "       0, 0, 0, 1, 0, 1, 1, 1, 0, 1, 0, 1, 0, 1, 0, 1, 0, 0, 0, 0, 0, 0,\n",
       "       1, 0, 0, 0, 1, 0, 0, 0, 0, 1, 1, 0, 0, 1, 0, 0, 0, 1, 0, 1, 0, 1,\n",
       "       0, 0, 0, 0, 0, 0, 0, 1, 1, 1, 1, 0, 0, 0, 0, 1, 0, 0, 1, 1, 0, 0,\n",
       "       0, 0, 1, 1, 1, 1, 1, 0, 1, 0, 0, 0, 1, 1, 0, 0, 1, 0, 0, 0, 1, 0,\n",
       "       1, 1, 0, 0, 1, 0, 0, 0, 0, 0, 0, 1, 0, 0, 1, 0, 1, 0, 1, 0, 0, 1,\n",
       "       0, 0, 1, 1, 0, 0, 1, 1, 0, 0, 0, 1, 0, 0, 1, 1, 0, 1, 0, 0, 0, 0,\n",
       "       0, 0, 0, 0, 1, 0, 0, 1, 0, 1, 1, 1, 0, 0, 0, 0, 1, 0, 1, 0, 0, 0,\n",
       "       0, 0, 0, 0, 1, 1, 0, 0, 0, 1, 1, 1, 1, 0, 0, 0, 0, 1, 0, 0, 0, 0,\n",
       "       0, 0, 0, 0, 0, 0, 1, 1, 0, 1, 0, 0, 0, 1, 1, 1, 1, 1, 0, 0, 0, 1,\n",
       "       0, 0, 1, 1, 0, 0, 1, 0, 0, 0, 0, 0, 0, 1, 0, 0, 0, 1, 0, 1, 1, 1,\n",
       "       1, 0, 0, 0, 1, 0, 0, 1, 1, 0, 0, 1, 0, 1, 0, 0, 1, 1, 0, 0, 0, 1,\n",
       "       1, 0, 0, 0, 0, 0, 0, 1, 0, 1, 0])"
      ]
     },
     "execution_count": 59,
     "metadata": {},
     "output_type": "execute_result"
    }
   ],
   "source": [
    "X_train = train_data.drop(['Survived', 'PassengerId'], axis = 1)\n",
    "y_train = train_data['Survived'].values.reshape(-1,)\n",
    "y_train"
   ]
  },
  {
   "cell_type": "code",
   "execution_count": 60,
   "id": "c53c2564",
   "metadata": {
    "execution": {
     "iopub.execute_input": "2022-02-17T10:01:31.139005Z",
     "iopub.status.busy": "2022-02-17T10:01:31.138400Z",
     "iopub.status.idle": "2022-02-17T10:01:31.150073Z",
     "shell.execute_reply": "2022-02-17T10:01:31.150554Z",
     "shell.execute_reply.started": "2022-02-17T10:00:14.428495Z"
    },
    "papermill": {
     "duration": 0.107704,
     "end_time": "2022-02-17T10:01:31.150722",
     "exception": false,
     "start_time": "2022-02-17T10:01:31.043018",
     "status": "completed"
    },
    "tags": []
   },
   "outputs": [
    {
     "data": {
      "text/html": [
       "<div>\n",
       "<style scoped>\n",
       "    .dataframe tbody tr th:only-of-type {\n",
       "        vertical-align: middle;\n",
       "    }\n",
       "\n",
       "    .dataframe tbody tr th {\n",
       "        vertical-align: top;\n",
       "    }\n",
       "\n",
       "    .dataframe thead th {\n",
       "        text-align: right;\n",
       "    }\n",
       "</style>\n",
       "<table border=\"1\" class=\"dataframe\">\n",
       "  <thead>\n",
       "    <tr style=\"text-align: right;\">\n",
       "      <th></th>\n",
       "      <th>Pclass</th>\n",
       "      <th>Sex</th>\n",
       "      <th>Age</th>\n",
       "      <th>SibSp</th>\n",
       "      <th>Parch</th>\n",
       "      <th>Fare</th>\n",
       "      <th>Embarked</th>\n",
       "    </tr>\n",
       "  </thead>\n",
       "  <tbody>\n",
       "    <tr>\n",
       "      <th>0</th>\n",
       "      <td>3</td>\n",
       "      <td>0</td>\n",
       "      <td>1</td>\n",
       "      <td>1</td>\n",
       "      <td>0</td>\n",
       "      <td>0</td>\n",
       "      <td>0</td>\n",
       "    </tr>\n",
       "    <tr>\n",
       "      <th>1</th>\n",
       "      <td>1</td>\n",
       "      <td>1</td>\n",
       "      <td>2</td>\n",
       "      <td>1</td>\n",
       "      <td>0</td>\n",
       "      <td>8</td>\n",
       "      <td>1</td>\n",
       "    </tr>\n",
       "    <tr>\n",
       "      <th>2</th>\n",
       "      <td>3</td>\n",
       "      <td>1</td>\n",
       "      <td>1</td>\n",
       "      <td>0</td>\n",
       "      <td>0</td>\n",
       "      <td>2</td>\n",
       "      <td>0</td>\n",
       "    </tr>\n",
       "    <tr>\n",
       "      <th>3</th>\n",
       "      <td>1</td>\n",
       "      <td>1</td>\n",
       "      <td>2</td>\n",
       "      <td>1</td>\n",
       "      <td>0</td>\n",
       "      <td>8</td>\n",
       "      <td>0</td>\n",
       "    </tr>\n",
       "    <tr>\n",
       "      <th>4</th>\n",
       "      <td>3</td>\n",
       "      <td>0</td>\n",
       "      <td>2</td>\n",
       "      <td>0</td>\n",
       "      <td>0</td>\n",
       "      <td>2</td>\n",
       "      <td>0</td>\n",
       "    </tr>\n",
       "    <tr>\n",
       "      <th>...</th>\n",
       "      <td>...</td>\n",
       "      <td>...</td>\n",
       "      <td>...</td>\n",
       "      <td>...</td>\n",
       "      <td>...</td>\n",
       "      <td>...</td>\n",
       "      <td>...</td>\n",
       "    </tr>\n",
       "    <tr>\n",
       "      <th>886</th>\n",
       "      <td>2</td>\n",
       "      <td>0</td>\n",
       "      <td>1</td>\n",
       "      <td>0</td>\n",
       "      <td>0</td>\n",
       "      <td>4</td>\n",
       "      <td>0</td>\n",
       "    </tr>\n",
       "    <tr>\n",
       "      <th>887</th>\n",
       "      <td>1</td>\n",
       "      <td>1</td>\n",
       "      <td>1</td>\n",
       "      <td>0</td>\n",
       "      <td>0</td>\n",
       "      <td>7</td>\n",
       "      <td>0</td>\n",
       "    </tr>\n",
       "    <tr>\n",
       "      <th>888</th>\n",
       "      <td>3</td>\n",
       "      <td>1</td>\n",
       "      <td>1</td>\n",
       "      <td>1</td>\n",
       "      <td>2</td>\n",
       "      <td>6</td>\n",
       "      <td>0</td>\n",
       "    </tr>\n",
       "    <tr>\n",
       "      <th>889</th>\n",
       "      <td>1</td>\n",
       "      <td>0</td>\n",
       "      <td>1</td>\n",
       "      <td>0</td>\n",
       "      <td>0</td>\n",
       "      <td>7</td>\n",
       "      <td>1</td>\n",
       "    </tr>\n",
       "    <tr>\n",
       "      <th>890</th>\n",
       "      <td>3</td>\n",
       "      <td>0</td>\n",
       "      <td>1</td>\n",
       "      <td>0</td>\n",
       "      <td>0</td>\n",
       "      <td>1</td>\n",
       "      <td>2</td>\n",
       "    </tr>\n",
       "  </tbody>\n",
       "</table>\n",
       "<p>891 rows × 7 columns</p>\n",
       "</div>"
      ],
      "text/plain": [
       "     Pclass  Sex  Age  SibSp  Parch  Fare  Embarked\n",
       "0         3    0    1      1      0     0         0\n",
       "1         1    1    2      1      0     8         1\n",
       "2         3    1    1      0      0     2         0\n",
       "3         1    1    2      1      0     8         0\n",
       "4         3    0    2      0      0     2         0\n",
       "..      ...  ...  ...    ...    ...   ...       ...\n",
       "886       2    0    1      0      0     4         0\n",
       "887       1    1    1      0      0     7         0\n",
       "888       3    1    1      1      2     6         0\n",
       "889       1    0    1      0      0     7         1\n",
       "890       3    0    1      0      0     1         2\n",
       "\n",
       "[891 rows x 7 columns]"
      ]
     },
     "execution_count": 60,
     "metadata": {},
     "output_type": "execute_result"
    }
   ],
   "source": [
    "X_train"
   ]
  },
  {
   "cell_type": "code",
   "execution_count": 61,
   "id": "4cd4d9e3",
   "metadata": {
    "execution": {
     "iopub.execute_input": "2022-02-17T10:01:31.345843Z",
     "iopub.status.busy": "2022-02-17T10:01:31.345180Z",
     "iopub.status.idle": "2022-02-17T10:01:31.363927Z",
     "shell.execute_reply": "2022-02-17T10:01:31.363406Z",
     "shell.execute_reply.started": "2022-02-17T10:00:14.442366Z"
    },
    "papermill": {
     "duration": 0.119173,
     "end_time": "2022-02-17T10:01:31.364070",
     "exception": false,
     "start_time": "2022-02-17T10:01:31.244897",
     "status": "completed"
    },
    "tags": []
   },
   "outputs": [
    {
     "name": "stdout",
     "output_type": "stream",
     "text": [
      "mean_accuracy_log: 0.8035914702581369\n",
      "f1_log: 0.7336377473363775\n"
     ]
    }
   ],
   "source": [
    "model_log = LogisticRegression()\n",
    "model_log.fit(X_train, y_train)\n",
    "y_pred_log = model_log.predict(X_train)\n",
    "mean_accuracy_log = model_log.score(X_train, y_train)\n",
    "f1_log = f1_score(y_train, y_pred_log)\n",
    "print(\"mean_accuracy_log:\", mean_accuracy_log)\n",
    "print(\"f1_log:\", f1_log)"
   ]
  },
  {
   "cell_type": "code",
   "execution_count": 62,
   "id": "ab3c04d0",
   "metadata": {
    "execution": {
     "iopub.execute_input": "2022-02-17T10:01:31.563564Z",
     "iopub.status.busy": "2022-02-17T10:01:31.560463Z",
     "iopub.status.idle": "2022-02-17T10:01:31.566453Z",
     "shell.execute_reply": "2022-02-17T10:01:31.566927Z",
     "shell.execute_reply.started": "2022-02-17T10:00:14.466043Z"
    },
    "papermill": {
     "duration": 0.109056,
     "end_time": "2022-02-17T10:01:31.567090",
     "exception": false,
     "start_time": "2022-02-17T10:01:31.458034",
     "status": "completed"
    },
    "tags": []
   },
   "outputs": [
    {
     "data": {
      "text/html": [
       "<div>\n",
       "<style scoped>\n",
       "    .dataframe tbody tr th:only-of-type {\n",
       "        vertical-align: middle;\n",
       "    }\n",
       "\n",
       "    .dataframe tbody tr th {\n",
       "        vertical-align: top;\n",
       "    }\n",
       "\n",
       "    .dataframe thead th {\n",
       "        text-align: right;\n",
       "    }\n",
       "</style>\n",
       "<table border=\"1\" class=\"dataframe\">\n",
       "  <thead>\n",
       "    <tr style=\"text-align: right;\">\n",
       "      <th></th>\n",
       "      <th>Features</th>\n",
       "      <th>Correlation</th>\n",
       "    </tr>\n",
       "  </thead>\n",
       "  <tbody>\n",
       "    <tr>\n",
       "      <th>0</th>\n",
       "      <td>Pclass</td>\n",
       "      <td>-1.126855</td>\n",
       "    </tr>\n",
       "    <tr>\n",
       "      <th>1</th>\n",
       "      <td>Sex</td>\n",
       "      <td>2.599004</td>\n",
       "    </tr>\n",
       "    <tr>\n",
       "      <th>2</th>\n",
       "      <td>Age</td>\n",
       "      <td>-0.654501</td>\n",
       "    </tr>\n",
       "    <tr>\n",
       "      <th>3</th>\n",
       "      <td>SibSp</td>\n",
       "      <td>-0.341589</td>\n",
       "    </tr>\n",
       "    <tr>\n",
       "      <th>4</th>\n",
       "      <td>Parch</td>\n",
       "      <td>-0.069551</td>\n",
       "    </tr>\n",
       "    <tr>\n",
       "      <th>5</th>\n",
       "      <td>Fare</td>\n",
       "      <td>0.041764</td>\n",
       "    </tr>\n",
       "    <tr>\n",
       "      <th>6</th>\n",
       "      <td>Embarked</td>\n",
       "      <td>0.233086</td>\n",
       "    </tr>\n",
       "  </tbody>\n",
       "</table>\n",
       "</div>"
      ],
      "text/plain": [
       "   Features  Correlation\n",
       "0    Pclass    -1.126855\n",
       "1       Sex     2.599004\n",
       "2       Age    -0.654501\n",
       "3     SibSp    -0.341589\n",
       "4     Parch    -0.069551\n",
       "5      Fare     0.041764\n",
       "6  Embarked     0.233086"
      ]
     },
     "execution_count": 62,
     "metadata": {},
     "output_type": "execute_result"
    }
   ],
   "source": [
    "coeff_df = pd.DataFrame(X_train.columns)\n",
    "coeff_df.columns = ['Features']\n",
    "coeff_df['Correlation'] = pd.Series(model_log.coef_[0])\n",
    "coeff_df.sort_values(by = 'Correlation', ascending = False)\n",
    "coeff_df"
   ]
  },
  {
   "cell_type": "code",
   "execution_count": 63,
   "id": "7a93d638",
   "metadata": {
    "execution": {
     "iopub.execute_input": "2022-02-17T10:01:31.759929Z",
     "iopub.status.busy": "2022-02-17T10:01:31.759243Z",
     "iopub.status.idle": "2022-02-17T10:01:33.534642Z",
     "shell.execute_reply": "2022-02-17T10:01:33.535390Z",
     "shell.execute_reply.started": "2022-02-17T10:00:14.480569Z"
    },
    "papermill": {
     "duration": 1.873702,
     "end_time": "2022-02-17T10:01:33.535614",
     "exception": false,
     "start_time": "2022-02-17T10:01:31.661912",
     "status": "completed"
    },
    "tags": []
   },
   "outputs": [
    {
     "name": "stdout",
     "output_type": "stream",
     "text": [
      "mean_accuracy_logcv: 0.8035914702581369\n",
      "f1_logcv: 0.7336377473363775\n",
      "mean_cross_val_score_logcv: 0.7968614650681063\n"
     ]
    }
   ],
   "source": [
    "model_logcv = LogisticRegressionCV(cv = 5, random_state = 0)\n",
    "model_logcv.fit(X_train, y_train)\n",
    "y_pred_logcv = model_logcv.predict(X_train)\n",
    "mean_accuracy_logcv = model_logcv.score(X_train, y_train)\n",
    "f1_logcv = f1_score(y_train, y_pred_log)\n",
    "s_logcv = cross_val_score(model_logcv, X_train, y_train, cv = 5).mean()\n",
    "print(\"mean_accuracy_logcv:\", mean_accuracy_log)\n",
    "print(\"f1_logcv:\", f1_log)\n",
    "print(\"mean_cross_val_score_logcv:\", s_logcv)"
   ]
  },
  {
   "cell_type": "code",
   "execution_count": 64,
   "id": "e3ffb4d2",
   "metadata": {
    "execution": {
     "iopub.execute_input": "2022-02-17T10:01:33.735607Z",
     "iopub.status.busy": "2022-02-17T10:01:33.734671Z",
     "iopub.status.idle": "2022-02-17T10:01:33.753557Z",
     "shell.execute_reply": "2022-02-17T10:01:33.754470Z",
     "shell.execute_reply.started": "2022-02-17T10:00:16.187586Z"
    },
    "papermill": {
     "duration": 0.118523,
     "end_time": "2022-02-17T10:01:33.754786",
     "exception": false,
     "start_time": "2022-02-17T10:01:33.636263",
     "status": "completed"
    },
    "tags": []
   },
   "outputs": [
    {
     "name": "stdout",
     "output_type": "stream",
     "text": [
      "mean_accuracy_sgd: 0.8047138047138047\n",
      "f1_sgd: 0.7255520504731862\n"
     ]
    }
   ],
   "source": [
    "model_sgd = SGDClassifier()\n",
    "model_sgd.fit(X_train, y_train)\n",
    "y_pred_sgd = model_sgd.predict(X_train)\n",
    "mean_accuracy_sgd = model_sgd.score(X_train, y_train)\n",
    "f1_sgd = f1_score(y_train, y_pred_sgd)\n",
    "print(\"mean_accuracy_sgd:\", mean_accuracy_sgd)\n",
    "print(\"f1_sgd:\", f1_sgd)"
   ]
  },
  {
   "cell_type": "code",
   "execution_count": 65,
   "id": "e2fd5e18",
   "metadata": {
    "execution": {
     "iopub.execute_input": "2022-02-17T10:01:33.979162Z",
     "iopub.status.busy": "2022-02-17T10:01:33.978049Z",
     "iopub.status.idle": "2022-02-17T10:01:34.116385Z",
     "shell.execute_reply": "2022-02-17T10:01:34.115639Z",
     "shell.execute_reply.started": "2022-02-17T10:00:16.205863Z"
    },
    "papermill": {
     "duration": 0.266102,
     "end_time": "2022-02-17T10:01:34.116533",
     "exception": false,
     "start_time": "2022-02-17T10:01:33.850431",
     "status": "completed"
    },
    "tags": []
   },
   "outputs": [
    {
     "name": "stdout",
     "output_type": "stream",
     "text": [
      "mean_accuracy_svc: 0.8047138047138047\n",
      "f1_svc: 0.7255520504731862\n",
      "mean_cross_val_score_svc: 0.8024543343167411\n"
     ]
    }
   ],
   "source": [
    "model_svc = SVC()\n",
    "model_svc.fit(X_train, y_train)\n",
    "y_pred_svc = model_svc.predict(X_train)\n",
    "mean_accuracy_svc = model_svc.score(X_train, y_train)\n",
    "f1_svc = f1_score(y_train, y_pred_svc)\n",
    "s_svc = cross_val_score(model_svc, X_train, y_train, cv = 5).mean()\n",
    "print(\"mean_accuracy_svc:\", mean_accuracy_svc)\n",
    "print(\"f1_svc:\", f1_svc)\n",
    "print(\"mean_cross_val_score_svc:\", s_svc)"
   ]
  },
  {
   "cell_type": "code",
   "execution_count": 66,
   "id": "e15773f5",
   "metadata": {
    "execution": {
     "iopub.execute_input": "2022-02-17T10:01:34.314899Z",
     "iopub.status.busy": "2022-02-17T10:01:34.314247Z",
     "iopub.status.idle": "2022-02-17T10:01:34.822908Z",
     "shell.execute_reply": "2022-02-17T10:01:34.822415Z",
     "shell.execute_reply.started": "2022-02-17T10:00:16.345521Z"
    },
    "papermill": {
     "duration": 0.610734,
     "end_time": "2022-02-17T10:01:34.823041",
     "exception": false,
     "start_time": "2022-02-17T10:01:34.212307",
     "status": "completed"
    },
    "tags": []
   },
   "outputs": [
    {
     "name": "stdout",
     "output_type": "stream",
     "text": [
      "mean_accuracy_lsvc: 0.8013468013468014\n",
      "f1_lsvc: 0.7297709923664122\n",
      "mean_cross_val_score_lsvc: 0.7934906785512523\n"
     ]
    }
   ],
   "source": [
    "model_lsvc = LinearSVC(max_iter = 5000)\n",
    "model_lsvc.fit(X_train, y_train)\n",
    "y_pred_lsvc = model_lsvc.predict(X_train)\n",
    "mean_accuracy_lsvc = model_lsvc.score(X_train, y_train)\n",
    "f1_lsvc = f1_score(y_train, y_pred_lsvc)\n",
    "s_lsvc = cross_val_score(model_lsvc, X_train, y_train, cv = 5).mean()\n",
    "print(\"mean_accuracy_lsvc:\", mean_accuracy_lsvc)\n",
    "print(\"f1_lsvc:\", f1_lsvc)\n",
    "print(\"mean_cross_val_score_lsvc:\", s_lsvc)"
   ]
  },
  {
   "cell_type": "code",
   "execution_count": 67,
   "id": "1bc5771a",
   "metadata": {
    "execution": {
     "iopub.execute_input": "2022-02-17T10:01:35.025528Z",
     "iopub.status.busy": "2022-02-17T10:01:35.024762Z",
     "iopub.status.idle": "2022-02-17T10:01:35.170046Z",
     "shell.execute_reply": "2022-02-17T10:01:35.169500Z",
     "shell.execute_reply.started": "2022-02-17T10:00:16.913924Z"
    },
    "papermill": {
     "duration": 0.249007,
     "end_time": "2022-02-17T10:01:35.170181",
     "exception": false,
     "start_time": "2022-02-17T10:01:34.921174",
     "status": "completed"
    },
    "tags": []
   },
   "outputs": [
    {
     "name": "stdout",
     "output_type": "stream",
     "text": [
      "mean_accuracy_knn: 0.8518518518518519\n",
      "f1_knn: 0.8075801749271136\n",
      "mean_cross_val_score_knn: 0.7800075324838366\n"
     ]
    }
   ],
   "source": [
    "model_knn = KNeighborsClassifier(n_neighbors = 3)\n",
    "model_knn.fit(X_train, y_train)\n",
    "y_pred_knn = model_knn.predict(X_train)\n",
    "mean_accuracy_knn = model_knn.score(X_train, y_train)\n",
    "f1_knn = f1_score(y_train, y_pred_knn)\n",
    "s_knn = cross_val_score(model_knn, X_train, y_train, cv = 5).mean()\n",
    "print(\"mean_accuracy_knn:\", mean_accuracy_knn)\n",
    "print(\"f1_knn:\", f1_knn)\n",
    "print(\"mean_cross_val_score_knn:\", s_knn)"
   ]
  },
  {
   "cell_type": "code",
   "execution_count": 68,
   "id": "898c299b",
   "metadata": {
    "execution": {
     "iopub.execute_input": "2022-02-17T10:01:35.372277Z",
     "iopub.status.busy": "2022-02-17T10:01:35.371496Z",
     "iopub.status.idle": "2022-02-17T10:01:35.401623Z",
     "shell.execute_reply": "2022-02-17T10:01:35.402129Z",
     "shell.execute_reply.started": "2022-02-17T10:00:17.068300Z"
    },
    "papermill": {
     "duration": 0.135164,
     "end_time": "2022-02-17T10:01:35.402324",
     "exception": false,
     "start_time": "2022-02-17T10:01:35.267160",
     "status": "completed"
    },
    "tags": []
   },
   "outputs": [
    {
     "name": "stdout",
     "output_type": "stream",
     "text": [
      "mean_accuracy_gnb: 0.7643097643097643\n",
      "f1_gnb: 0.7222222222222222\n",
      "mean_cross_val_score_gnb: 0.765457284539577\n"
     ]
    }
   ],
   "source": [
    "model_gnb = GaussianNB()\n",
    "model_gnb.fit(X_train, y_train)\n",
    "y_pred_gnb = model_gnb.predict(X_train)\n",
    "mean_accuracy_gnb = model_gnb.score(X_train, y_train)\n",
    "f1_gnb = f1_score(y_train, y_pred_gnb)\n",
    "s_gnb = cross_val_score(model_gnb, X_train, y_train, cv = 5).mean()\n",
    "print(\"mean_accuracy_gnb:\", mean_accuracy_gnb)\n",
    "print(\"f1_gnb:\", f1_gnb)\n",
    "print(\"mean_cross_val_score_gnb:\", s_gnb)"
   ]
  },
  {
   "cell_type": "code",
   "execution_count": 69,
   "id": "ca2524c8",
   "metadata": {
    "execution": {
     "iopub.execute_input": "2022-02-17T10:01:35.602337Z",
     "iopub.status.busy": "2022-02-17T10:01:35.601405Z",
     "iopub.status.idle": "2022-02-17T10:01:35.637724Z",
     "shell.execute_reply": "2022-02-17T10:01:35.636655Z",
     "shell.execute_reply.started": "2022-02-17T10:00:17.109961Z"
    },
    "papermill": {
     "duration": 0.139949,
     "end_time": "2022-02-17T10:01:35.637971",
     "exception": false,
     "start_time": "2022-02-17T10:01:35.498022",
     "status": "completed"
    },
    "tags": []
   },
   "outputs": [
    {
     "name": "stdout",
     "output_type": "stream",
     "text": [
      "mean_accuracy_dt: 0.8956228956228957\n",
      "f1_dt: 0.8530805687203792\n",
      "mean_cross_val_score_dt: 0.7878727010231624\n"
     ]
    }
   ],
   "source": [
    "model_dt = DecisionTreeClassifier()\n",
    "model_dt.fit(X_train, y_train)\n",
    "y_pred_dt = model_dt.predict(X_train)\n",
    "mean_accuracy_dt = model_dt.score(X_train, y_train)\n",
    "f1_dt = f1_score(y_train, y_pred_dt)\n",
    "s_dt = cross_val_score(model_dt, X_train, y_train, cv = 5).mean()\n",
    "print(\"mean_accuracy_dt:\", mean_accuracy_dt)\n",
    "print(\"f1_dt:\", f1_dt)\n",
    "print(\"mean_cross_val_score_dt:\", s_dt)"
   ]
  },
  {
   "cell_type": "code",
   "execution_count": 70,
   "id": "bec9c1ca",
   "metadata": {
    "execution": {
     "iopub.execute_input": "2022-02-17T10:01:35.836367Z",
     "iopub.status.busy": "2022-02-17T10:01:35.835394Z",
     "iopub.status.idle": "2022-02-17T10:01:37.191356Z",
     "shell.execute_reply": "2022-02-17T10:01:37.192063Z",
     "shell.execute_reply.started": "2022-02-17T10:00:17.152468Z"
    },
    "papermill": {
     "duration": 1.455676,
     "end_time": "2022-02-17T10:01:37.192307",
     "exception": false,
     "start_time": "2022-02-17T10:01:35.736631",
     "status": "completed"
    },
    "tags": []
   },
   "outputs": [
    {
     "name": "stdout",
     "output_type": "stream",
     "text": [
      "mean_accuracy_rf: 0.8956228956228957\n",
      "f1_rf: 0.8575803981623276\n",
      "mean_cross_val_score_rf: 0.8013181846713955\n"
     ]
    }
   ],
   "source": [
    "model_rf = RandomForestClassifier(n_estimators = 100, random_state = 1)\n",
    "model_rf.fit(X_train, y_train)\n",
    "y_pred_rf = model_rf.predict(X_train)\n",
    "mean_accuracy_rf = model_rf.score(X_train, y_train)\n",
    "f1_rf = f1_score(y_train, y_pred_rf)\n",
    "s_rf = cross_val_score(model_rf, X_train, y_train, cv = 5).mean()\n",
    "print(\"mean_accuracy_rf:\", mean_accuracy_rf)\n",
    "print(\"f1_rf:\", f1_rf)\n",
    "print(\"mean_cross_val_score_rf:\", s_rf)"
   ]
  },
  {
   "cell_type": "code",
   "execution_count": 71,
   "id": "66973a04",
   "metadata": {
    "execution": {
     "iopub.execute_input": "2022-02-17T10:01:37.392186Z",
     "iopub.status.busy": "2022-02-17T10:01:37.391536Z",
     "iopub.status.idle": "2022-02-17T10:01:38.825807Z",
     "shell.execute_reply": "2022-02-17T10:01:38.826384Z",
     "shell.execute_reply.started": "2022-02-17T10:00:18.556426Z"
    },
    "papermill": {
     "duration": 1.535405,
     "end_time": "2022-02-17T10:01:38.826576",
     "exception": false,
     "start_time": "2022-02-17T10:01:37.291171",
     "status": "completed"
    },
    "tags": []
   },
   "outputs": [
    {
     "name": "stdout",
     "output_type": "stream",
     "text": [
      "mean_accuracy_rf1: 0.8956228956228957\n",
      "f1_rf1: 0.8575803981623276\n",
      "mean_cross_val_score_rf1: 0.797966229364133\n"
     ]
    }
   ],
   "source": [
    "model_rf1 = RandomForestClassifier(n_estimators = 100, max_features = 5, random_state = 1)\n",
    "model_rf1.fit(X_train, y_train)\n",
    "y_pred_rf1 = model_rf1.predict(X_train)\n",
    "mean_accuracy_rf1 = model_rf1.score(X_train, y_train)\n",
    "f1_rf1 = f1_score(y_train, y_pred_rf1)\n",
    "s_rf1 = cross_val_score(model_rf1, X_train, y_train, cv = 5).mean()\n",
    "print(\"mean_accuracy_rf1:\", mean_accuracy_rf1)\n",
    "print(\"f1_rf1:\", f1_rf1)\n",
    "print(\"mean_cross_val_score_rf1:\", s_rf1)"
   ]
  },
  {
   "cell_type": "code",
   "execution_count": 72,
   "id": "000cab8c",
   "metadata": {
    "execution": {
     "iopub.execute_input": "2022-02-17T10:01:39.031943Z",
     "iopub.status.busy": "2022-02-17T10:01:39.030952Z",
     "iopub.status.idle": "2022-02-17T10:01:39.529896Z",
     "shell.execute_reply": "2022-02-17T10:01:39.529268Z",
     "shell.execute_reply.started": "2022-02-17T10:00:20.035613Z"
    },
    "papermill": {
     "duration": 0.600662,
     "end_time": "2022-02-17T10:01:39.530038",
     "exception": false,
     "start_time": "2022-02-17T10:01:38.929376",
     "status": "completed"
    },
    "tags": []
   },
   "outputs": [
    {
     "name": "stdout",
     "output_type": "stream",
     "text": [
      "{'n_neighbors': 9}\n",
      "0.7890151277383718\n"
     ]
    }
   ],
   "source": [
    "from sklearn.model_selection import GridSearchCV\n",
    "knn2 = KNeighborsClassifier()\n",
    "para_grid = {'n_neighbors': np.arange(2, 10)}\n",
    "knn_gscv = GridSearchCV(knn2, para_grid)\n",
    "knn_gscv.fit(X_train, y_train)\n",
    "print(knn_gscv.best_params_)\n",
    "print(knn_gscv.best_score_)"
   ]
  },
  {
   "cell_type": "code",
   "execution_count": 73,
   "id": "0ad635c9",
   "metadata": {
    "execution": {
     "iopub.execute_input": "2022-02-17T10:01:39.737495Z",
     "iopub.status.busy": "2022-02-17T10:01:39.736798Z",
     "iopub.status.idle": "2022-02-17T10:01:39.880605Z",
     "shell.execute_reply": "2022-02-17T10:01:39.881095Z",
     "shell.execute_reply.started": "2022-02-17T10:00:20.531929Z"
    },
    "papermill": {
     "duration": 0.249314,
     "end_time": "2022-02-17T10:01:39.881277",
     "exception": false,
     "start_time": "2022-02-17T10:01:39.631963",
     "status": "completed"
    },
    "tags": []
   },
   "outputs": [
    {
     "name": "stdout",
     "output_type": "stream",
     "text": [
      "mean_accuracy_knn2: 0.8361391694725028\n",
      "f1_knn2: 0.7711598746081504\n",
      "mean_cross_val_score_knn2: 0.7890151277383718\n"
     ]
    }
   ],
   "source": [
    "model_knn2 = KNeighborsClassifier(n_neighbors  = knn_gscv.best_params_['n_neighbors'])\n",
    "model_knn2.fit(X_train, y_train)\n",
    "y_pred_knn2 = model_knn2.predict(X_train)\n",
    "mean_accuracy_knn2 = model_knn2.score(X_train, y_train)\n",
    "f1_knn2 = f1_score(y_train, y_pred_knn2)\n",
    "s_knn2 = cross_val_score(model_knn2, X_train, y_train, cv = 5).mean()\n",
    "print(\"mean_accuracy_knn2:\", mean_accuracy_knn2)\n",
    "print(\"f1_knn2:\", f1_knn2)\n",
    "print(\"mean_cross_val_score_knn2:\", s_knn2)"
   ]
  },
  {
   "cell_type": "code",
   "execution_count": 74,
   "id": "8a054abd",
   "metadata": {
    "execution": {
     "iopub.execute_input": "2022-02-17T10:01:40.083387Z",
     "iopub.status.busy": "2022-02-17T10:01:40.082744Z",
     "iopub.status.idle": "2022-02-17T10:01:40.089413Z",
     "shell.execute_reply": "2022-02-17T10:01:40.090023Z",
     "shell.execute_reply.started": "2022-02-17T10:00:20.688072Z"
    },
    "papermill": {
     "duration": 0.111445,
     "end_time": "2022-02-17T10:01:40.090204",
     "exception": false,
     "start_time": "2022-02-17T10:01:39.978759",
     "status": "completed"
    },
    "tags": []
   },
   "outputs": [
    {
     "data": {
      "text/plain": [
       "array([[518,  31],\n",
       "       [ 62, 280]])"
      ]
     },
     "execution_count": 74,
     "metadata": {},
     "output_type": "execute_result"
    }
   ],
   "source": [
    "from sklearn.metrics import confusion_matrix\n",
    "cnfs = confusion_matrix(y_train, y_pred_rf)\n",
    "cnfs"
   ]
  },
  {
   "cell_type": "code",
   "execution_count": 75,
   "id": "e73890ff",
   "metadata": {
    "execution": {
     "iopub.execute_input": "2022-02-17T10:01:40.290260Z",
     "iopub.status.busy": "2022-02-17T10:01:40.289232Z",
     "iopub.status.idle": "2022-02-17T10:01:40.318299Z",
     "shell.execute_reply": "2022-02-17T10:01:40.317753Z",
     "shell.execute_reply.started": "2022-02-17T10:00:20.699443Z"
    },
    "papermill": {
     "duration": 0.130014,
     "end_time": "2022-02-17T10:01:40.318445",
     "exception": false,
     "start_time": "2022-02-17T10:01:40.188431",
     "status": "completed"
    },
    "tags": []
   },
   "outputs": [],
   "source": [
    "X_test = pd.get_dummies(test_data.drop(['PassengerId'], axis = 1))\n",
    "predictions = model_rf.predict(X_test)\n",
    "final = pd.DataFrame({'PassengerId': test_data.PassengerId, 'Survived': predictions})\n",
    "final.to_csv('submission.csv', index=False)"
   ]
  }
 ],
 "metadata": {
  "kernelspec": {
   "display_name": "Python 3",
   "language": "python",
   "name": "python3"
  },
  "language_info": {
   "codemirror_mode": {
    "name": "ipython",
    "version": 3
   },
   "file_extension": ".py",
   "mimetype": "text/x-python",
   "name": "python",
   "nbconvert_exporter": "python",
   "pygments_lexer": "ipython3",
   "version": "3.7.12"
  },
  "papermill": {
   "default_parameters": {},
   "duration": 50.37148,
   "end_time": "2022-02-17T10:01:41.429514",
   "environment_variables": {},
   "exception": null,
   "input_path": "__notebook__.ipynb",
   "output_path": "__notebook__.ipynb",
   "parameters": {},
   "start_time": "2022-02-17T10:00:51.058034",
   "version": "2.3.3"
  }
 },
 "nbformat": 4,
 "nbformat_minor": 5
}
